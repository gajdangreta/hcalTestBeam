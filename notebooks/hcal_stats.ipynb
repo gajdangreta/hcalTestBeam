{
 "cells": [
  {
   "cell_type": "code",
   "execution_count": 2,
   "id": "504bd8e6",
   "metadata": {},
   "outputs": [],
   "source": [
    "import pandas as pd\n",
    "import numpy as np\n",
    "import matplotlib.pyplot as plt"
   ]
  },
  {
   "cell_type": "code",
   "execution_count": 3,
   "id": "df5e9bff",
   "metadata": {},
   "outputs": [],
   "source": [
    "run300=pd.read_csv(\"../data/runData/run_300.csv\", sep=',')\n",
    "run305=pd.read_csv(\"../data/runData/run_305.csv\", sep=',')\n",
    "run307=pd.read_csv(\"../data/runData/run_307.csv\", sep=',')\n",
    "\n",
    "run300_f=pd.read_csv(\"../data/runData/run_300_filtered.csv\", sep=',')\n",
    "run305_f=pd.read_csv(\"../data/runData/run_305_filtered.csv\", sep=',')\n",
    "run307_f=pd.read_csv(\"../data/runData/run_307_filtered.csv\", sep=',')"
   ]
  },
  {
   "cell_type": "code",
   "execution_count": 7,
   "id": "0b2b2e9f",
   "metadata": {},
   "outputs": [],
   "source": [
    "run300_e=len(run300.pf_event.unique())\n",
    "run305_e=len(run305.pf_event.unique())\n",
    "run307_e=len(run307.pf_event.unique())\n",
    "\n",
    "run300_f_e=len(run300_f.event.unique())\n",
    "run305_f_e=len(run305_f.event.unique())\n",
    "run307_f_e=len(run307_f.event.unique())"
   ]
  },
  {
   "cell_type": "code",
   "execution_count": 17,
   "id": "18b38962",
   "metadata": {},
   "outputs": [
    {
     "data": {
      "text/plain": [
       "30127"
      ]
     },
     "execution_count": 17,
     "metadata": {},
     "output_type": "execute_result"
    }
   ],
   "source": [
    "run307_f_e"
   ]
  },
  {
   "cell_type": "code",
   "execution_count": null,
   "id": "6e641cd5",
   "metadata": {},
   "outputs": [],
   "source": []
  }
 ],
 "metadata": {
  "kernelspec": {
   "display_name": "Python 3 (ipykernel)",
   "language": "python",
   "name": "python3"
  },
  "language_info": {
   "codemirror_mode": {
    "name": "ipython",
    "version": 3
   },
   "file_extension": ".py",
   "mimetype": "text/x-python",
   "name": "python",
   "nbconvert_exporter": "python",
   "pygments_lexer": "ipython3",
   "version": "3.9.7"
  }
 },
 "nbformat": 4,
 "nbformat_minor": 5
}
