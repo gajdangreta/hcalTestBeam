{
 "cells": [
  {
   "cell_type": "code",
   "execution_count": 1,
   "id": "01b19038",
   "metadata": {},
   "outputs": [],
   "source": [
    "import numpy as np\n",
    "import matplotlib.pyplot as plt\n",
    "import pandas as pd\n",
    "from tqdm import tqdm"
   ]
  },
  {
   "cell_type": "code",
   "execution_count": 2,
   "id": "c8c3598b",
   "metadata": {},
   "outputs": [],
   "source": [
    "pedestals=pd.read_csv(\"pedestals.csv\", sep=',')\n",
    "pedestals=pedestals.drop(columns=['pedestal_per_time_sample', 'std_dev', 'mean'])"
   ]
  },
  {
   "cell_type": "code",
   "execution_count": 3,
   "id": "82647529",
   "metadata": {},
   "outputs": [],
   "source": [
    "mips=pd.read_csv(\"mip.csv\", sep=',')\n",
    "mips=mips.drop(columns=['eta', 'sigma', 'A'])"
   ]
  },
  {
   "cell_type": "code",
   "execution_count": 4,
   "id": "0debfc45",
   "metadata": {},
   "outputs": [],
   "source": [
    "def choose_bar(df,layer, strip):\n",
    "    df=df[df[\"strip\"]==strip]\n",
    "    df=df[df[\"layer\"]==layer]\n",
    "    return df"
   ]
  },
  {
   "cell_type": "code",
   "execution_count": 5,
   "id": "ff8f95c8",
   "metadata": {},
   "outputs": [],
   "source": [
    "def choose_layer(df,layer):\n",
    "    df=df[df['layer']==layer]\n",
    "    return df"
   ]
  },
  {
   "cell_type": "code",
   "execution_count": 6,
   "id": "d43af2f4",
   "metadata": {},
   "outputs": [],
   "source": [
    "def drop_empty(df):\n",
    "    events=[]\n",
    "    adc_0=[]\n",
    "    adc_1=[]\n",
    "    l=[]\n",
    "    s=[]\n",
    "    data=[]\n",
    "\n",
    "    layers=np.arange(1,20)\n",
    "    strips=np.arange(0,12)\n",
    "    \n",
    "    for layer in layers:\n",
    "        for strip in strips:\n",
    "            el=choose_bar(df,layer,strip)\n",
    "            peds=choose_bar(pedestals,layer,strip)\n",
    "            mip=choose_bar(mips, layer, strip)\n",
    "\n",
    "            if not peds.empty: # need to check whether the strip exists \n",
    "                el=el[el[\"adc_sum_end0\"]>1.2*peds.iloc[0,-1]] # gets rid of bars where there's no data in end0\n",
    "                el=el[el[\"adc_sum_end1\"]>1.2*peds.iloc[1,-1]] # gets rid of bars where there's no data in end1\n",
    "                \n",
    "                el.loc[:,\"adc_sum_end0\"]-=peds.iloc[0,-1] # subtracting pedestals\n",
    "                el.loc[:,\"adc_sum_end1\"]-=peds.iloc[1,-1]\n",
    "                \n",
    "                el.loc[:,\"adc_sum_end0\"]*=(4.66/mip.iloc[0,-1]) # converting to energy\n",
    "                el.loc[:,\"adc_sum_end1\"]*=(4.66/mip.iloc[1,-1])\n",
    "                \n",
    "                data.extend(el.values.tolist())\n",
    "    \n",
    "    df_s=pd.DataFrame(data, columns=['event', 'adc_sum_end0', 'layer', 'strip', 'adc_sum_end1'])\n",
    "    \n",
    "    return df_s"
   ]
  },
  {
   "cell_type": "code",
   "execution_count": 7,
   "id": "7cf49dfd",
   "metadata": {},
   "outputs": [],
   "source": [
    "def get_event(df, event):\n",
    "    df=df[df[\"event\"]==event]\n",
    "    return df"
   ]
  },
  {
   "cell_type": "code",
   "execution_count": 8,
   "id": "e14edd82",
   "metadata": {},
   "outputs": [],
   "source": [
    "def drop_nonelectron(df, bl_num):\n",
    "    events=df.event.unique()\n",
    "    \n",
    "    # check first layer\n",
    "    for event in tqdm(events):\n",
    "        el=get_event(df, event)\n",
    "        el_1=choose_layer(el, 1)\n",
    "        if el_1.shape[0]>1:\n",
    "            df=df[df.event!=event]\n",
    "    \n",
    "    # check bl_num number of back layers\n",
    "        else:\n",
    "            el_i=el[el['layer']>=20-bl_num]\n",
    "            if el_i.shape[0]:\n",
    "                df=df[df.event!=event]\n",
    "            \n",
    "    return df"
   ]
  },
  {
   "cell_type": "code",
   "execution_count": 98,
   "id": "a4e90340",
   "metadata": {},
   "outputs": [],
   "source": [
    "electron=pd.read_csv(\"run_300.csv\", sep=',')\n",
    "electron=electron.drop(columns=['tot_end0', 'toa_end0','tot_end1', 'toa_end1', 'adc_max_end0', 'adc_max_end1',\n",
    "                                'pf_spill', 'adc_mean_end0', 'adc_mean_end1', 'pf_ticks'])\n",
    "\n",
    "electron=electron.astype({\"adc_sum_end0\":float,\"adc_sum_end1\":float}) "
   ]
  },
  {
   "cell_type": "code",
   "execution_count": 99,
   "id": "791a312b",
   "metadata": {},
   "outputs": [],
   "source": [
    "electron=drop_empty(electron)"
   ]
  },
  {
   "cell_type": "code",
   "execution_count": 100,
   "id": "b18dea4c",
   "metadata": {},
   "outputs": [
    {
     "name": "stderr",
     "output_type": "stream",
     "text": [
      "100%|████████████████████████████████████████████████████████████████████████████| 71414/71414 [35:59<00:00, 33.07it/s]\n"
     ]
    }
   ],
   "source": [
    "electron=drop_nonelectron(electron,7)"
   ]
  },
  {
   "cell_type": "code",
   "execution_count": 120,
   "id": "e8bd70fc",
   "metadata": {},
   "outputs": [
    {
     "data": {
      "image/png": "[encoded data removed]",
      "text/plain": [
       "<Figure size 432x288 with 1 Axes>"
      ]
     },
     "metadata": {
      "needs_background": "light"
     },
     "output_type": "display_data"
    }
   ],
   "source": [
    "adc_by_event=electron.groupby(['event']).count().drop(columns=[\"layer\", \"strip\"]).reset_index()\n",
    "plt.rcParams[\"figure.figsize\"]=(6,4)\n",
    "plt.hist(adc_by_event[\"adc_sum_end0\"],range=(0,40), bins=40, color=\"palegreen\", edgecolor=\"black\")\n",
    "plt.ylabel(\"Frequency\", fontsize=15)\n",
    "plt.xlabel(\"Number of bars hit\", fontsize=15)\n",
    "plt.title(\"ADC distribution (Run 300)\", fontsize=20)\n",
    "plt.savefig(\"run_300_adc_dist.png\", bbox_inches='tight')\n",
    "plt.show()"
   ]
  },
  {
   "cell_type": "code",
   "execution_count": 121,
   "id": "573362f0",
   "metadata": {},
   "outputs": [
    {
     "name": "stderr",
     "output_type": "stream",
     "text": [
      "100%|███████████████████████████████████████████████████████████████████████████| 28741/28741 [00:42<00:00, 676.15it/s]\n"
     ]
    }
   ],
   "source": [
    "events=electron.event.unique()\n",
    "shares=np.zeros(40)\n",
    "for event in tqdm(events):\n",
    "    single=get_event(electron, event)\n",
    "    sum_adc=(sum(single[\"adc_sum_end0\"])+sum(single[\"adc_sum_end1\"]))/2\n",
    "    adcs=np.sort((np.array(single[\"adc_sum_end0\"])+np.array(single[\"adc_sum_end1\"]))/2)[::-1]\n",
    "    l=40-len(adcs)\n",
    "    adcs=np.append(adcs,np.zeros(l))\n",
    "    shares=np.add(shares, adcs)\n",
    "shares=np.divide(shares, len(events))"
   ]
  },
  {
   "cell_type": "code",
   "execution_count": 125,
   "id": "d504b0f7",
   "metadata": {},
   "outputs": [],
   "source": [
    "s=sum(shares[10:])\n",
    "short_shares=shares[:10]\n",
    "short_shares=np.append(short_shares,s)"
   ]
  },
  {
   "cell_type": "code",
   "execution_count": 131,
   "id": "e1ea1a73",
   "metadata": {},
   "outputs": [],
   "source": [
    "colors=['#a6cee3', '#1f78b4', '#b2df8a', '#33a02c', '#fb9a99', '#e31a1c', '#fdbf6f',\n",
    "        '#ff7f00', '#cab2d6', '#6a3d9a', '#ffff99', '#f0027f']\n",
    "labels=[\"1st\", \"2nd\", \"3rd\", \"4th\",\"5th\", \"6th\",\"7th\", \"8th\", \"9th\", \"10th\", \"Rest\"]"
   ]
  },
  {
   "cell_type": "code",
   "execution_count": 133,
   "id": "1bd2902b",
   "metadata": {},
   "outputs": [
    {
     "data": {
      "image/png": "[encoded data removed]",
      "text/plain": [
       "<Figure size 648x432 with 1 Axes>"
      ]
     },
     "metadata": {},
     "output_type": "display_data"
    }
   ],
   "source": [
    "plt.rcParams[\"figure.figsize\"]=(9,6)\n",
    "plt.pie(short_shares, colors=colors, labels=labels, autopct='%1.2f%%', pctdistance=0.75)\n",
    "plt.title(\"Average distribution of energy in an event\", fontsize=15)\n",
    "plt.savefig(\"plots/run_300_average_piechart.png\")\n",
    "plt.show()"
   ]
  },
  {
   "cell_type": "code",
   "execution_count": null,
   "id": "735c727a",
   "metadata": {},
   "outputs": [],
   "source": []
  }
 ],
 "metadata": {
  "kernelspec": {
   "display_name": "Python 3 (ipykernel)",
   "language": "python",
   "name": "python3"
  },
  "language_info": {
   "codemirror_mode": {
    "name": "ipython",
    "version": 3
   },
   "file_extension": ".py",
   "mimetype": "text/x-python",
   "name": "python",
   "nbconvert_exporter": "python",
   "pygments_lexer": "ipython3",
   "version": "3.9.7"
  }
 },
 "nbformat": 4,
 "nbformat_minor": 5
}
