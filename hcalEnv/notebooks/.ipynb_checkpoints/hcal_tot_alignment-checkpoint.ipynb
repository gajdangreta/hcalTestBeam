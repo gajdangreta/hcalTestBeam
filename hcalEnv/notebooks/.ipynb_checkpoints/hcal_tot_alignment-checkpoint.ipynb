{
 "cells": [
  {
   "cell_type": "code",
   "execution_count": 1,
   "id": "434fd178",
   "metadata": {},
   "outputs": [],
   "source": [
    "import numpy as np\n",
    "import matplotlib.pyplot as plt\n",
    "import pandas as pd\n",
    "from landaupy import langauss\n",
    "from scipy.optimize import curve_fit\n",
    "from scipy.optimize import OptimizeWarning\n",
    "from tqdm import tqdm\n",
    "import warnings\n",
    "from scipy.stats import chisquare\n",
    "import sys\n",
    "sys.path.append(\"../src\")\n",
    "from event_selections import *\n",
    "from scipy.integrate import quad"
   ]
  },
  {
   "cell_type": "code",
   "execution_count": 2,
   "id": "cf9774a1",
   "metadata": {},
   "outputs": [
    {
     "data": {
      "text/plain": [
       "{'divide': 'warn', 'over': 'warn', 'under': 'ignore', 'invalid': 'warn'}"
      ]
     },
     "execution_count": 2,
     "metadata": {},
     "output_type": "execute_result"
    }
   ],
   "source": [
    "pd.set_option('display.max_columns', None)\n",
    "pd.set_option('display.max_rows', None)\n",
    "\n",
    "warnings.simplefilter(\"error\", OptimizeWarning)\n",
    "np.seterr(all='ignore')"
   ]
  },
  {
   "cell_type": "code",
   "execution_count": 3,
   "id": "49721493-c616-4ecb-b59b-b7c8354eaa82",
   "metadata": {},
   "outputs": [],
   "source": [
    "c_folder=\"../../data/calibration\"\n",
    "d_folder=\"../../data/runData\"\n",
    "r_n=305\n",
    "pulsed=True\n",
    "p_folder=\"../../plots/run_\"+str(r_n)"
   ]
  },
  {
   "cell_type": "code",
   "execution_count": 4,
   "id": "f141028d",
   "metadata": {},
   "outputs": [],
   "source": [
    "pedestals=pd.read_csv(c_folder+\"/pedestals.csv\", sep=',')\n",
    "pedestals=pedestals.drop(columns=['pedestal_per_time_sample', 'mean'])"
   ]
  },
  {
   "cell_type": "code",
   "execution_count": 5,
   "id": "371a01ac",
   "metadata": {},
   "outputs": [],
   "source": [
    "#mips=pd.read_csv(\"mip.csv\", sep=',')\n",
    "#mips=mips.drop(columns=['eta', 'sigma', 'A'])"
   ]
  },
  {
   "cell_type": "code",
   "execution_count": 6,
   "id": "d2dfad73",
   "metadata": {},
   "outputs": [],
   "source": [
    "def drop_empty(df):\n",
    "    data=[]\n",
    "\n",
    "    layers=np.arange(1,20)\n",
    "    strips=np.arange(0,12)\n",
    "    \n",
    "    for layer in layers:\n",
    "        for strip in strips:\n",
    "            el=choose_bar(df,layer,strip)\n",
    "            peds=choose_bar(pedestals,layer,strip)\n",
    "            #mip=choose_bar(mips, layer, strip)\n",
    "\n",
    "            if not peds.empty: # need to check whether the strip exists \n",
    "                #el=el[el[\"adc_sum_end0\"]>1.2*peds.iloc[0,-1]] # gets rid of bars where there's no data in end0\n",
    "                el=el[el[\"adc_sum_end0\"]>(peds.iloc[0,-2]+5*peds.iloc[0,-1])] \n",
    "                el=el[el[\"adc_max_end0\"]!=1023]\n",
    "                el.loc[:,\"adc_sum_end0\"]-=peds.iloc[0,-2]\n",
    "                \n",
    "                miniped=peds.iloc[0,-1]/8\n",
    "                \n",
    "                el.loc[:,\"adc_0_end0\"]-=miniped\n",
    "                el.loc[:,\"adc_1_end0\"]-=miniped\n",
    "                el.loc[:,\"adc_2_end0\"]-=miniped\n",
    "                el.loc[:,\"adc_3_end0\"]-=miniped\n",
    "                el.loc[:,\"adc_4_end0\"]-=miniped\n",
    "                el.loc[:,\"adc_5_end0\"]-=miniped\n",
    "                el.loc[:,\"adc_6_end0\"]-=miniped\n",
    "                el.loc[:,\"adc_7_end0\"]-=miniped\n",
    "                \n",
    "                data.extend(el.values.tolist())\n",
    "    \n",
    "    df_s=pd.DataFrame(data, columns=['event', 'adc_sum_end0','adc_max_end0',\n",
    "                                     'adc_0','adc_1','adc_2','adc_3',\n",
    "                                     'adc_4','adc_5','adc_6','adc_7',\n",
    "                                     'layer', 'strip'])\n",
    "    \n",
    "    return df_s"
   ]
  },
  {
   "cell_type": "code",
   "execution_count": 7,
   "id": "e1e4ec11",
   "metadata": {},
   "outputs": [],
   "source": [
    "def langau(x,A,x_mpv,xi,sigma):\n",
    "    return A*langauss.pdf(x=x, landau_x_mpv=x_mpv,landau_xi=xi,gauss_sigma=sigma)"
   ]
  },
  {
   "cell_type": "code",
   "execution_count": 8,
   "id": "16001314",
   "metadata": {},
   "outputs": [],
   "source": [
    "def cs(n, y):\n",
    "    return chisquare(n, np.sum(n)/np.sum(y) * y)"
   ]
  },
  {
   "cell_type": "code",
   "execution_count": 9,
   "id": "453260fe",
   "metadata": {},
   "outputs": [],
   "source": [
    "electron=pd.read_csv(d_folder+\"/run_305_pulse.csv\", sep=',')\n",
    "electron=electron.drop(columns=['tot_end0', 'toa_end0','tot_end1', 'toa_end1', 'adc_max_end1',\n",
    "                                'pf_spill', 'adc_mean_end0', 'adc_mean_end1', 'pf_ticks','adc_sum_end1',\n",
    "                               'adc_0_end1','adc_1_end1','adc_2_end1','adc_3_end1',\n",
    "                               'adc_4_end1','adc_5_end1','adc_6_end1','adc_7_end1'])\n",
    "\n",
    "#electron=electron.astype({\"adc_0_end0\":float,\"adc_1_end0\":float,\"adc_2_end0\":float,\"adc_3_end0\":float,\n",
    "#                          \"adc_4_end0\":float,\"adc_5_end0\":float,\"adc_6_end0\":float,\"adc_7_end0\":float,})"
   ]
  },
  {
   "cell_type": "code",
   "execution_count": 10,
   "id": "39f1c4b1-d042-4514-b030-eda57d074ef9",
   "metadata": {},
   "outputs": [],
   "source": [
    "electron=electron.astype({\"adc_0_end0\":float,\"adc_1_end0\":float,\"adc_2_end0\":float,\"adc_3_end0\":float,\n",
    "                          \"adc_4_end0\":float,\"adc_5_end0\":float,\"adc_6_end0\":float,\"adc_7_end0\":float, \n",
    "                          \"adc_sum_end0\":float})"
   ]
  },
  {
   "cell_type": "code",
   "execution_count": 11,
   "id": "50d7ddce",
   "metadata": {
    "scrolled": true
   },
   "outputs": [],
   "source": [
    "electron=drop_empty(electron)"
   ]
  },
  {
   "cell_type": "code",
   "execution_count": 12,
   "id": "054d7bce-56c4-4433-84aa-363cd687c7fd",
   "metadata": {},
   "outputs": [
    {
     "data": {
      "text/plain": [
       "46383"
      ]
     },
     "execution_count": 12,
     "metadata": {},
     "output_type": "execute_result"
    }
   ],
   "source": [
    "len(electron.event.unique())"
   ]
  },
  {
   "cell_type": "code",
   "execution_count": 13,
   "id": "a60481c0-b8b6-429e-b537-ffc506474ddf",
   "metadata": {},
   "outputs": [],
   "source": [
    "big=electron.values.tolist()"
   ]
  },
  {
   "cell_type": "code",
   "execution_count": 14,
   "id": "b8b7c4b7-b166-4505-b52d-48eb9350ee4e",
   "metadata": {},
   "outputs": [],
   "source": [
    "def calc_integrals(row):\n",
    "    integral,err=quad(langau, 0,7, (row['A'],row['landau_x_mpv'],row['landau_xi'],row['gauss_sigma']))\n",
    "    return integral"
   ]
  },
  {
   "cell_type": "code",
   "execution_count": 15,
   "id": "05b3d37b-ca5d-4653-ae6b-fb6f0be768c7",
   "metadata": {},
   "outputs": [],
   "source": [
    "def get_fit_max(row):\n",
    "    a=langau(np.arange(0,8,0.01),row['A'],row['landau_x_mpv'],row['landau_xi'],row['gauss_sigma'])\n",
    "    return max(a)"
   ]
  },
  {
   "cell_type": "code",
   "execution_count": 16,
   "id": "10e41ca8",
   "metadata": {},
   "outputs": [
    {
     "name": "stderr",
     "output_type": "stream",
     "text": [
      "100%|████████████████████████████████████████████████████████████████████████████████| 100/100 [11:04<00:00,  6.64s/it]\n"
     ]
    }
   ],
   "source": [
    "plt.rcParams[\"figure.figsize\"]=(6,4)\n",
    "f=0\n",
    "silent_fails=0\n",
    "data=[]\n",
    "n=100\n",
    "\n",
    "with warnings.catch_warnings():\n",
    "    for i in tqdm(range(n)):\n",
    "        try:\n",
    "            param,pcov=curve_fit(langau,np.arange(0,8),big[i][3:-2], p0=[200,2.0,2,3])\n",
    "\n",
    "            if param[0]>=5:\n",
    "                observed=langau(np.arange(0,8), *param)\n",
    "                expected=np.array(big[i][3:-2])\n",
    "                _, pval=cs(observed, expected)\n",
    "                if pval<1e-25 and pval!=0:\n",
    "                    silent_fails+=1\n",
    "                    #print(pval)\n",
    "                    #plt.scatter(np.arange(0,80,10),expected)\n",
    "                    #plt.plot(np.arange(0,80,0.01),langau(np.arange(0,80,0.01), *param))\n",
    "                    #plt.show()\n",
    "                else:\n",
    "                    line=[big[i][1]]\n",
    "                    line.append(big[i][2])\n",
    "                    line.extend(param)\n",
    "                    data.append(line)\n",
    "        except:\n",
    "            f+=1    \n",
    "            \n",
    "param_df=pd.DataFrame(data, columns=['adc_sum','adc_max','A','landau_x_mpv', 'landau_xi', 'gauss_sigma'])"
   ]
  },
  {
   "cell_type": "code",
   "execution_count": 17,
   "id": "78273e27-77f4-482b-ae61-dec40464a1ae",
   "metadata": {},
   "outputs": [
    {
     "name": "stderr",
     "output_type": "stream",
     "text": [
      "C:\\Users\\GRTI~1\\AppData\\Local\\Temp/ipykernel_5628/964093231.py:2: IntegrationWarning: The occurrence of roundoff error is detected, which prevents \n",
      "  the requested tolerance from being achieved.  The error may be \n",
      "  underestimated.\n",
      "  integral,err=quad(langau, 0,7, (row['A'],row['landau_x_mpv'],row['landau_xi'],row['gauss_sigma']))\n",
      "C:\\Users\\GRTI~1\\AppData\\Local\\Temp/ipykernel_5628/964093231.py:2: IntegrationWarning: The maximum number of subdivisions (50) has been achieved.\n",
      "  If increasing the limit yields no improvement it is advised to analyze \n",
      "  the integrand in order to determine the difficulties.  If the position of a \n",
      "  local difficulty can be determined (singularity, discontinuity) one will \n",
      "  probably gain from splitting up the interval and calling the integrator \n",
      "  on the subranges.  Perhaps a special-purpose integrator should be used.\n",
      "  integral,err=quad(langau, 0,7, (row['A'],row['landau_x_mpv'],row['landau_xi'],row['gauss_sigma']))\n",
      "C:\\Users\\GRTI~1\\AppData\\Local\\Temp/ipykernel_5628/964093231.py:2: IntegrationWarning: The maximum number of subdivisions (50) has been achieved.\n",
      "  If increasing the limit yields no improvement it is advised to analyze \n",
      "  the integrand in order to determine the difficulties.  If the position of a \n",
      "  local difficulty can be determined (singularity, discontinuity) one will \n",
      "  probably gain from splitting up the interval and calling the integrator \n",
      "  on the subranges.  Perhaps a special-purpose integrator should be used.\n",
      "  integral,err=quad(langau, 0,7, (row['A'],row['landau_x_mpv'],row['landau_xi'],row['gauss_sigma']))\n",
      "C:\\Users\\GRTI~1\\AppData\\Local\\Temp/ipykernel_5628/964093231.py:2: IntegrationWarning: The maximum number of subdivisions (50) has been achieved.\n",
      "  If increasing the limit yields no improvement it is advised to analyze \n",
      "  the integrand in order to determine the difficulties.  If the position of a \n",
      "  local difficulty can be determined (singularity, discontinuity) one will \n",
      "  probably gain from splitting up the interval and calling the integrator \n",
      "  on the subranges.  Perhaps a special-purpose integrator should be used.\n",
      "  integral,err=quad(langau, 0,7, (row['A'],row['landau_x_mpv'],row['landau_xi'],row['gauss_sigma']))\n",
      "C:\\Users\\GRTI~1\\AppData\\Local\\Temp/ipykernel_5628/964093231.py:2: IntegrationWarning: The maximum number of subdivisions (50) has been achieved.\n",
      "  If increasing the limit yields no improvement it is advised to analyze \n",
      "  the integrand in order to determine the difficulties.  If the position of a \n",
      "  local difficulty can be determined (singularity, discontinuity) one will \n",
      "  probably gain from splitting up the interval and calling the integrator \n",
      "  on the subranges.  Perhaps a special-purpose integrator should be used.\n",
      "  integral,err=quad(langau, 0,7, (row['A'],row['landau_x_mpv'],row['landau_xi'],row['gauss_sigma']))\n",
      "C:\\Users\\GRTI~1\\AppData\\Local\\Temp/ipykernel_5628/964093231.py:2: IntegrationWarning: The maximum number of subdivisions (50) has been achieved.\n",
      "  If increasing the limit yields no improvement it is advised to analyze \n",
      "  the integrand in order to determine the difficulties.  If the position of a \n",
      "  local difficulty can be determined (singularity, discontinuity) one will \n",
      "  probably gain from splitting up the interval and calling the integrator \n",
      "  on the subranges.  Perhaps a special-purpose integrator should be used.\n",
      "  integral,err=quad(langau, 0,7, (row['A'],row['landau_x_mpv'],row['landau_xi'],row['gauss_sigma']))\n",
      "C:\\Users\\GRTI~1\\AppData\\Local\\Temp/ipykernel_5628/964093231.py:2: IntegrationWarning: The maximum number of subdivisions (50) has been achieved.\n",
      "  If increasing the limit yields no improvement it is advised to analyze \n",
      "  the integrand in order to determine the difficulties.  If the position of a \n",
      "  local difficulty can be determined (singularity, discontinuity) one will \n",
      "  probably gain from splitting up the interval and calling the integrator \n",
      "  on the subranges.  Perhaps a special-purpose integrator should be used.\n",
      "  integral,err=quad(langau, 0,7, (row['A'],row['landau_x_mpv'],row['landau_xi'],row['gauss_sigma']))\n"
     ]
    },
    {
     "data": {
      "text/html": [
       "<div>\n",
       "<style scoped>\n",
       "    .dataframe tbody tr th:only-of-type {\n",
       "        vertical-align: middle;\n",
       "    }\n",
       "\n",
       "    .dataframe tbody tr th {\n",
       "        vertical-align: top;\n",
       "    }\n",
       "\n",
       "    .dataframe thead th {\n",
       "        text-align: right;\n",
       "    }\n",
       "</style>\n",
       "<table border=\"1\" class=\"dataframe\">\n",
       "  <thead>\n",
       "    <tr style=\"text-align: right;\">\n",
       "      <th></th>\n",
       "      <th>adc_sum</th>\n",
       "      <th>adc_max</th>\n",
       "      <th>A</th>\n",
       "      <th>landau_x_mpv</th>\n",
       "      <th>landau_xi</th>\n",
       "      <th>gauss_sigma</th>\n",
       "      <th>integral</th>\n",
       "      <th>fit_max</th>\n",
       "    </tr>\n",
       "  </thead>\n",
       "  <tbody>\n",
       "    <tr>\n",
       "      <th>0</th>\n",
       "      <td>531.0</td>\n",
       "      <td>200.0</td>\n",
       "      <td>2382.111795</td>\n",
       "      <td>2.698001</td>\n",
       "      <td>2.090689</td>\n",
       "      <td>1.085761</td>\n",
       "      <td>1167.723416</td>\n",
       "      <td>194.795592</td>\n",
       "    </tr>\n",
       "    <tr>\n",
       "      <th>1</th>\n",
       "      <td>88.0</td>\n",
       "      <td>110.0</td>\n",
       "      <td>3278.152425</td>\n",
       "      <td>3.871972</td>\n",
       "      <td>5.411811</td>\n",
       "      <td>0.014491</td>\n",
       "      <td>740.477941</td>\n",
       "      <td>109.430191</td>\n",
       "    </tr>\n",
       "    <tr>\n",
       "      <th>2</th>\n",
       "      <td>91.0</td>\n",
       "      <td>113.0</td>\n",
       "      <td>2216.300096</td>\n",
       "      <td>4.732560</td>\n",
       "      <td>0.001501</td>\n",
       "      <td>7.981611</td>\n",
       "      <td>742.594123</td>\n",
       "      <td>110.750488</td>\n",
       "    </tr>\n",
       "    <tr>\n",
       "      <th>3</th>\n",
       "      <td>767.0</td>\n",
       "      <td>255.0</td>\n",
       "      <td>2145.226590</td>\n",
       "      <td>2.674153</td>\n",
       "      <td>0.895539</td>\n",
       "      <td>2.067166</td>\n",
       "      <td>1406.836383</td>\n",
       "      <td>255.134692</td>\n",
       "    </tr>\n",
       "    <tr>\n",
       "      <th>4</th>\n",
       "      <td>1008.0</td>\n",
       "      <td>297.0</td>\n",
       "      <td>2960.639947</td>\n",
       "      <td>3.544274</td>\n",
       "      <td>1.368013</td>\n",
       "      <td>1.885963</td>\n",
       "      <td>1615.537417</td>\n",
       "      <td>295.549805</td>\n",
       "    </tr>\n",
       "  </tbody>\n",
       "</table>\n",
       "</div>"
      ],
      "text/plain": [
       "   adc_sum  adc_max            A  landau_x_mpv  landau_xi  gauss_sigma  \\\n",
       "0    531.0    200.0  2382.111795      2.698001   2.090689     1.085761   \n",
       "1     88.0    110.0  3278.152425      3.871972   5.411811     0.014491   \n",
       "2     91.0    113.0  2216.300096      4.732560   0.001501     7.981611   \n",
       "3    767.0    255.0  2145.226590      2.674153   0.895539     2.067166   \n",
       "4   1008.0    297.0  2960.639947      3.544274   1.368013     1.885963   \n",
       "\n",
       "      integral     fit_max  \n",
       "0  1167.723416  194.795592  \n",
       "1   740.477941  109.430191  \n",
       "2   742.594123  110.750488  \n",
       "3  1406.836383  255.134692  \n",
       "4  1615.537417  295.549805  "
      ]
     },
     "execution_count": 17,
     "metadata": {},
     "output_type": "execute_result"
    }
   ],
   "source": [
    "param_df['integral']=param_df.apply(calc_integrals,axis=1)\n",
    "param_df['fit_max']=param_df.apply(get_fit_max,axis=1)\n",
    "\n",
    "param_df.head()"
   ]
  },
  {
   "cell_type": "code",
   "execution_count": 18,
   "id": "91a98f42-0613-4b99-92cd-ec5b37025974",
   "metadata": {},
   "outputs": [
    {
     "data": {
      "image/png": "[encoded data removed]",
      "text/plain": [
       "<Figure size 864x576 with 2 Axes>"
      ]
     },
     "metadata": {
      "needs_background": "light"
     },
     "output_type": "display_data"
    }
   ],
   "source": [
    "plt.rcParams['figure.figsize']=(12,8)\n",
    "\n",
    "plt.subplot(2,2,1)\n",
    "plt.scatter(param_df['adc_sum'], param_df['integral'], c=\"magenta\")\n",
    "plt.ylabel('Integral of fit')\n",
    "plt.xlabel('sumADC')\n",
    "plt.ylim(-100,20000)\n",
    "\n",
    "plt.subplot(2,2,2)\n",
    "plt.scatter(param_df['adc_max'], param_df['fit_max'], c=\"cyan\")\n",
    "plt.ylabel('Maximum of fit')\n",
    "plt.xlabel('maxADC')\n",
    "plt.ylim(-100,5000)\n",
    "\n",
    "# plt.savefig(p_folder+\"/after_chisquare.png\", bbox_inches='tight')\n",
    "plt.show()\n",
    "# plt.scatter(param_df['adc_sum'], param_df['fit_max'], c=\"lime\", marker='x')\n",
    "# plt.ylim(-100,2000)\n",
    "# plt.ylabel('Maximum of fit')\n",
    "# plt.xlabel('sumADC')\n",
    "# plt.savefig(p_folder+\"fitmax_sum.png\", bbox_inches='tight')"
   ]
  },
  {
   "cell_type": "code",
   "execution_count": 19,
   "id": "61b5e59e",
   "metadata": {},
   "outputs": [
    {
     "name": "stdout",
     "output_type": "stream",
     "text": [
      "Percentage of bad fits: 11%\n",
      "Of this silent fails are: 73%\n"
     ]
    }
   ],
   "source": [
    "print(\"Percentage of bad fits: \"+str(round(100*(f+silent_fails)/n))+\"%\")\n",
    "print(\"Of this silent fails are: \"+str(round(100*silent_fails/(f+silent_fails)))+\"%\")"
   ]
  },
  {
   "cell_type": "code",
   "execution_count": null,
   "id": "130ac659-9df8-462a-9c50-0fb328b1edde",
   "metadata": {},
   "outputs": [],
   "source": []
  }
 ],
 "metadata": {
  "kernelspec": {
   "display_name": "Python 3 (ipykernel)",
   "language": "python",
   "name": "python3"
  },
  "language_info": {
   "codemirror_mode": {
    "name": "ipython",
    "version": 3
   },
   "file_extension": ".py",
   "mimetype": "text/x-python",
   "name": "python",
   "nbconvert_exporter": "python",
   "pygments_lexer": "ipython3",
   "version": "3.9.7"
  }
 },
 "nbformat": 4,
 "nbformat_minor": 5
}
