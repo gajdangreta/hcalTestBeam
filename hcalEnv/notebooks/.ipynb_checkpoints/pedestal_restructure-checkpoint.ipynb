{
 "cells": [
  {
   "cell_type": "code",
   "execution_count": 1,
   "id": "a28ea6c2-b39f-4858-bc42-bd636af071bc",
   "metadata": {},
   "outputs": [],
   "source": [
    "import sys\n",
    "sys.path.append(\"../src\")\n",
    "\n",
    "from event_selections import *\n",
    "import matplotlib.pyplot as plt"
   ]
  },
  {
   "cell_type": "code",
   "execution_count": 2,
   "id": "a9083745-84d7-4394-b93f-c2e9d49a843d",
   "metadata": {},
   "outputs": [],
   "source": [
    "sys.path.append(\"../src\")\n",
    "c_folder=\"../../data/calibration\"\n",
    "d_folder=\"../../data/runData\"\n",
    "r_n=305\n",
    "p_folder=\"../../plots/run_\"+str(r_n)"
   ]
  },
  {
   "cell_type": "code",
   "execution_count": 3,
   "id": "87edb935-0250-4a69-8d07-9c7d9e51c35c",
   "metadata": {},
   "outputs": [],
   "source": [
    "pedestals, mips, run =import_data(c_folder,d_folder,r_n)"
   ]
  },
  {
   "cell_type": "code",
   "execution_count": 4,
   "id": "a7843672-9609-4590-b323-180ec3f42d77",
   "metadata": {},
   "outputs": [
    {
     "data": {
      "text/html": [
       "<div>\n",
       "<style scoped>\n",
       "    .dataframe tbody tr th:only-of-type {\n",
       "        vertical-align: middle;\n",
       "    }\n",
       "\n",
       "    .dataframe tbody tr th {\n",
       "        vertical-align: top;\n",
       "    }\n",
       "\n",
       "    .dataframe thead th {\n",
       "        text-align: right;\n",
       "    }\n",
       "</style>\n",
       "<table border=\"1\" class=\"dataframe\">\n",
       "  <thead>\n",
       "    <tr style=\"text-align: right;\">\n",
       "      <th></th>\n",
       "      <th>layer</th>\n",
       "      <th>strip</th>\n",
       "      <th>end</th>\n",
       "      <th>pedestal</th>\n",
       "      <th>std_dev</th>\n",
       "    </tr>\n",
       "  </thead>\n",
       "  <tbody>\n",
       "    <tr>\n",
       "      <th>0</th>\n",
       "      <td>1</td>\n",
       "      <td>0</td>\n",
       "      <td>0</td>\n",
       "      <td>760</td>\n",
       "      <td>9.674627</td>\n",
       "    </tr>\n",
       "    <tr>\n",
       "      <th>1</th>\n",
       "      <td>1</td>\n",
       "      <td>0</td>\n",
       "      <td>1</td>\n",
       "      <td>840</td>\n",
       "      <td>11.046368</td>\n",
       "    </tr>\n",
       "    <tr>\n",
       "      <th>2</th>\n",
       "      <td>1</td>\n",
       "      <td>1</td>\n",
       "      <td>0</td>\n",
       "      <td>760</td>\n",
       "      <td>14.564194</td>\n",
       "    </tr>\n",
       "    <tr>\n",
       "      <th>3</th>\n",
       "      <td>1</td>\n",
       "      <td>1</td>\n",
       "      <td>1</td>\n",
       "      <td>760</td>\n",
       "      <td>18.856047</td>\n",
       "    </tr>\n",
       "    <tr>\n",
       "      <th>4</th>\n",
       "      <td>1</td>\n",
       "      <td>2</td>\n",
       "      <td>0</td>\n",
       "      <td>728</td>\n",
       "      <td>10.387670</td>\n",
       "    </tr>\n",
       "    <tr>\n",
       "      <th>...</th>\n",
       "      <td>...</td>\n",
       "      <td>...</td>\n",
       "      <td>...</td>\n",
       "      <td>...</td>\n",
       "      <td>...</td>\n",
       "    </tr>\n",
       "    <tr>\n",
       "      <th>379</th>\n",
       "      <td>19</td>\n",
       "      <td>9</td>\n",
       "      <td>1</td>\n",
       "      <td>824</td>\n",
       "      <td>9.375246</td>\n",
       "    </tr>\n",
       "    <tr>\n",
       "      <th>380</th>\n",
       "      <td>19</td>\n",
       "      <td>10</td>\n",
       "      <td>0</td>\n",
       "      <td>728</td>\n",
       "      <td>9.138480</td>\n",
       "    </tr>\n",
       "    <tr>\n",
       "      <th>381</th>\n",
       "      <td>19</td>\n",
       "      <td>10</td>\n",
       "      <td>1</td>\n",
       "      <td>824</td>\n",
       "      <td>9.243012</td>\n",
       "    </tr>\n",
       "    <tr>\n",
       "      <th>382</th>\n",
       "      <td>19</td>\n",
       "      <td>11</td>\n",
       "      <td>0</td>\n",
       "      <td>792</td>\n",
       "      <td>11.286028</td>\n",
       "    </tr>\n",
       "    <tr>\n",
       "      <th>383</th>\n",
       "      <td>19</td>\n",
       "      <td>11</td>\n",
       "      <td>1</td>\n",
       "      <td>760</td>\n",
       "      <td>9.002523</td>\n",
       "    </tr>\n",
       "  </tbody>\n",
       "</table>\n",
       "<p>384 rows × 5 columns</p>\n",
       "</div>"
      ],
      "text/plain": [
       "     layer  strip  end  pedestal    std_dev\n",
       "0        1      0    0       760   9.674627\n",
       "1        1      0    1       840  11.046368\n",
       "2        1      1    0       760  14.564194\n",
       "3        1      1    1       760  18.856047\n",
       "4        1      2    0       728  10.387670\n",
       "..     ...    ...  ...       ...        ...\n",
       "379     19      9    1       824   9.375246\n",
       "380     19     10    0       728   9.138480\n",
       "381     19     10    1       824   9.243012\n",
       "382     19     11    0       792  11.286028\n",
       "383     19     11    1       760   9.002523\n",
       "\n",
       "[384 rows x 5 columns]"
      ]
     },
     "execution_count": 4,
     "metadata": {},
     "output_type": "execute_result"
    }
   ],
   "source": [
    "pedestals"
   ]
  },
  {
   "cell_type": "code",
   "execution_count": 29,
   "id": "fc08ab5d-843c-44b8-b619-38e93af2830d",
   "metadata": {},
   "outputs": [],
   "source": [
    "ped_1=pedestals[pedestals['end']==1].pedestal\n",
    "std_dev_1=pedestals[pedestals['end']==1].std_dev"
   ]
  },
  {
   "cell_type": "code",
   "execution_count": 34,
   "id": "84f199b6-43d7-4d6c-a461-b5478e142179",
   "metadata": {},
   "outputs": [],
   "source": [
    "ped_fixed=pedestals[pedestals['end']==0]\n",
    "ped_fixed=ped_fixed.rename(columns={\"pedestal\": \"pedestal_end0\", \"std_dev\":\"std_dev_end0\"})\n",
    "ped_fixed=ped_fixed.assign(pedestal_end1=ped_1.values)\n",
    "ped_fixed=ped_fixed.assign(std_dev_end1=std_dev_1.values)"
   ]
  },
  {
   "cell_type": "code",
   "execution_count": 36,
   "id": "dd7320a3-b1fb-4c1b-90a9-539e72d0581a",
   "metadata": {},
   "outputs": [],
   "source": [
    "#ped_fixed.to_csv(c_folder+\"/pedestal_fixed.csv\", index=False)"
   ]
  },
  {
   "cell_type": "code",
   "execution_count": null,
   "id": "c6d5cfe5-6095-40ea-8d20-43e11de50c69",
   "metadata": {},
   "outputs": [],
   "source": []
  }
 ],
 "metadata": {
  "kernelspec": {
   "display_name": "Python 3 (ipykernel)",
   "language": "python",
   "name": "python3"
  },
  "language_info": {
   "codemirror_mode": {
    "name": "ipython",
    "version": 3
   },
   "file_extension": ".py",
   "mimetype": "text/x-python",
   "name": "python",
   "nbconvert_exporter": "python",
   "pygments_lexer": "ipython3",
   "version": "3.10.12"
  }
 },
 "nbformat": 4,
 "nbformat_minor": 5
}
