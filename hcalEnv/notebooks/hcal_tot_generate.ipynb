{
 "cells": [
  {
   "cell_type": "code",
   "execution_count": 18,
   "id": "792b21a7-e853-45f9-88f5-616da233f67d",
   "metadata": {},
   "outputs": [],
   "source": [
    "import numpy as np\n",
    "import matplotlib.pyplot as plt\n",
    "import pandas as pd\n",
    "from landaupy import langauss\n",
    "from landaupy import landau\n",
    "from scipy.optimize import curve_fit\n",
    "from scipy.optimize import OptimizeWarning\n",
    "from tqdm import tqdm\n",
    "import warnings\n",
    "from scipy.stats import chisquare\n",
    "import sys\n",
    "sys.path.append(\"../src\")\n",
    "from event_selections import *\n",
    "from scipy.integrate import quad\n",
    "from scipy.integrate import IntegrationWarning"
   ]
  },
  {
   "cell_type": "code",
   "execution_count": 60,
   "id": "07cdf73e-ae6d-41a3-8bee-ea85f84df613",
   "metadata": {},
   "outputs": [],
   "source": [
    "c_folder=\"../../data/calibration\"\n",
    "d_folder=\"../../data/runData\"\n",
    "r_n=300\n",
    "pulsed=False\n",
    "p_folder=\"../../plots/run_\"+str(r_n)"
   ]
  },
  {
   "cell_type": "code",
   "execution_count": 61,
   "id": "836b3570-4095-47c8-995f-392582728eac",
   "metadata": {},
   "outputs": [],
   "source": [
    "def choose_bar(df,layer, strip):\n",
    "    df=df[df[\"strip\"]==strip]\n",
    "    df=df[df[\"layer\"]==layer]\n",
    "    return df\n",
    "\n",
    "def drop_columns(df):\n",
    "    kept_columns=['layer', 'strip', 'pedestal', 'pf_event', 'adc_sum_end0', 'adc_sum_end1', 'end', 'mpv', 'std_dev', 'tot_end0', 'tot_end1']\n",
    "    df=df[df.columns.intersection(kept_columns)]\n",
    "    return df\n",
    "\n",
    "def import_data(calibration_folder, data_folder, run_n):\n",
    "    pedestals=drop_columns(pd.read_csv(calibration_folder+\"/pedestals_MIP.csv\", sep=','))\n",
    "    mips=drop_columns(pd.read_csv(calibration_folder+\"/mip.csv\", sep=','))\n",
    "    run=drop_columns(pd.read_csv(data_folder+\"/run_\"+str(run_n)+\".csv\", sep=','))\n",
    "    run=run.astype({\"adc_sum_end0\":float,\"adc_sum_end1\":float}) \n",
    "    return pedestals,mips,run"
   ]
  },
  {
   "cell_type": "code",
   "execution_count": 62,
   "id": "4b99ac47-ceb7-4a8c-9551-a2fd38fc04af",
   "metadata": {},
   "outputs": [],
   "source": [
    "p,m,r= import_data(c_folder,d_folder,r_n)"
   ]
  },
  {
   "cell_type": "code",
   "execution_count": 63,
   "id": "e11b5fe4-7cc2-4b1b-a8c8-555cc58725bf",
   "metadata": {},
   "outputs": [],
   "source": [
    "def confirm_events_sigma(df, pedestals, mips):\n",
    "    # signal defined as anything above pedestal+5*pedestal std_dev\n",
    "    confirmed_data=[]\n",
    "    layers=np.arange(1,20)\n",
    "    strips=np.arange(0,12)\n",
    "    for layer in layers:\n",
    "        for strip in strips:\n",
    "            df_slice=choose_bar(df,layer,strip)\n",
    "            pedestal_slice=choose_bar(pedestals,layer,strip)\n",
    "            mip=choose_bar(mips,layer,strip)\n",
    "            if not pedestal_slice.empty:\n",
    "                df_slice=df_slice[df_slice[\"adc_sum_end0\"]>(pedestal_slice.iloc[0,-2]+5*pedestal_slice.iloc[0,-1])] \n",
    "                df_slice=df_slice[df_slice[\"adc_sum_end1\"]>(pedestal_slice.iloc[1,-2]+5*pedestal_slice.iloc[0,-1])] \n",
    "\n",
    "                df_slice.loc[:,\"adc_sum_end0\"]-=pedestal_slice.iloc[0,-2] # subtracting pedestals\n",
    "                df_slice.loc[:,\"adc_sum_end1\"]-=pedestal_slice.iloc[1,-2]\n",
    "\n",
    "                df_slice.loc[:,\"adc_sum_end0\"]*=(4.66/mip.iloc[0,-1]) # converting to energy\n",
    "                df_slice.loc[:,\"adc_sum_end1\"]*=(4.66/mip.iloc[1,-1])\n",
    "                \n",
    "            confirmed_data.extend(df_slice.values.tolist())\n",
    "    confirmed_df=pd.DataFrame(confirmed_data, columns=['event','tot_end0', 'adc_sum_end0', 'layer', 'strip', 'tot_end1','adc_sum_end1'])\n",
    "    events_left=confirmed_df.event.unique()\n",
    "    print(\"Initial pedestal-based selection performed.\")\n",
    "    print(\"Events left: \"+str(len(events_left)))\n",
    "    print(\"\\n\")\n",
    "    return confirmed_df"
   ]
  },
  {
   "cell_type": "code",
   "execution_count": 64,
   "id": "9b0059de-8408-475f-927b-f6afd6dc42ca",
   "metadata": {},
   "outputs": [],
   "source": [
    "def landau_fit(x,A,x_mpv,xi):\n",
    "    return A*landau.pdf(x=x,x_mpv=x_mpv, xi=xi)"
   ]
  },
  {
   "cell_type": "code",
   "execution_count": 65,
   "id": "c95fc2fc-a2f9-4431-845b-c3932dbab826",
   "metadata": {},
   "outputs": [
    {
     "name": "stdout",
     "output_type": "stream",
     "text": [
      "Initial pedestal-based selection performed.\n",
      "Events left: 71415\n",
      "\n",
      "\n"
     ]
    }
   ],
   "source": [
    "runData=confirm_events_sigma(r,p,m)"
   ]
  },
  {
   "cell_type": "code",
   "execution_count": 74,
   "id": "4fc56832-8b47-4829-b225-8cdaeb8d7683",
   "metadata": {},
   "outputs": [
    {
     "data": {
      "text/html": [
       "<div>\n",
       "<style scoped>\n",
       "    .dataframe tbody tr th:only-of-type {\n",
       "        vertical-align: middle;\n",
       "    }\n",
       "\n",
       "    .dataframe tbody tr th {\n",
       "        vertical-align: top;\n",
       "    }\n",
       "\n",
       "    .dataframe thead th {\n",
       "        text-align: right;\n",
       "    }\n",
       "</style>\n",
       "<table border=\"1\" class=\"dataframe\">\n",
       "  <thead>\n",
       "    <tr style=\"text-align: right;\">\n",
       "      <th></th>\n",
       "      <th>event</th>\n",
       "      <th>tot_end0</th>\n",
       "      <th>adc_sum_end0</th>\n",
       "      <th>layer</th>\n",
       "      <th>strip</th>\n",
       "      <th>tot_end1</th>\n",
       "      <th>adc_sum_end1</th>\n",
       "    </tr>\n",
       "  </thead>\n",
       "  <tbody>\n",
       "    <tr>\n",
       "      <th>0</th>\n",
       "      <td>341.0</td>\n",
       "      <td>0.0</td>\n",
       "      <td>1.500580</td>\n",
       "      <td>1.0</td>\n",
       "      <td>0.0</td>\n",
       "      <td>0.0</td>\n",
       "      <td>1.418696</td>\n",
       "    </tr>\n",
       "    <tr>\n",
       "      <th>1</th>\n",
       "      <td>444.0</td>\n",
       "      <td>0.0</td>\n",
       "      <td>0.711386</td>\n",
       "      <td>1.0</td>\n",
       "      <td>0.0</td>\n",
       "      <td>0.0</td>\n",
       "      <td>2.067556</td>\n",
       "    </tr>\n",
       "    <tr>\n",
       "      <th>2</th>\n",
       "      <td>501.0</td>\n",
       "      <td>0.0</td>\n",
       "      <td>1.456118</td>\n",
       "      <td>1.0</td>\n",
       "      <td>0.0</td>\n",
       "      <td>0.0</td>\n",
       "      <td>1.385703</td>\n",
       "    </tr>\n",
       "    <tr>\n",
       "      <th>3</th>\n",
       "      <td>766.0</td>\n",
       "      <td>0.0</td>\n",
       "      <td>0.655809</td>\n",
       "      <td>1.0</td>\n",
       "      <td>0.0</td>\n",
       "      <td>0.0</td>\n",
       "      <td>0.560880</td>\n",
       "    </tr>\n",
       "    <tr>\n",
       "      <th>4</th>\n",
       "      <td>878.0</td>\n",
       "      <td>656.0</td>\n",
       "      <td>46.306773</td>\n",
       "      <td>1.0</td>\n",
       "      <td>0.0</td>\n",
       "      <td>384.0</td>\n",
       "      <td>30.056549</td>\n",
       "    </tr>\n",
       "  </tbody>\n",
       "</table>\n",
       "</div>"
      ],
      "text/plain": [
       "   event  tot_end0  adc_sum_end0  layer  strip  tot_end1  adc_sum_end1\n",
       "0  341.0       0.0      1.500580    1.0    0.0       0.0      1.418696\n",
       "1  444.0       0.0      0.711386    1.0    0.0       0.0      2.067556\n",
       "2  501.0       0.0      1.456118    1.0    0.0       0.0      1.385703\n",
       "3  766.0       0.0      0.655809    1.0    0.0       0.0      0.560880\n",
       "4  878.0     656.0     46.306773    1.0    0.0     384.0     30.056549"
      ]
     },
     "execution_count": 74,
     "metadata": {},
     "output_type": "execute_result"
    }
   ],
   "source": [
    "runData.head()"
   ]
  },
  {
   "cell_type": "code",
   "execution_count": 38,
   "id": "b23b8a50-389c-4f94-bf3c-9cbbaf3ad464",
   "metadata": {},
   "outputs": [],
   "source": [
    "possible_A=np.arange(2000,100000,100)\n",
    "possible_xi=np.arange(0.01,10,0.01)\n",
    "possible_x0=np.arange(0.5,5,0.2)"
   ]
  },
  {
   "cell_type": "code",
   "execution_count": 42,
   "id": "029eab29-2a84-4a57-bf8d-826c15f4b295",
   "metadata": {},
   "outputs": [
    {
     "name": "stdout",
     "output_type": "stream",
     "text": [
      "980\n",
      "999\n",
      "23\n"
     ]
    }
   ],
   "source": [
    "print(len(possible_A))\n",
    "print(len(possible_xi))\n",
    "print(len(possible_x0))"
   ]
  },
  {
   "cell_type": "code",
   "execution_count": 39,
   "id": "c8f6c581-40f3-4865-8e6e-f958f6872d2b",
   "metadata": {},
   "outputs": [
    {
     "data": {
      "text/plain": [
       "22517460"
      ]
     },
     "execution_count": 39,
     "metadata": {},
     "output_type": "execute_result"
    }
   ],
   "source": [
    "len(possible_A)*len(possible_xi)*len(possible_x0)"
   ]
  },
  {
   "cell_type": "code",
   "execution_count": 92,
   "id": "7bf7ec62-c3e1-4936-a666-600b7ce2c92d",
   "metadata": {},
   "outputs": [
    {
     "name": "stderr",
     "output_type": "stream",
     "text": [
      "100%|█████████████████████████████████████████████| 1/1 [01:14<00:00, 74.88s/it]\n"
     ]
    }
   ],
   "source": [
    "time_cont=np.arange(0,8,0.1)\n",
    "data=[]\n",
    "for A in tqdm(possible_A[-2:-1]):\n",
    "    for xi in possible_xi[:100]:\n",
    "        for x0 in possible_x0:\n",
    "            pulse=landau_fit(time_cont,A,x0,xi)\n",
    "            integral, _ = quad(landau_fit, 0,7, (A,x0,xi), limit=100)\n",
    "            TOT=round(sum(pulse>1023)*0.1*25*20)\n",
    "            sumADC=round(integral)\n",
    "            line=[sumADC,TOT]\n",
    "            data.append(line)"
   ]
  },
  {
   "cell_type": "code",
   "execution_count": 93,
   "id": "9a11fd97-0627-4bd8-b82a-f2905c9eeead",
   "metadata": {},
   "outputs": [],
   "source": [
    "calib_df=pd.DataFrame(data, columns=[\"sumADC\", \"TOT\"])"
   ]
  },
  {
   "cell_type": "code",
   "execution_count": 97,
   "id": "26940da5-c078-4a1a-a993-fd743251a1f5",
   "metadata": {},
   "outputs": [
    {
     "data": {
      "text/plain": [
       "<Axes: xlabel='sumADC', ylabel='TOT'>"
      ]
     },
     "execution_count": 97,
     "metadata": {},
     "output_type": "execute_result"
    },
    {
     "data": {
      "image/png": "[encoded data removed]",
      "text/plain": [
       "<Figure size 640x480 with 1 Axes>"
      ]
     },
     "metadata": {},
     "output_type": "display_data"
    }
   ],
   "source": [
    "calib_df.plot.scatter(\"sumADC\", \"TOT\")"
   ]
  },
  {
   "cell_type": "code",
   "execution_count": null,
   "id": "191518bf-3a56-4ba3-bc24-5e494252c3ca",
   "metadata": {},
   "outputs": [],
   "source": []
  }
 ],
 "metadata": {
  "kernelspec": {
   "display_name": "Python 3 (ipykernel)",
   "language": "python",
   "name": "python3"
  },
  "language_info": {
   "codemirror_mode": {
    "name": "ipython",
    "version": 3
   },
   "file_extension": ".py",
   "mimetype": "text/x-python",
   "name": "python",
   "nbconvert_exporter": "python",
   "pygments_lexer": "ipython3",
   "version": "3.10.12"
  }
 },
 "nbformat": 4,
 "nbformat_minor": 5
}
