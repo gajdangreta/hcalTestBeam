{
 "cells": [
  {
   "cell_type": "code",
   "execution_count": 1,
   "id": "c18469a0-12fa-4300-8c1b-cafdf535d425",
   "metadata": {},
   "outputs": [],
   "source": [
    "import numpy as np\n",
    "import pandas as pd\n",
    "import matplotlib.pyplot as plt\n",
    "from tqdm import tqdm\n",
    "\n",
    "import sys\n",
    "sys.path.append(\"../src\")\n",
    "\n",
    "from data_prep import *\n",
    "from make_cuts import *\n",
    "from fitting_functions import *\n",
    "from pulse_profile_generator import *"
   ]
  },
  {
   "cell_type": "code",
   "execution_count": 3,
   "id": "332f2e88-0160-46e5-8871-7fa3476afd27",
   "metadata": {},
   "outputs": [],
   "source": [
    "pd.set_option('display.max_columns', None)"
   ]
  },
  {
   "cell_type": "code",
   "execution_count": 4,
   "id": "cc5b6c52-a17e-4a15-b2dd-98a2d5efd302",
   "metadata": {},
   "outputs": [],
   "source": [
    "c_folder=\"../../data/calibration/\"\n",
    "d_folder=\"../../data/runData/\"\n",
    "r_n=307\n",
    "p_folder=\"../../plots/run_\"+str(r_n)+\"/\""
   ]
  },
  {
   "cell_type": "code",
   "execution_count": 5,
   "id": "3f405491-ef59-476d-a36a-9e6bd9071497",
   "metadata": {},
   "outputs": [
    {
     "name": "stdout",
     "output_type": "stream",
     "text": [
      "CPU times: user 22.8 s, sys: 8.21 s, total: 31 s\n",
      "Wall time: 35.5 s\n"
     ]
    }
   ],
   "source": [
    "%%time\n",
    "p,m,r=import_data(c_folder,d_folder, 305, is_it_pulsed=True)"
   ]
  },
  {
   "cell_type": "code",
   "execution_count": 6,
   "id": "2d7f54cc-35c9-40ea-9ef9-05e5985beb53",
   "metadata": {},
   "outputs": [
    {
     "name": "stdout",
     "output_type": "stream",
     "text": [
      "Number of events: 47351\n",
      "\n",
      "\n",
      "Initial pedestal-based selection performed.\n",
      "Events left: 46271\n",
      "\n",
      "\n",
      "CPU times: user 1.39 s, sys: 960 ms, total: 2.35 s\n",
      "Wall time: 4.05 s\n"
     ]
    }
   ],
   "source": [
    "%%time\n",
    "r=select_bars_with_data(r,p, subtract_pedestal=True, is_it_pulsed=True) #this needs to be run as it's own cell"
   ]
  },
  {
   "cell_type": "code",
   "execution_count": 7,
   "id": "a2d2f58e-3447-450e-bbd8-f02e4434e141",
   "metadata": {},
   "outputs": [
    {
     "name": "stdout",
     "output_type": "stream",
     "text": [
      "CPU times: user 31.6 s, sys: 200 ms, total: 31.8 s\n",
      "Wall time: 32.6 s\n"
     ]
    }
   ],
   "source": [
    "%%time\n",
    "pulses=make_pulse_profiles(r)"
   ]
  },
  {
   "cell_type": "code",
   "execution_count": 43,
   "id": "30eb4905-8739-4d17-9095-379f28d0b877",
   "metadata": {},
   "outputs": [
    {
     "data": {
      "text/html": [
       "<div>\n",
       "<style scoped>\n",
       "    .dataframe tbody tr th:only-of-type {\n",
       "        vertical-align: middle;\n",
       "    }\n",
       "\n",
       "    .dataframe tbody tr th {\n",
       "        vertical-align: top;\n",
       "    }\n",
       "\n",
       "    .dataframe thead th {\n",
       "        text-align: right;\n",
       "    }\n",
       "</style>\n",
       "<table border=\"1\" class=\"dataframe\">\n",
       "  <thead>\n",
       "    <tr style=\"text-align: right;\">\n",
       "      <th></th>\n",
       "      <th>layer</th>\n",
       "      <th>bar</th>\n",
       "      <th>event</th>\n",
       "      <th>has_problem</th>\n",
       "      <th>problem_type</th>\n",
       "    </tr>\n",
       "    <tr>\n",
       "      <th>index</th>\n",
       "      <th></th>\n",
       "      <th></th>\n",
       "      <th></th>\n",
       "      <th></th>\n",
       "      <th></th>\n",
       "    </tr>\n",
       "  </thead>\n",
       "  <tbody>\n",
       "    <tr>\n",
       "      <th>15</th>\n",
       "      <td>1.0</td>\n",
       "      <td>0.0</td>\n",
       "      <td>15.0</td>\n",
       "      <td>0</td>\n",
       "      <td>NaN</td>\n",
       "    </tr>\n",
       "    <tr>\n",
       "      <th>247</th>\n",
       "      <td>1.0</td>\n",
       "      <td>0.0</td>\n",
       "      <td>247.0</td>\n",
       "      <td>0</td>\n",
       "      <td>NaN</td>\n",
       "    </tr>\n",
       "    <tr>\n",
       "      <th>257</th>\n",
       "      <td>1.0</td>\n",
       "      <td>0.0</td>\n",
       "      <td>257.0</td>\n",
       "      <td>1</td>\n",
       "      <td>SPIKE_1</td>\n",
       "    </tr>\n",
       "    <tr>\n",
       "      <th>265</th>\n",
       "      <td>1.0</td>\n",
       "      <td>0.0</td>\n",
       "      <td>265.0</td>\n",
       "      <td>0</td>\n",
       "      <td>NaN</td>\n",
       "    </tr>\n",
       "    <tr>\n",
       "      <th>289</th>\n",
       "      <td>1.0</td>\n",
       "      <td>0.0</td>\n",
       "      <td>289.0</td>\n",
       "      <td>0</td>\n",
       "      <td>NaN</td>\n",
       "    </tr>\n",
       "  </tbody>\n",
       "</table>\n",
       "</div>"
      ],
      "text/plain": [
       "       layer  bar  event  has_problem problem_type\n",
       "index                                             \n",
       "15       1.0  0.0   15.0            0          NaN\n",
       "247      1.0  0.0  247.0            0          NaN\n",
       "257      1.0  0.0  257.0            1      SPIKE_1\n",
       "265      1.0  0.0  265.0            0          NaN\n",
       "289      1.0  0.0  289.0            0          NaN"
      ]
     },
     "execution_count": 43,
     "metadata": {},
     "output_type": "execute_result"
    }
   ],
   "source": [
    "pulses.head()"
   ]
  },
  {
   "cell_type": "code",
   "execution_count": 44,
   "id": "97a8fdb0-5ca5-4b8a-8da3-11dcabd147dc",
   "metadata": {},
   "outputs": [],
   "source": [
    "# pulses.to_csv(d_folder+\"/run_\"+str(r_n)+\"_pulse_problems.csv\")"
   ]
  },
  {
   "cell_type": "code",
   "execution_count": null,
   "id": "98f41092-0769-4bb2-8997-d1e098a86181",
   "metadata": {},
   "outputs": [],
   "source": []
  }
 ],
 "metadata": {
  "kernelspec": {
   "display_name": "Python 3 (ipykernel)",
   "language": "python",
   "name": "python3"
  },
  "language_info": {
   "codemirror_mode": {
    "name": "ipython",
    "version": 3
   },
   "file_extension": ".py",
   "mimetype": "text/x-python",
   "name": "python",
   "nbconvert_exporter": "python",
   "pygments_lexer": "ipython3",
   "version": "3.10.12"
  }
 },
 "nbformat": 4,
 "nbformat_minor": 5
}
