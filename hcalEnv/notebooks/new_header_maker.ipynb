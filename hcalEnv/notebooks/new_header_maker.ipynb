{
 "cells": [
  {
   "cell_type": "code",
   "execution_count": 1,
   "id": "c18469a0-12fa-4300-8c1b-cafdf535d425",
   "metadata": {},
   "outputs": [],
   "source": [
    "import numpy as np\n",
    "import pandas as pd\n",
    "import matplotlib.pyplot as plt\n",
    "from tqdm import tqdm\n",
    "\n",
    "import sys\n",
    "sys.path.append(\"../src\")\n",
    "\n",
    "from data_prep import *\n",
    "from make_cuts import *\n",
    "from fitting_functions import *\n",
    "from pulse_profile_generator import *"
   ]
  },
  {
   "cell_type": "code",
   "execution_count": 2,
   "id": "332f2e88-0160-46e5-8871-7fa3476afd27",
   "metadata": {},
   "outputs": [],
   "source": [
    "pd.set_option('display.max_columns', None)"
   ]
  },
  {
   "cell_type": "code",
   "execution_count": 3,
   "id": "cc5b6c52-a17e-4a15-b2dd-98a2d5efd302",
   "metadata": {},
   "outputs": [],
   "source": [
    "c_folder=\"../../data/calibration/\"\n",
    "d_folder=\"../../data/runData/\"\n",
    "r_n=307\n",
    "p_folder=\"../../plots/run_\"+str(r_n)+\"/\""
   ]
  },
  {
   "cell_type": "code",
   "execution_count": 7,
   "id": "3f405491-ef59-476d-a36a-9e6bd9071497",
   "metadata": {},
   "outputs": [
    {
     "name": "stdout",
     "output_type": "stream",
     "text": [
      "CPU times: user 7.75 s, sys: 629 ms, total: 8.38 s\n",
      "Wall time: 8.95 s\n"
     ]
    }
   ],
   "source": [
    "%%time\n",
    "p,m,r=import_data(c_folder,d_folder, 305, is_it_pulsed=False)"
   ]
  },
  {
   "cell_type": "code",
   "execution_count": 8,
   "id": "2d7f54cc-35c9-40ea-9ef9-05e5985beb53",
   "metadata": {},
   "outputs": [
    {
     "name": "stdout",
     "output_type": "stream",
     "text": [
      "Number of events: 47351\n",
      "\n",
      "\n",
      "Initial pedestal-based selection performed.\n",
      "Events left: 46271\n",
      "\n",
      "\n",
      "CPU times: user 970 ms, sys: 161 ms, total: 1.13 s\n",
      "Wall time: 1.13 s\n"
     ]
    }
   ],
   "source": [
    "%%time\n",
    "r=select_bars_with_data(r,p, subtract_pedestal=True, is_it_pulsed=False) #this needs to be run as it's own cell"
   ]
  },
  {
   "cell_type": "code",
   "execution_count": 64,
   "id": "1a4c8f74-e093-4d09-837f-43f0574844f4",
   "metadata": {},
   "outputs": [],
   "source": [
    "def longitudinal_profile(run_df, run_number, plot_folder, save_plot=True):\n",
    "    n_event=len(run_df.pf_event.unique())\n",
    "    layer_sum=run_df.groupby([\"layer\"]).sum()[[\"adc_sum_end0\", \"adc_sum_end1\"]]/n_event\n",
    "\n",
    "    plt.bar(layer_sum.index-0.2, layer_sum[\"adc_sum_end0\"], color=\"magenta\", alpha=0.5, edgecolor=\"magenta\", label=\"end_0\", width=0.4)\n",
    "    plt.bar(layer_sum.index+0.2, layer_sum[\"adc_sum_end1\"], color=\"blue\", alpha=0.5, edgecolor=\"blue\", label=\"end_1\", width=0.4)\n",
    "    plt.xlim(0.5,19.5)\n",
    "    plt.xticks(np.arange(1,20))\n",
    "    plt.legend()\n",
    "    plt.xlabel(\"Layer\", fontsize=12.5)\n",
    "    plt.ylabel(\"Reconstructed energy [MeV]\", fontsize=12.5)\n",
    "    plt.title(\"Run \"+str(run_number), fontsize=15)\n",
    "    \n",
    "    if save_plot==True:\n",
    "        plt.savefig(plot_folder+\"longitudinal_profile.png\", bbox_inches='tight')\n",
    "        \n",
    "    plt.show()"
   ]
  },
  {
   "cell_type": "code",
   "execution_count": 65,
   "id": "fb71d2f6-1182-4398-ae6a-46bfaa7ca58e",
   "metadata": {},
   "outputs": [
    {
     "data": {
      "image/png": "[encoded data removed]",
      "text/plain": [
       "<Figure size 600x400 with 1 Axes>"
      ]
     },
     "metadata": {},
     "output_type": "display_data"
    }
   ],
   "source": [
    "longitudinal_profile(r,r_n,p_folder, save_plot=False)"
   ]
  },
  {
   "cell_type": "code",
   "execution_count": 11,
   "id": "e6c248e6-256a-4c9f-9423-4a4a71edb638",
   "metadata": {},
   "outputs": [
    {
     "data": {
      "text/html": [
       "<div>\n",
       "<style scoped>\n",
       "    .dataframe tbody tr th:only-of-type {\n",
       "        vertical-align: middle;\n",
       "    }\n",
       "\n",
       "    .dataframe tbody tr th {\n",
       "        vertical-align: top;\n",
       "    }\n",
       "\n",
       "    .dataframe thead th {\n",
       "        text-align: right;\n",
       "    }\n",
       "</style>\n",
       "<table border=\"1\" class=\"dataframe\">\n",
       "  <thead>\n",
       "    <tr style=\"text-align: right;\">\n",
       "      <th></th>\n",
       "      <th>pf_event</th>\n",
       "      <th>tot_end0</th>\n",
       "      <th>adc_sum_end0</th>\n",
       "      <th>adc_mean_end0</th>\n",
       "      <th>adc_max_end0</th>\n",
       "      <th>layer</th>\n",
       "      <th>strip</th>\n",
       "      <th>tot_end1</th>\n",
       "      <th>adc_sum_end1</th>\n",
       "      <th>adc_mean_end1</th>\n",
       "      <th>adc_max_end1</th>\n",
       "    </tr>\n",
       "  </thead>\n",
       "  <tbody>\n",
       "    <tr>\n",
       "      <th>0</th>\n",
       "      <td>15</td>\n",
       "      <td>0</td>\n",
       "      <td>5.902279</td>\n",
       "      <td>0.737785</td>\n",
       "      <td>1.167117</td>\n",
       "      <td>1</td>\n",
       "      <td>0</td>\n",
       "      <td>0</td>\n",
       "      <td>3.508247</td>\n",
       "      <td>0.438531</td>\n",
       "      <td>0.637863</td>\n",
       "    </tr>\n",
       "    <tr>\n",
       "      <th>1</th>\n",
       "      <td>247</td>\n",
       "      <td>0</td>\n",
       "      <td>1.011502</td>\n",
       "      <td>0.126438</td>\n",
       "      <td>0.200077</td>\n",
       "      <td>1</td>\n",
       "      <td>0</td>\n",
       "      <td>0</td>\n",
       "      <td>1.209740</td>\n",
       "      <td>0.151218</td>\n",
       "      <td>0.263943</td>\n",
       "    </tr>\n",
       "    <tr>\n",
       "      <th>2</th>\n",
       "      <td>257</td>\n",
       "      <td>0</td>\n",
       "      <td>8.525515</td>\n",
       "      <td>1.065689</td>\n",
       "      <td>1.778465</td>\n",
       "      <td>1</td>\n",
       "      <td>0</td>\n",
       "      <td>0</td>\n",
       "      <td>6.521600</td>\n",
       "      <td>0.815200</td>\n",
       "      <td>1.649646</td>\n",
       "    </tr>\n",
       "    <tr>\n",
       "      <th>3</th>\n",
       "      <td>265</td>\n",
       "      <td>0</td>\n",
       "      <td>11.204327</td>\n",
       "      <td>1.400541</td>\n",
       "      <td>2.245312</td>\n",
       "      <td>1</td>\n",
       "      <td>0</td>\n",
       "      <td>0</td>\n",
       "      <td>11.393555</td>\n",
       "      <td>1.424194</td>\n",
       "      <td>2.199528</td>\n",
       "    </tr>\n",
       "    <tr>\n",
       "      <th>4</th>\n",
       "      <td>289</td>\n",
       "      <td>0</td>\n",
       "      <td>10.592980</td>\n",
       "      <td>1.324122</td>\n",
       "      <td>2.078581</td>\n",
       "      <td>1</td>\n",
       "      <td>0</td>\n",
       "      <td>0</td>\n",
       "      <td>10.271795</td>\n",
       "      <td>1.283974</td>\n",
       "      <td>1.957580</td>\n",
       "    </tr>\n",
       "  </tbody>\n",
       "</table>\n",
       "</div>"
      ],
      "text/plain": [
       "   pf_event  tot_end0  adc_sum_end0  adc_mean_end0  adc_max_end0  layer  \\\n",
       "0        15         0      5.902279       0.737785      1.167117      1   \n",
       "1       247         0      1.011502       0.126438      0.200077      1   \n",
       "2       257         0      8.525515       1.065689      1.778465      1   \n",
       "3       265         0     11.204327       1.400541      2.245312      1   \n",
       "4       289         0     10.592980       1.324122      2.078581      1   \n",
       "\n",
       "   strip  tot_end1  adc_sum_end1  adc_mean_end1  adc_max_end1  \n",
       "0      0         0      3.508247       0.438531      0.637863  \n",
       "1      0         0      1.209740       0.151218      0.263943  \n",
       "2      0         0      6.521600       0.815200      1.649646  \n",
       "3      0         0     11.393555       1.424194      2.199528  \n",
       "4      0         0     10.271795       1.283974      1.957580  "
      ]
     },
     "execution_count": 11,
     "metadata": {},
     "output_type": "execute_result"
    }
   ],
   "source": [
    "r=convert_mip_to_MeV(r, m, is_it_pulsed=False)\n",
    "r.head()"
   ]
  },
  {
   "cell_type": "code",
   "execution_count": 78,
   "id": "fa0f4b82-4ab8-4282-b8e2-b9716d032d12",
   "metadata": {},
   "outputs": [],
   "source": [
    "n_event=len(r.pf_event.unique())\n",
    "layer_sum=r.groupby([\"layer\"]).sum()[[\"adc_sum_end0\", \"adc_sum_end1\"]]/n_event"
   ]
  },
  {
   "cell_type": "code",
   "execution_count": 82,
   "id": "b514ede5-95d0-43f0-971a-29d9734f3eb8",
   "metadata": {},
   "outputs": [],
   "source": [
    "strip_sum=r.groupby([\"layer\", \"strip\"]).sum()[[\"adc_sum_end0\", \"adc_sum_end1\"]]/n_event"
   ]
  },
  {
   "cell_type": "code",
   "execution_count": 109,
   "id": "9791b1bc-9f22-41cd-9581-e4263e6e4b01",
   "metadata": {},
   "outputs": [
    {
     "data": {
      "text/plain": [
       "adc_sum_end0    5.534388\n",
       "adc_sum_end1    5.143672\n",
       "dtype: float64"
      ]
     },
     "execution_count": 109,
     "metadata": {},
     "output_type": "execute_result"
    }
   ],
   "source": [
    "strip_sum[[\"adc_sum_end0\", \"adc_sum_end1\"]].max(axis=0)"
   ]
  },
  {
   "cell_type": "code",
   "execution_count": 86,
   "id": "ce695d30-3b1a-4bcc-8744-113770f473c7",
   "metadata": {},
   "outputs": [],
   "source": [
    "# for i in range(1,20):\n",
    "#    strip_sum[strip_sum[\"layer\"]==i]"
   ]
  },
  {
   "cell_type": "code",
   "execution_count": 99,
   "id": "5cdfc2ed-20a9-4577-898f-b42c4a0580b4",
   "metadata": {},
   "outputs": [
    {
     "ename": "ConversionError",
     "evalue": "Failed to convert value(s) to axis units: 'adc_sum_end1'",
     "output_type": "error",
     "traceback": [
      "\u001b[0;31m---------------------------------------------------------------------------\u001b[0m",
      "\u001b[0;31mValueError\u001b[0m                                Traceback (most recent call last)",
      "File \u001b[0;32m~/.local/lib/python3.10/site-packages/matplotlib/axis.py:1813\u001b[0m, in \u001b[0;36mAxis.convert_units\u001b[0;34m(self, x)\u001b[0m\n\u001b[1;32m   1812\u001b[0m \u001b[38;5;28;01mtry\u001b[39;00m:\n\u001b[0;32m-> 1813\u001b[0m     ret \u001b[38;5;241m=\u001b[39m \u001b[38;5;28;43mself\u001b[39;49m\u001b[38;5;241;43m.\u001b[39;49m\u001b[43mconverter\u001b[49m\u001b[38;5;241;43m.\u001b[39;49m\u001b[43mconvert\u001b[49m\u001b[43m(\u001b[49m\u001b[43mx\u001b[49m\u001b[43m,\u001b[49m\u001b[43m \u001b[49m\u001b[38;5;28;43mself\u001b[39;49m\u001b[38;5;241;43m.\u001b[39;49m\u001b[43munits\u001b[49m\u001b[43m,\u001b[49m\u001b[43m \u001b[49m\u001b[38;5;28;43mself\u001b[39;49m\u001b[43m)\u001b[49m\n\u001b[1;32m   1814\u001b[0m \u001b[38;5;28;01mexcept\u001b[39;00m \u001b[38;5;167;01mException\u001b[39;00m \u001b[38;5;28;01mas\u001b[39;00m e:\n",
      "File \u001b[0;32m~/.local/lib/python3.10/site-packages/matplotlib/category.py:49\u001b[0m, in \u001b[0;36mStrCategoryConverter.convert\u001b[0;34m(value, unit, axis)\u001b[0m\n\u001b[1;32m     48\u001b[0m \u001b[38;5;28;01mif\u001b[39;00m unit \u001b[38;5;129;01mis\u001b[39;00m \u001b[38;5;28;01mNone\u001b[39;00m:\n\u001b[0;32m---> 49\u001b[0m     \u001b[38;5;28;01mraise\u001b[39;00m \u001b[38;5;167;01mValueError\u001b[39;00m(\n\u001b[1;32m     50\u001b[0m         \u001b[38;5;124m'\u001b[39m\u001b[38;5;124mMissing category information for StrCategoryConverter; \u001b[39m\u001b[38;5;124m'\u001b[39m\n\u001b[1;32m     51\u001b[0m         \u001b[38;5;124m'\u001b[39m\u001b[38;5;124mthis might be caused by unintendedly mixing categorical and \u001b[39m\u001b[38;5;124m'\u001b[39m\n\u001b[1;32m     52\u001b[0m         \u001b[38;5;124m'\u001b[39m\u001b[38;5;124mnumeric data\u001b[39m\u001b[38;5;124m'\u001b[39m)\n\u001b[1;32m     53\u001b[0m StrCategoryConverter\u001b[38;5;241m.\u001b[39m_validate_unit(unit)\n",
      "\u001b[0;31mValueError\u001b[0m: Missing category information for StrCategoryConverter; this might be caused by unintendedly mixing categorical and numeric data",
      "\nThe above exception was the direct cause of the following exception:\n",
      "\u001b[0;31mConversionError\u001b[0m                           Traceback (most recent call last)",
      "Cell \u001b[0;32mIn[99], line 6\u001b[0m\n\u001b[1;32m      4\u001b[0m plt\u001b[38;5;241m.\u001b[39mlegend()\n\u001b[1;32m      5\u001b[0m plt\u001b[38;5;241m.\u001b[39mxticks(helper_df\u001b[38;5;241m.\u001b[39mindex)\n\u001b[0;32m----> 6\u001b[0m \u001b[43mplt\u001b[49m\u001b[38;5;241;43m.\u001b[39;49m\u001b[43mylim\u001b[49m\u001b[43m(\u001b[49m\u001b[38;5;241;43m0\u001b[39;49m\u001b[43m,\u001b[49m\u001b[38;5;28;43mmax\u001b[39;49m\u001b[43m(\u001b[49m\u001b[43mstrip_sum\u001b[49m\u001b[43m)\u001b[49m\u001b[43m)\u001b[49m\n\u001b[1;32m      7\u001b[0m plt\u001b[38;5;241m.\u001b[39mshow()\n",
      "File \u001b[0;32m~/.local/lib/python3.10/site-packages/matplotlib/pyplot.py:2144\u001b[0m, in \u001b[0;36mylim\u001b[0;34m(*args, **kwargs)\u001b[0m\n\u001b[1;32m   2142\u001b[0m \u001b[38;5;28;01mif\u001b[39;00m \u001b[38;5;129;01mnot\u001b[39;00m args \u001b[38;5;129;01mand\u001b[39;00m \u001b[38;5;129;01mnot\u001b[39;00m kwargs:\n\u001b[1;32m   2143\u001b[0m     \u001b[38;5;28;01mreturn\u001b[39;00m ax\u001b[38;5;241m.\u001b[39mget_ylim()\n\u001b[0;32m-> 2144\u001b[0m ret \u001b[38;5;241m=\u001b[39m \u001b[43max\u001b[49m\u001b[38;5;241;43m.\u001b[39;49m\u001b[43mset_ylim\u001b[49m\u001b[43m(\u001b[49m\u001b[38;5;241;43m*\u001b[39;49m\u001b[43margs\u001b[49m\u001b[43m,\u001b[49m\u001b[43m \u001b[49m\u001b[38;5;241;43m*\u001b[39;49m\u001b[38;5;241;43m*\u001b[39;49m\u001b[43mkwargs\u001b[49m\u001b[43m)\u001b[49m\n\u001b[1;32m   2145\u001b[0m \u001b[38;5;28;01mreturn\u001b[39;00m ret\n",
      "File \u001b[0;32m~/.local/lib/python3.10/site-packages/matplotlib/axes/_base.py:3973\u001b[0m, in \u001b[0;36m_AxesBase.set_ylim\u001b[0;34m(self, bottom, top, emit, auto, ymin, ymax)\u001b[0m\n\u001b[1;32m   3971\u001b[0m         \u001b[38;5;28;01mraise\u001b[39;00m \u001b[38;5;167;01mTypeError\u001b[39;00m(\u001b[38;5;124m\"\u001b[39m\u001b[38;5;124mCannot pass both \u001b[39m\u001b[38;5;124m'\u001b[39m\u001b[38;5;124mtop\u001b[39m\u001b[38;5;124m'\u001b[39m\u001b[38;5;124m and \u001b[39m\u001b[38;5;124m'\u001b[39m\u001b[38;5;124mymax\u001b[39m\u001b[38;5;124m'\u001b[39m\u001b[38;5;124m\"\u001b[39m)\n\u001b[1;32m   3972\u001b[0m     top \u001b[38;5;241m=\u001b[39m ymax\n\u001b[0;32m-> 3973\u001b[0m \u001b[38;5;28;01mreturn\u001b[39;00m \u001b[38;5;28;43mself\u001b[39;49m\u001b[38;5;241;43m.\u001b[39;49m\u001b[43myaxis\u001b[49m\u001b[38;5;241;43m.\u001b[39;49m\u001b[43m_set_lim\u001b[49m\u001b[43m(\u001b[49m\u001b[43mbottom\u001b[49m\u001b[43m,\u001b[49m\u001b[43m \u001b[49m\u001b[43mtop\u001b[49m\u001b[43m,\u001b[49m\u001b[43m \u001b[49m\u001b[43memit\u001b[49m\u001b[38;5;241;43m=\u001b[39;49m\u001b[43memit\u001b[49m\u001b[43m,\u001b[49m\u001b[43m \u001b[49m\u001b[43mauto\u001b[49m\u001b[38;5;241;43m=\u001b[39;49m\u001b[43mauto\u001b[49m\u001b[43m)\u001b[49m\n",
      "File \u001b[0;32m~/.local/lib/python3.10/site-packages/matplotlib/axis.py:1237\u001b[0m, in \u001b[0;36mAxis._set_lim\u001b[0;34m(self, v0, v1, emit, auto)\u001b[0m\n\u001b[1;32m   1235\u001b[0m \u001b[38;5;28mself\u001b[39m\u001b[38;5;241m.\u001b[39maxes\u001b[38;5;241m.\u001b[39m_process_unit_info([(name, (v0, v1))], convert\u001b[38;5;241m=\u001b[39m\u001b[38;5;28;01mFalse\u001b[39;00m)\n\u001b[1;32m   1236\u001b[0m v0 \u001b[38;5;241m=\u001b[39m \u001b[38;5;28mself\u001b[39m\u001b[38;5;241m.\u001b[39maxes\u001b[38;5;241m.\u001b[39m_validate_converted_limits(v0, \u001b[38;5;28mself\u001b[39m\u001b[38;5;241m.\u001b[39mconvert_units)\n\u001b[0;32m-> 1237\u001b[0m v1 \u001b[38;5;241m=\u001b[39m \u001b[38;5;28;43mself\u001b[39;49m\u001b[38;5;241;43m.\u001b[39;49m\u001b[43maxes\u001b[49m\u001b[38;5;241;43m.\u001b[39;49m\u001b[43m_validate_converted_limits\u001b[49m\u001b[43m(\u001b[49m\u001b[43mv1\u001b[49m\u001b[43m,\u001b[49m\u001b[43m \u001b[49m\u001b[38;5;28;43mself\u001b[39;49m\u001b[38;5;241;43m.\u001b[39;49m\u001b[43mconvert_units\u001b[49m\u001b[43m)\u001b[49m\n\u001b[1;32m   1239\u001b[0m \u001b[38;5;28;01mif\u001b[39;00m v0 \u001b[38;5;129;01mis\u001b[39;00m \u001b[38;5;28;01mNone\u001b[39;00m \u001b[38;5;129;01mor\u001b[39;00m v1 \u001b[38;5;129;01mis\u001b[39;00m \u001b[38;5;28;01mNone\u001b[39;00m:\n\u001b[1;32m   1240\u001b[0m     \u001b[38;5;66;03m# Axes init calls set_xlim(0, 1) before get_xlim() can be called,\u001b[39;00m\n\u001b[1;32m   1241\u001b[0m     \u001b[38;5;66;03m# so only grab the limits if we really need them.\u001b[39;00m\n\u001b[1;32m   1242\u001b[0m     old0, old1 \u001b[38;5;241m=\u001b[39m \u001b[38;5;28mself\u001b[39m\u001b[38;5;241m.\u001b[39mget_view_interval()\n",
      "File \u001b[0;32m~/.local/lib/python3.10/site-packages/matplotlib/axes/_base.py:3655\u001b[0m, in \u001b[0;36m_AxesBase._validate_converted_limits\u001b[0;34m(self, limit, convert)\u001b[0m\n\u001b[1;32m   3645\u001b[0m \u001b[38;5;250m\u001b[39m\u001b[38;5;124;03m\"\"\"\u001b[39;00m\n\u001b[1;32m   3646\u001b[0m \u001b[38;5;124;03mRaise ValueError if converted limits are non-finite.\u001b[39;00m\n\u001b[1;32m   3647\u001b[0m \n\u001b[0;32m   (...)\u001b[0m\n\u001b[1;32m   3652\u001b[0m \u001b[38;5;124;03mThe limit value after call to convert(), or None if limit is None.\u001b[39;00m\n\u001b[1;32m   3653\u001b[0m \u001b[38;5;124;03m\"\"\"\u001b[39;00m\n\u001b[1;32m   3654\u001b[0m \u001b[38;5;28;01mif\u001b[39;00m limit \u001b[38;5;129;01mis\u001b[39;00m \u001b[38;5;129;01mnot\u001b[39;00m \u001b[38;5;28;01mNone\u001b[39;00m:\n\u001b[0;32m-> 3655\u001b[0m     converted_limit \u001b[38;5;241m=\u001b[39m \u001b[43mconvert\u001b[49m\u001b[43m(\u001b[49m\u001b[43mlimit\u001b[49m\u001b[43m)\u001b[49m\n\u001b[1;32m   3656\u001b[0m     \u001b[38;5;28;01mif\u001b[39;00m \u001b[38;5;28misinstance\u001b[39m(converted_limit, np\u001b[38;5;241m.\u001b[39mndarray):\n\u001b[1;32m   3657\u001b[0m         converted_limit \u001b[38;5;241m=\u001b[39m converted_limit\u001b[38;5;241m.\u001b[39msqueeze()\n",
      "File \u001b[0;32m~/.local/lib/python3.10/site-packages/matplotlib/axis.py:1815\u001b[0m, in \u001b[0;36mAxis.convert_units\u001b[0;34m(self, x)\u001b[0m\n\u001b[1;32m   1813\u001b[0m     ret \u001b[38;5;241m=\u001b[39m \u001b[38;5;28mself\u001b[39m\u001b[38;5;241m.\u001b[39mconverter\u001b[38;5;241m.\u001b[39mconvert(x, \u001b[38;5;28mself\u001b[39m\u001b[38;5;241m.\u001b[39munits, \u001b[38;5;28mself\u001b[39m)\n\u001b[1;32m   1814\u001b[0m \u001b[38;5;28;01mexcept\u001b[39;00m \u001b[38;5;167;01mException\u001b[39;00m \u001b[38;5;28;01mas\u001b[39;00m e:\n\u001b[0;32m-> 1815\u001b[0m     \u001b[38;5;28;01mraise\u001b[39;00m munits\u001b[38;5;241m.\u001b[39mConversionError(\u001b[38;5;124m'\u001b[39m\u001b[38;5;124mFailed to convert value(s) to axis \u001b[39m\u001b[38;5;124m'\u001b[39m\n\u001b[1;32m   1816\u001b[0m                                  \u001b[38;5;124mf\u001b[39m\u001b[38;5;124m'\u001b[39m\u001b[38;5;124munits: \u001b[39m\u001b[38;5;132;01m{\u001b[39;00mx\u001b[38;5;132;01m!r}\u001b[39;00m\u001b[38;5;124m'\u001b[39m) \u001b[38;5;28;01mfrom\u001b[39;00m \u001b[38;5;21;01me\u001b[39;00m\n\u001b[1;32m   1817\u001b[0m \u001b[38;5;28;01mreturn\u001b[39;00m ret\n",
      "\u001b[0;31mConversionError\u001b[0m: Failed to convert value(s) to axis units: 'adc_sum_end1'"
     ]
    },
    {
     "data": {
      "image/png": "[encoded data removed]",
      "text/plain": [
       "<Figure size 600x400 with 1 Axes>"
      ]
     },
     "metadata": {},
     "output_type": "display_data"
    }
   ],
   "source": [
    "helper_df=strip_sum.xs(1, level=0, axis=0, drop_level=True)\n",
    "plt.bar(helper_df.index-0.2, helper_df[\"adc_sum_end0\"], color=\"magenta\", alpha=0.5, edgecolor=\"magenta\", label=\"end_0\", width=0.4)\n",
    "plt.bar(helper_df.index+0.2, helper_df[\"adc_sum_end1\"], color=\"blue\", alpha=0.5, edgecolor=\"blue\", label=\"end_1\", width=0.4)\n",
    "plt.legend()\n",
    "plt.xticks(helper_df.index)\n",
    "plt.ylim(0,max(strip_sum))\n",
    "plt.show()"
   ]
  },
  {
   "cell_type": "code",
   "execution_count": null,
   "id": "7621e222-c99e-4907-81ea-38f558196926",
   "metadata": {},
   "outputs": [],
   "source": [
    "#def make_shower_profiles(run_df, mip_df):\n",
    "#    run_df=convert_mip_to_MeV(run_df, mip_df, is_it_pulsed=False)\n",
    "    \n"
   ]
  },
  {
   "cell_type": "code",
   "execution_count": 10,
   "id": "98f41092-0769-4bb2-8997-d1e098a86181",
   "metadata": {},
   "outputs": [
    {
     "data": {
      "text/html": [
       "<div>\n",
       "<style scoped>\n",
       "    .dataframe tbody tr th:only-of-type {\n",
       "        vertical-align: middle;\n",
       "    }\n",
       "\n",
       "    .dataframe tbody tr th {\n",
       "        vertical-align: top;\n",
       "    }\n",
       "\n",
       "    .dataframe thead th {\n",
       "        text-align: right;\n",
       "    }\n",
       "</style>\n",
       "<table border=\"1\" class=\"dataframe\">\n",
       "  <thead>\n",
       "    <tr style=\"text-align: right;\">\n",
       "      <th></th>\n",
       "      <th>pf_event</th>\n",
       "      <th>tot_end0</th>\n",
       "      <th>adc_sum_end0</th>\n",
       "      <th>adc_mean_end0</th>\n",
       "      <th>adc_max_end0</th>\n",
       "      <th>layer</th>\n",
       "      <th>strip</th>\n",
       "      <th>tot_end1</th>\n",
       "      <th>adc_sum_end1</th>\n",
       "      <th>adc_mean_end1</th>\n",
       "      <th>adc_max_end1</th>\n",
       "      <th>pedestal_per_time_sample_std_dev_end0</th>\n",
       "      <th>pedestal_per_time_sample_std_dev_end1</th>\n",
       "    </tr>\n",
       "  </thead>\n",
       "  <tbody>\n",
       "    <tr>\n",
       "      <th>15</th>\n",
       "      <td>15</td>\n",
       "      <td>0</td>\n",
       "      <td>531</td>\n",
       "      <td>66.375</td>\n",
       "      <td>105</td>\n",
       "      <td>1</td>\n",
       "      <td>0</td>\n",
       "      <td>0</td>\n",
       "      <td>319</td>\n",
       "      <td>39.875</td>\n",
       "      <td>58</td>\n",
       "      <td>1.1587</td>\n",
       "      <td>1.67444</td>\n",
       "    </tr>\n",
       "    <tr>\n",
       "      <th>247</th>\n",
       "      <td>247</td>\n",
       "      <td>0</td>\n",
       "      <td>91</td>\n",
       "      <td>11.375</td>\n",
       "      <td>18</td>\n",
       "      <td>1</td>\n",
       "      <td>0</td>\n",
       "      <td>0</td>\n",
       "      <td>110</td>\n",
       "      <td>13.750</td>\n",
       "      <td>24</td>\n",
       "      <td>1.1587</td>\n",
       "      <td>1.67444</td>\n",
       "    </tr>\n",
       "    <tr>\n",
       "      <th>257</th>\n",
       "      <td>257</td>\n",
       "      <td>0</td>\n",
       "      <td>767</td>\n",
       "      <td>95.875</td>\n",
       "      <td>160</td>\n",
       "      <td>1</td>\n",
       "      <td>0</td>\n",
       "      <td>0</td>\n",
       "      <td>593</td>\n",
       "      <td>74.125</td>\n",
       "      <td>150</td>\n",
       "      <td>1.1587</td>\n",
       "      <td>1.67444</td>\n",
       "    </tr>\n",
       "    <tr>\n",
       "      <th>265</th>\n",
       "      <td>265</td>\n",
       "      <td>0</td>\n",
       "      <td>1008</td>\n",
       "      <td>126.000</td>\n",
       "      <td>202</td>\n",
       "      <td>1</td>\n",
       "      <td>0</td>\n",
       "      <td>0</td>\n",
       "      <td>1036</td>\n",
       "      <td>129.500</td>\n",
       "      <td>200</td>\n",
       "      <td>1.1587</td>\n",
       "      <td>1.67444</td>\n",
       "    </tr>\n",
       "    <tr>\n",
       "      <th>289</th>\n",
       "      <td>289</td>\n",
       "      <td>0</td>\n",
       "      <td>953</td>\n",
       "      <td>119.125</td>\n",
       "      <td>187</td>\n",
       "      <td>1</td>\n",
       "      <td>0</td>\n",
       "      <td>0</td>\n",
       "      <td>934</td>\n",
       "      <td>116.750</td>\n",
       "      <td>178</td>\n",
       "      <td>1.1587</td>\n",
       "      <td>1.67444</td>\n",
       "    </tr>\n",
       "  </tbody>\n",
       "</table>\n",
       "</div>"
      ],
      "text/plain": [
       "     pf_event  tot_end0  adc_sum_end0  adc_mean_end0  adc_max_end0  layer  \\\n",
       "15         15         0           531         66.375           105      1   \n",
       "247       247         0            91         11.375            18      1   \n",
       "257       257         0           767         95.875           160      1   \n",
       "265       265         0          1008        126.000           202      1   \n",
       "289       289         0           953        119.125           187      1   \n",
       "\n",
       "     strip  tot_end1  adc_sum_end1  adc_mean_end1  adc_max_end1  \\\n",
       "15       0         0           319         39.875            58   \n",
       "247      0         0           110         13.750            24   \n",
       "257      0         0           593         74.125           150   \n",
       "265      0         0          1036        129.500           200   \n",
       "289      0         0           934        116.750           178   \n",
       "\n",
       "     pedestal_per_time_sample_std_dev_end0  \\\n",
       "15                                  1.1587   \n",
       "247                                 1.1587   \n",
       "257                                 1.1587   \n",
       "265                                 1.1587   \n",
       "289                                 1.1587   \n",
       "\n",
       "     pedestal_per_time_sample_std_dev_end1  \n",
       "15                                 1.67444  \n",
       "247                                1.67444  \n",
       "257                                1.67444  \n",
       "265                                1.67444  \n",
       "289                                1.67444  "
      ]
     },
     "execution_count": 10,
     "metadata": {},
     "output_type": "execute_result"
    }
   ],
   "source": [
    "r.head()"
   ]
  },
  {
   "cell_type": "code",
   "execution_count": 9,
   "id": "a2d2f58e-3447-450e-bbd8-f02e4434e141",
   "metadata": {},
   "outputs": [],
   "source": [
    "# %%time\n",
    "# pulses=make_pulse_profiles(r)\n",
    "# pulses.to_csv(d_folder+\"/run_\"+str(r_n)+\"_pulse_problems.csv\")"
   ]
  },
  {
   "cell_type": "code",
   "execution_count": null,
   "id": "beb50391-aa4f-434b-814d-aa20e5042287",
   "metadata": {},
   "outputs": [],
   "source": []
  }
 ],
 "metadata": {
  "kernelspec": {
   "display_name": "Python 3 (ipykernel)",
   "language": "python",
   "name": "python3"
  },
  "language_info": {
   "codemirror_mode": {
    "name": "ipython",
    "version": 3
   },
   "file_extension": ".py",
   "mimetype": "text/x-python",
   "name": "python",
   "nbconvert_exporter": "python",
   "pygments_lexer": "ipython3",
   "version": "3.10.12"
  }
 },
 "nbformat": 4,
 "nbformat_minor": 5
}
