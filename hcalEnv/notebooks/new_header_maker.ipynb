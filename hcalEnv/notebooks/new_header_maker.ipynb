{
 "cells": [
  {
   "cell_type": "code",
   "execution_count": 35,
   "id": "c18469a0-12fa-4300-8c1b-cafdf535d425",
   "metadata": {},
   "outputs": [],
   "source": [
    "import numpy as np\n",
    "import pandas as pd\n",
    "import matplotlib.pyplot as plt\n",
    "from tqdm import tqdm\n",
    "from pathlib import Path\n",
    "from scipy.optimize import curve_fit\n",
    "\n",
    "import sys\n",
    "sys.path.append(\"../src\")\n",
    "\n",
    "from data_prep import *\n",
    "from make_cuts import *\n",
    "from fitting_functions import *\n",
    "from pulse_profile_generator import *\n",
    "from plot_maker import *"
   ]
  },
  {
   "cell_type": "code",
   "execution_count": 36,
   "id": "332f2e88-0160-46e5-8871-7fa3476afd27",
   "metadata": {},
   "outputs": [],
   "source": [
    "pd.set_option('display.max_columns', None)"
   ]
  },
  {
   "cell_type": "code",
   "execution_count": 37,
   "id": "cc5b6c52-a17e-4a15-b2dd-98a2d5efd302",
   "metadata": {},
   "outputs": [],
   "source": [
    "c_folder=\"../../data/calibration/\"\n",
    "d_folder=\"../../data/runData/\"\n",
    "r_n=287\n",
    "pulsed=True\n",
    "\n",
    "Path(\"../../plots\").mkdir(parents=True, exist_ok=True)\n",
    "Path(\"../../plots/run_\"+str(r_n)).mkdir(parents=True, exist_ok=True)\n",
    "p_folder=\"../../plots/run_\"+str(r_n)+\"/\""
   ]
  },
  {
   "cell_type": "code",
   "execution_count": 38,
   "id": "3f405491-ef59-476d-a36a-9e6bd9071497",
   "metadata": {},
   "outputs": [
    {
     "name": "stdout",
     "output_type": "stream",
     "text": [
      "CPU times: user 4.21 s, sys: 1.19 s, total: 5.4 s\n",
      "Wall time: 8.7 s\n"
     ]
    }
   ],
   "source": [
    "%%time\n",
    "p,m,r=import_data(c_folder,d_folder, r_n, is_it_pulsed=pulsed)"
   ]
  },
  {
   "cell_type": "code",
   "execution_count": 39,
   "id": "2d7f54cc-35c9-40ea-9ef9-05e5985beb53",
   "metadata": {},
   "outputs": [
    {
     "name": "stdout",
     "output_type": "stream",
     "text": [
      "Number of events: 7800\n",
      "\n",
      "\n",
      "Initial pedestal-based selection performed.\n",
      "Events left: 7764\n",
      "\n",
      "\n",
      "CPU times: user 345 ms, sys: 314 ms, total: 658 ms\n",
      "Wall time: 1.86 s\n"
     ]
    }
   ],
   "source": [
    "%%time\n",
    "r=select_bars_with_data(r,p, subtract_pedestal=True, is_it_pulsed=pulsed) #this needs to be run as it's own cell"
   ]
  },
  {
   "cell_type": "code",
   "execution_count": 40,
   "id": "c4b2375c-8521-4716-b879-66a8eb233b6c",
   "metadata": {},
   "outputs": [],
   "source": [
    "# %%time \n",
    "# make cuts\n",
    "# r=first_layer_cut(r)\n",
    "# r=back_layer_cut(r,5)"
   ]
  },
  {
   "cell_type": "code",
   "execution_count": 41,
   "id": "1ce2e651-c025-4368-9895-892631269029",
   "metadata": {},
   "outputs": [],
   "source": [
    "# %%time\n",
    "# fit gaussian to distribution of reconstructed energy\n",
    "# p0,p1=make_gaussian_fit_plot(r,m,r_n,p_folder, save_plot=False)"
   ]
  },
  {
   "cell_type": "code",
   "execution_count": 42,
   "id": "00a91d9e-c829-481f-8c76-7657c82151a0",
   "metadata": {},
   "outputs": [],
   "source": [
    "# %%time # make shower profiles\n",
    "# make_shower_profiles(r, m, r_n, p_folder)"
   ]
  },
  {
   "cell_type": "code",
   "execution_count": 43,
   "id": "a2d2f58e-3447-450e-bbd8-f02e4434e141",
   "metadata": {},
   "outputs": [
    {
     "name": "stdout",
     "output_type": "stream",
     "text": [
      "CPU times: user 21.9 s, sys: 95.3 ms, total: 22 s\n",
      "Wall time: 22.1 s\n"
     ]
    }
   ],
   "source": [
    "%%time \n",
    "# make the pulse profile dataframe\n",
    "pulses=make_pulse_profiles(r)\n",
    "pulses.to_csv(d_folder+\"/run_\"+str(r_n)+\"_pulse_problems.csv\")"
   ]
  },
  {
   "cell_type": "code",
   "execution_count": null,
   "id": "7d52de91-2682-4975-8a17-d9432e7fd7a7",
   "metadata": {},
   "outputs": [],
   "source": []
  },
  {
   "cell_type": "code",
   "execution_count": null,
   "id": "ab979ba3-d899-4b7b-90f1-3846e958d607",
   "metadata": {},
   "outputs": [],
   "source": []
  }
 ],
 "metadata": {
  "kernelspec": {
   "display_name": "Python 3 (ipykernel)",
   "language": "python",
   "name": "python3"
  },
  "language_info": {
   "codemirror_mode": {
    "name": "ipython",
    "version": 3
   },
   "file_extension": ".py",
   "mimetype": "text/x-python",
   "name": "python",
   "nbconvert_exporter": "python",
   "pygments_lexer": "ipython3",
   "version": "3.10.12"
  }
 },
 "nbformat": 4,
 "nbformat_minor": 5
}
