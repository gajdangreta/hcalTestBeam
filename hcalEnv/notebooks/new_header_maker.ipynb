{
 "cells": [
  {
   "cell_type": "code",
   "execution_count": 4,
   "id": "c18469a0-12fa-4300-8c1b-cafdf535d425",
   "metadata": {},
   "outputs": [],
   "source": [
    "import numpy as np\n",
    "import pandas as pd\n",
    "import matplotlib.pyplot as plt\n",
    "import sys"
   ]
  },
  {
   "cell_type": "code",
   "execution_count": 2,
   "id": "332f2e88-0160-46e5-8871-7fa3476afd27",
   "metadata": {},
   "outputs": [],
   "source": [
    "pd.set_option('display.max_columns', None)"
   ]
  },
  {
   "cell_type": "code",
   "execution_count": 8,
   "id": "cc5b6c52-a17e-4a15-b2dd-98a2d5efd302",
   "metadata": {},
   "outputs": [],
   "source": [
    "c_folder=\"../../data/calibration/\"\n",
    "d_folder=\"../../data/runData/\"\n",
    "r_n=307\n",
    "pulsed=True\n",
    "p_folder=\"../../plots/run_\"+str(r_n)+\"/\""
   ]
  },
  {
   "cell_type": "code",
   "execution_count": 9,
   "id": "b996e5f4-7977-4ba1-a454-f8bd42a337de",
   "metadata": {},
   "outputs": [],
   "source": [
    "# helper functions\n",
    "def choose_bar(df,layer, strip):\n",
    "    df=df[df[\"strip\"]==strip]\n",
    "    df=df[df[\"layer\"]==layer]\n",
    "    return df\n",
    "\n",
    "def import_data(calibration_folder, data_folder, run_number, is_it_pulsed=False):\n",
    "    pedestal_df=pd.read_csv(calibration_folder+\"pedestal.csv\", sep=',')\n",
    "    mip_df=pd.read_csv(calibration_folder+\"mip.csv\", sep=',')\n",
    "    if is_it_pulsed==True:\n",
    "        run_df=pd.read_csv(data_folder+\"run_\"+str(run_number)+\"_pulse.csv\", sep=',')\n",
    "    else:\n",
    "        run_df=pd.read_csv(data_folder+\"run_\"+str(run_number)+\".csv\", sep=',')\n",
    "        \n",
    "    return pedestal_df,mip_df,run_df"
   ]
  },
  {
   "cell_type": "code",
   "execution_count": null,
   "id": "3f405491-ef59-476d-a36a-9e6bd9071497",
   "metadata": {},
   "outputs": [],
   "source": []
  },
  {
   "cell_type": "code",
   "execution_count": null,
   "id": "c659f320-dae6-44e5-9fa2-39e98cc097ab",
   "metadata": {},
   "outputs": [],
   "source": [
    "def select_bars_with_data(run_df, pedestal_df=None, mip_df=None, subtract_pedestal=False, convert_mip=False):\n",
    "    data_df=[]\n",
    "    \n",
    "    layers=np.arange(1,20)\n",
    "    strips=np.arange(0,12)\n",
    "    \n",
    "    for layer in layers:\n",
    "        for strip in strips:\n",
    "            df_slice=choose_bar(df,layer,strip)\n",
    "            pedestal_slice=choose_bar(pedestals,layer,strip)\n",
    "            mip=choose_bar(mips,layer,strip)\n",
    "            if not pedestal_slice.empty:\n",
    "                df_slice=df_slice[df_slice[\"adc_sum_end0\"]>1.2*pedestal_slice.iloc[0,-2]] # there could be a switch whether we want to\n",
    "                df_slice=df_slice[df_slice[\"adc_sum_end1\"]>1.2*pedestal_slice.iloc[1,-2]] # require both ends to register the hit\n",
    "\n",
    "                df_slice.loc[:,\"adc_sum_end0\"]-=pedestal_slice.iloc[0,-2] # subtracting pedestals\n",
    "                df_slice.loc[:,\"adc_sum_end1\"]-=pedestal_slice.iloc[1,-2]\n",
    "\n",
    "                df_slice.loc[:,\"adc_sum_end0\"]*=(4.66/mip.iloc[0,-1]) # converting to energy\n",
    "                df_slice.loc[:,\"adc_sum_end1\"]*=(4.66/mip.iloc[1,-1])\n",
    "                \n",
    "            confirmed_data.extend(df_slice.values.tolist())\n",
    "    confirmed_df=pd.DataFrame(confirmed_data, columns=['event', 'adc_sum_end0', 'layer', 'strip', 'adc_sum_end1'])\n",
    "    events_left=confirmed_df.event.unique()\n",
    "    print(\"Initial pedestal-based selection performed.\")\n",
    "    print(\"Events left: \"+str(len(events_left)))\n",
    "    print(\"\\n\")\n",
    "    return confirmed_df"
   ]
  }
 ],
 "metadata": {
  "kernelspec": {
   "display_name": "Python 3 (ipykernel)",
   "language": "python",
   "name": "python3"
  },
  "language_info": {
   "codemirror_mode": {
    "name": "ipython",
    "version": 3
   },
   "file_extension": ".py",
   "mimetype": "text/x-python",
   "name": "python",
   "nbconvert_exporter": "python",
   "pygments_lexer": "ipython3",
   "version": "3.10.12"
  }
 },
 "nbformat": 4,
 "nbformat_minor": 5
}
