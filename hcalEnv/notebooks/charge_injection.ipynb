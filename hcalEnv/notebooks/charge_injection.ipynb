{
 "cells": [
  {
   "cell_type": "code",
   "execution_count": 45,
   "id": "ac6c7cfe-523d-4ac4-9975-d170f0abc2bb",
   "metadata": {},
   "outputs": [],
   "source": [
    "import numpy as np\n",
    "import matplotlib.pyplot as plt\n",
    "import scipy.signal as sig\n",
    "from tqdm import tqdm\n",
    "from scipy.optimize import curve_fit\n",
    "\n",
    "import sys\n",
    "sys.path.append(\"../src\")\n",
    "\n",
    "from data_prep import *\n",
    "from make_cuts import *\n",
    "from fitting_functions import *\n",
    "from pulse_profile_generator import *\n",
    "from plot_maker import *\n",
    "from pulse_plot_maker import *"
   ]
  },
  {
   "cell_type": "code",
   "execution_count": 2,
   "id": "20b2f39d-f2a0-4c9b-8bb8-5f082bc4c037",
   "metadata": {},
   "outputs": [],
   "source": [
    "def plot_charge_injection(single_channel, is_averaged=False):\n",
    "    low_range=single_channel[single_channel[\"CAPACITOR_TYPE\"]==0]\n",
    "    high_range=single_channel[single_channel[\"CAPACITOR_TYPE\"]==1]\n",
    "\n",
    "    high_non_zero=high_range[high_range['tot_max']>0]\n",
    "    \n",
    "    layer=single_channel[\"layer\"].unique()[0]\n",
    "    bar=single_channel[\"strip\"].unique()[0]\n",
    "    end=single_channel[\"end\"].unique()[0]\n",
    "    event=single_channel[\"EVENT\"].unique()[0]\n",
    "    \n",
    "    avg_colors=[\"teal\", \"crimson\"]\n",
    "    colors=[\"darkslategrey\", \"maroon\"]\n",
    "    \n",
    "    \n",
    "    marker=[\"o\", \"x\"]\n",
    "    if is_averaged==False:\n",
    "        plt.suptitle(\"Layer: \"+str(layer)+\" Bar: \"+str(bar)+\" End: \"+str(end)+\", Event: \"+str(event))\n",
    "    else:\n",
    "        colors=avg_colors\n",
    "        plt.suptitle(\"Layer: \"+str(layer)+\" Bar: \"+str(bar)+\" End: \"+str(end))\n",
    "        \n",
    "    plt.subplot(1,2,1)\n",
    "    plt.scatter((low_range[\"CALIB_DAC\"]/2047)*0.5,low_range[\"tot_max\"], label=\"TOT\", color=colors[1])\n",
    "    plt.scatter((low_range[\"CALIB_DAC\"]/2047)*0.5,low_range[\"adc_max\"], label=\"ADC\", color=colors[0])\n",
    "    plt.ylabel(\"ADC Ticks\")\n",
    "    plt.xlabel(\"Injection capacitance [pF]\")\n",
    "    plt.title(\"Low range\")\n",
    "    plt.legend()\n",
    "    \n",
    "    plt.subplot(1,2,2)\n",
    "    \n",
    "    plt.scatter((high_range[\"CALIB_DAC\"]/2047)*8,high_range[\"tot_max\"], label=\"TOT\", color=colors[1])\n",
    "    plt.scatter((high_range[\"CALIB_DAC\"]/2047)*8,high_range[\"adc_max\"], label=\"ADC\", color=colors[0])\n",
    "    plt.ylabel(\"ADC Ticks\")\n",
    "    plt.xlabel(\"Injection capacitance [pF]\")\n",
    "    #plt.xlim(-0.025,0.55)\n",
    "    #plt.ylim(0,250)\n",
    "    plt.title(\"High range\")\n",
    "    plt.legend()\n",
    "    plt.show()"
   ]
  },
  {
   "cell_type": "code",
   "execution_count": 3,
   "id": "9b04c6e9-9e5d-437a-a651-9458359a949c",
   "metadata": {},
   "outputs": [],
   "source": [
    "pd.set_option('display.max_columns', None)"
   ]
  },
  {
   "cell_type": "code",
   "execution_count": 4,
   "id": "41833a7a-3397-4eb9-bdba-4db28786a571",
   "metadata": {},
   "outputs": [],
   "source": [
    "ci_folder=\"../../data/calibration/charge_injections/\"\n",
    "c_folder=\"../../data/calibration/\"\n",
    "Path(\"../../plots\").mkdir(parents=True, exist_ok=True)\n",
    "Path(\"../../plots/charge_injections\").mkdir(parents=True, exist_ok=True)\n",
    "p_folder=\"../../plots/charge_injections/\""
   ]
  },
  {
   "cell_type": "code",
   "execution_count": 5,
   "id": "e03af235-7406-4774-81e4-2a4f3e4bb53f",
   "metadata": {},
   "outputs": [],
   "source": [
    "charge_injection_runs=[\"scan_DPM0_CALIBRUN_coff14_20220419_073825.csv\",\n",
    "                       \"scan_DPM0_CALIBRUN_coff14_20220424_071302.csv\",\n",
    "                       \"scan_DPM0_CALIBRUN_coff14_20220424_220633.csv\",\n",
    "                       \"scan_DPM1_CALIBRUN_coff14_20220419_081316.csv\",\n",
    "                       \"scan_DPM1_CALIBRUN_coff14_20220424_071550.csv\",\n",
    "                       \"scan_DPM1_CALIBRUN_coff14_20220424_220543.csv\"]"
   ]
  },
  {
   "cell_type": "code",
   "execution_count": 6,
   "id": "b48f896d-39bc-4157-acdf-cf16b653154d",
   "metadata": {},
   "outputs": [],
   "source": [
    "linkmap=pd.read_csv(c_folder+\"map.csv\")\n",
    "pedestal_df=pd.read_csv(c_folder+\"pedestal.csv\", sep=',') # normal pedestal_file needs to be used"
   ]
  },
  {
   "cell_type": "code",
   "execution_count": 7,
   "id": "599c4848-b675-4afb-96a9-350e715664e5",
   "metadata": {},
   "outputs": [],
   "source": [
    "# ALL prep\n",
    "c0=pd.read_csv(ci_folder+charge_injection_runs[1])\n",
    "merged0=c0.merge(linkmap, how=\"inner\", left_on=[\"CHAN\", \"DPM\", \"ILINK\"], right_on=[\"CHAN\", \"DPM\", \"LINK\"])\n",
    "merged0.drop([\"DPM\", \"ILINK\", \"CHAN\", \"SIPM_BIAS\", \"LINK\"], axis=1, inplace=True)\n",
    "merged0.drop(list(merged0.filter(regex = 'TOA.?')), axis=1, inplace=True)\n",
    "\n",
    "pmerged=merged0.merge(pedestal_df, how=\"left\", left_on=[\"PLANE\", \"STRIP\", \"END\"], right_on=[\"layer\", \"strip\", \"end\"])\n",
    "\n",
    "for i in range(8):  # believe it or not, the loop is faster than a wildcard lookup\n",
    "    adc_col = f'ADC{i}'\n",
    "    pmerged[adc_col]-=pmerged[\"pedestal_per_time_sample\"]\n",
    "\n",
    "pmerged.drop([\"PLANE\", \"STRIP\", \"END\", \"pedestal\", \"mean\", \"std_dev\",\n",
    "              \"pedestal_per_time_sample\", \"pedestal_per_time_sample_mean\", \"pedestal_per_time_sample_std_dev\"], axis=1, inplace=True)"
   ]
  },
  {
   "cell_type": "code",
   "execution_count": 8,
   "id": "15eb233a-524e-49e2-a2d5-6acd44024d16",
   "metadata": {},
   "outputs": [],
   "source": [
    "ADC_max=pmerged[list(pmerged.filter(regex = 'ADC.?'))].max(axis=1)\n",
    "pmerged=pmerged.assign(adc_max=ADC_max)\n",
    "pmerged.drop(list(pmerged.filter(regex = 'ADC.?')), axis=1, inplace=True)\n",
    "\n",
    "TOT_max=pmerged[list(pmerged.filter(regex = 'TOT.?'))].max(axis=1)\n",
    "pmerged=pmerged.assign(tot_max=TOT_max)\n",
    "pmerged.drop(list(pmerged.filter(regex = 'TOT.?')), axis=1, inplace=True)"
   ]
  },
  {
   "cell_type": "code",
   "execution_count": 12,
   "id": "79bccd19-18bb-4227-bfad-39018d447f14",
   "metadata": {},
   "outputs": [],
   "source": [
    "def remove_adc_outlier(df):\n",
    "    df[\"adc_diff\"]=np.abs(df[\"adc_max\"]-df[\"adc_max_mean\"])\n",
    "    max_adc_diff=df.groupby([\"CAPACITOR_TYPE\",\"CALIB_DAC\"]).max()[[\"adc_diff\"]]\n",
    "    outliers=max_adc_diff[max_adc_diff[\"adc_diff\"]>25]\n",
    "    res_df=pd.merge(df,outliers, on=[\"CAPACITOR_TYPE\", \"CALIB_DAC\", \"adc_diff\"],\n",
    "                    indicator=True, how='outer').query('_merge==\"left_only\"').drop('_merge', axis=1)\n",
    "    return res_df\n",
    "\n",
    "def remove_tot_outlier(df):\n",
    "    df[\"tot_diff\"]=np.abs(df[\"tot_max\"]-df[\"tot_max_mean\"])\n",
    "    max_adc_diff=df.groupby([\"CAPACITOR_TYPE\",\"CALIB_DAC\"]).max()[[\"tot_diff\"]]\n",
    "    outliers=max_adc_diff[max_adc_diff[\"tot_diff\"]>25]\n",
    "    res_df=pd.merge(df,outliers, on=[\"CAPACITOR_TYPE\", \"CALIB_DAC\", \"tot_diff\"],\n",
    "                    indicator=True, how='outer').query('_merge==\"left_only\"').drop('_merge', axis=1)\n",
    "    return res_df"
   ]
  },
  {
   "cell_type": "code",
   "execution_count": 21,
   "id": "a0ca1b1d-ab99-4449-83ef-4b99f9c8772e",
   "metadata": {},
   "outputs": [],
   "source": [
    "def remove_outliers(df):\n",
    "    df_avg=df.groupby([\"CAPACITOR_TYPE\",\"CALIB_DAC\"]).mean().drop([\"EVENT\", \"layer\", \"strip\", \"end\"], axis=1)\n",
    "    df_avg.rename(columns={\"adc_max\":\"adc_max_mean\", \"tot_max\":\"tot_max_mean\"}, inplace=True)\n",
    "\n",
    "    df_merged=df.merge(df_avg, how=\"left\", on=[\"CAPACITOR_TYPE\", \"CALIB_DAC\"])\n",
    "    res_df=remove_tot_outlier(remove_adc_outlier(df_merged)).drop([\"adc_max_mean\", \"tot_max_mean\", \"adc_diff\", \"tot_diff\"], axis=1)\n",
    "    return res_df"
   ]
  },
  {
   "cell_type": "code",
   "execution_count": 86,
   "id": "5c37e1a0-c778-4bba-bcb1-3c0da0bbc30e",
   "metadata": {},
   "outputs": [],
   "source": [
    "def power_law(x,A, a,b,c):\n",
    "    return a*((A-x)**b)+c"
   ]
  },
  {
   "cell_type": "code",
   "execution_count": 102,
   "id": "a17905ca-71dc-4940-9ed4-36caa956e219",
   "metadata": {},
   "outputs": [
    {
     "name": "stdout",
     "output_type": "stream",
     "text": [
      "[array([ True,  True,  True,  True,  True,  True,  True,  True,  True,\n",
      "        True,  True,  True,  True,  True,  True,  True,  True,  True,\n",
      "        True,  True,  True,  True,  True,  True,  True,  True,  True,\n",
      "        True,  True,  True,  True,  True,  True, False, False, False,\n",
      "       False, False, False, False, False, False, False, False, False,\n",
      "       False, False, False, False, False, False, False, False, False,\n",
      "       False, False, False, False, False, False, False, False, False,\n",
      "       False, False, False, False, False, False, False, False, False,\n",
      "       False])]\n"
     ]
    },
    {
     "data": {
      "image/png": "[encoded data removed]",
      "text/plain": [
       "<Figure size 1200x500 with 1 Axes>"
      ]
     },
     "metadata": {},
     "output_type": "display_data"
    }
   ],
   "source": [
    "plt.rcParams[\"figure.figsize\"]=(12,5)\n",
    "for layer in np.sort(pmerged.layer.unique())[1:2]:\n",
    "    for bar in np.sort(pmerged[pmerged[\"layer\"]==layer].strip.unique())[:1]:\n",
    "        for end in [0]:\n",
    "            single_channel=pmerged[(pmerged[\"layer\"]==layer) & (pmerged[\"strip\"]==bar)&(pmerged[\"end\"]==end)]\n",
    "\n",
    "            clean_df=remove_outliers(single_channel).groupby([\"CAPACITOR_TYPE\",\"CALIB_DAC\"]).mean().reset_index()\n",
    "            low_adc=clean_df[clean_df[\"CAPACITOR_TYPE\"]==0]\n",
    "            diffs=[np.diff(clean_df[clean_df[\"CAPACITOR_TYPE\"]==1][\"adc_max\"].values)>0]\n",
    "            print(diffs)\n",
    "            \n",
    "            plt.subplot(1,2,1)\n",
    "            plt.scatter(low_adc[\"CALIB_DAC\"]/2047*0.5, low_adc[\"adc_max\"])\n",
    "            # plt.scatter(high_adc[\"CALIB_DAC\"]/2047*8, high_adc[\"adc_max\"])\n",
    "            \n",
    "            # low_tot=clean_df[(clean_df[\"tot_max\"]>0) & (clean_df[\"CALIB_DAC\"]<=300)]\n",
    "            # high_tot=clean_df[(clean_df[\"CAPACITOR_TYPE\"]==1) & (clean_df[\"CALIB_DAC\"]>=300)]\n",
    "\n",
    "            # high_param, _ = curve_fit(linear,(high_tot[\"CALIB_DAC\"]), high_tot[\"tot_max\"])\n",
    "            # low_param, _ = curve_fit(power_law,(low_tot[\"CALIB_DAC\"]), low_tot[\"tot_max\"], p0=[1e4,])\n",
    "            # print(low_param)\n",
    "            # print(low_tot)\n",
    "            # for event in [0,1,2]:\n",
    "            #     plot_charge_injection(single_channel[single_channel[\"EVENT\"]==event], False)\n",
    "            # plt.subplot(1,2,1)\n",
    "            # plt.scatter((low_tot[\"CALIB_DAC\"]/2047)*8, low_tot[\"tot_max\"])\n",
    "            # plt.plot((low_tot[\"CALIB_DAC\"]/2047)*8, power_law((low_tot[\"CALIB_DAC\"]/2047)*8, *low_param))\n",
    "            # plt.subplot(1,2,2)\n",
    "            # plt.scatter((high_tot[\"CALIB_DAC\"]/2047)*8, high_tot[\"tot_max\"])\n",
    "            # plt.plot((high_tot[\"CALIB_DAC\"]/2047)*8, linear((high_tot[\"CALIB_DAC\"]/2047)*8, *high_param))"
   ]
  },
  {
   "cell_type": "code",
   "execution_count": 83,
   "id": "d8dbf479-f6a8-4b45-8f85-3f1e756fdbae",
   "metadata": {},
   "outputs": [
    {
     "data": {
      "text/plain": [
       "array([211.40475261, 675.13589121])"
      ]
     },
     "execution_count": 83,
     "metadata": {},
     "output_type": "execute_result"
    }
   ],
   "source": [
    "high_param"
   ]
  },
  {
   "cell_type": "code",
   "execution_count": 88,
   "id": "ea450f74-b8c1-4d30-ae53-076a14645d97",
   "metadata": {},
   "outputs": [
    {
     "data": {
      "text/plain": [
       "array([nan, nan, nan, nan])"
      ]
     },
     "execution_count": 88,
     "metadata": {},
     "output_type": "execute_result"
    }
   ],
   "source": [
    "low_param"
   ]
  },
  {
   "cell_type": "code",
   "execution_count": 256,
   "id": "bc25cb32-5d17-4f4e-b280-c239ccaa8362",
   "metadata": {},
   "outputs": [],
   "source": [
    "c0=pd.read_csv(ci_folder+charge_injection_runs[0])\n",
    "c1=pd.read_csv(ci_folder+charge_injection_runs[1])\n",
    "c2=pd.read_csv(ci_folder+charge_injection_runs[2])\n",
    "c3=pd.read_csv(ci_folder+charge_injection_runs[3])\n",
    "c4=pd.read_csv(ci_folder+charge_injection_runs[4])\n",
    "c5=pd.read_csv(ci_folder+charge_injection_runs[5])"
   ]
  },
  {
   "cell_type": "code",
   "execution_count": 257,
   "id": "4c9077c6-de0d-4d17-a174-4d296dda3ed4",
   "metadata": {},
   "outputs": [],
   "source": [
    "merged0=c0.merge(linkmap, how=\"inner\", left_on=[\"CHAN\", \"DPM\", \"ILINK\"], right_on=[\"CHAN\", \"DPM\", \"LINK\"])\n",
    "merged1=c1.merge(linkmap, how=\"inner\", left_on=[\"CHAN\", \"DPM\", \"ILINK\"], right_on=[\"CHAN\", \"DPM\", \"LINK\"])\n",
    "merged2=c2.merge(linkmap, how=\"inner\", left_on=[\"CHAN\", \"DPM\", \"ILINK\"], right_on=[\"CHAN\", \"DPM\", \"LINK\"])\n",
    "merged3=c3.merge(linkmap, how=\"inner\", left_on=[\"CHAN\", \"DPM\", \"ILINK\"], right_on=[\"CHAN\", \"DPM\", \"LINK\"])\n",
    "merged4=c4.merge(linkmap, how=\"inner\", left_on=[\"CHAN\", \"DPM\", \"ILINK\"], right_on=[\"CHAN\", \"DPM\", \"LINK\"])\n",
    "merged5=c5.merge(linkmap, how=\"inner\", left_on=[\"CHAN\", \"DPM\", \"ILINK\"], right_on=[\"CHAN\", \"DPM\", \"LINK\"])\n",
    "\n",
    "\n",
    "merged0.drop([\"DPM\", \"ILINK\", \"CHAN\", \"SIPM_BIAS\", \"LINK\"], axis=1, inplace=True)"
   ]
  },
  {
   "cell_type": "code",
   "execution_count": 258,
   "id": "3059f590-9868-41b0-8f39-fdd28e2df99d",
   "metadata": {},
   "outputs": [],
   "source": [
    "single_channel=merged0[(merged0[\"PLANE\"]==1) & (merged0[\"STRIP\"]==0) & (merged0[\"END\"]==0)]"
   ]
  },
  {
   "cell_type": "code",
   "execution_count": 259,
   "id": "bc170ade-cdd4-4677-bfe1-50ac2e6a11e4",
   "metadata": {},
   "outputs": [],
   "source": [
    "single_channel=merged5[(merged5[\"PLANE\"]==16) & (merged5[\"STRIP\"]==9) & (merged5[\"END\"]==0)]"
   ]
  },
  {
   "cell_type": "code",
   "execution_count": 260,
   "id": "f5aa6e4e-d0f4-43ed-b5be-b0b3e3bf7959",
   "metadata": {},
   "outputs": [],
   "source": [
    "event=0\n",
    "\n",
    "single_event=single_channel[single_channel[\"EVENT\"]==event]\n",
    "\n",
    "ADC_max=single_event[list(single_event.filter(regex = 'ADC.?'))].max(axis=1)\n",
    "single_event=single_event.assign(ADC_MAX=ADC_max)\n",
    "\n",
    "TOT_max=single_event[list(single_event.filter(regex = 'TOT.?'))].max(axis=1)\n",
    "single_event=single_event.assign(TOT_MAX=TOT_max)"
   ]
  },
  {
   "cell_type": "code",
   "execution_count": 261,
   "id": "3e2e1342-3b9f-4328-a070-52d70fcbf425",
   "metadata": {},
   "outputs": [],
   "source": [
    "cap_1=single_event[single_event[\"CAPACITOR_TYPE\"]==1]\n",
    "cap_0=single_event[single_event[\"CAPACITOR_TYPE\"]==0]"
   ]
  },
  {
   "cell_type": "code",
   "execution_count": 262,
   "id": "1c392ef8-3b29-4d76-b9c3-31c52f38b48d",
   "metadata": {},
   "outputs": [
    {
     "data": {
      "image/png": "[encoded data removed]",
      "text/plain": [
       "<Figure size 1200x500 with 2 Axes>"
      ]
     },
     "metadata": {},
     "output_type": "display_data"
    }
   ],
   "source": [
    "plt.rcParams[\"figure.figsize\"]=(12,5)\n",
    "plt.subplot(1,2,1)\n",
    "plt.scatter(cap_1[\"CALIB_DAC\"],cap_1[\"ADC_MAX\"], label=\"High-range C\")\n",
    "plt.scatter(cap_0[\"CALIB_DAC\"],cap_0[\"ADC_MAX\"], label=\"Low-Range C\")\n",
    "plt.ylabel(\"Pulse height [ADC units]\")\n",
    "plt.xlabel(\"Injected charge [bit?]\")\n",
    "plt.legend()\n",
    "\n",
    "plt.subplot(1,2,2)\n",
    "plt.scatter(cap_1[\"CALIB_DAC\"],cap_1[\"TOT_MAX\"], label=\"High-range C\")\n",
    "plt.scatter(cap_0[\"CALIB_DAC\"],cap_0[\"TOT_MAX\"], label=\"Low-Range C\")\n",
    "plt.ylabel(\"Pulse height [ADC units]\")\n",
    "plt.xlabel(\"Injected charge [bit?]\")\n",
    "plt.legend()\n",
    "plt.show()"
   ]
  },
  {
   "cell_type": "code",
   "execution_count": 263,
   "id": "461ba505-8661-4267-a37b-f513f8aa0111",
   "metadata": {},
   "outputs": [],
   "source": [
    "single_channel=merged3[(merged3[\"PLANE\"]==16) & (merged3[\"STRIP\"]==9) & (merged3[\"END\"]==0)]"
   ]
  },
  {
   "cell_type": "code",
   "execution_count": 264,
   "id": "794b24e1-a55a-4b2b-abb6-b78ad80287b8",
   "metadata": {},
   "outputs": [],
   "source": [
    "adcs=single_channel[list(single_channel.filter(regex = 'ADC.?'))]"
   ]
  },
  {
   "cell_type": "code",
   "execution_count": 271,
   "id": "8e2a3fd3-aa16-464c-81e5-88f345412fcc",
   "metadata": {},
   "outputs": [
    {
     "data": {
      "text/plain": [
       "<matplotlib.collections.PathCollection at 0x7c325b32d390>"
      ]
     },
     "execution_count": 271,
     "metadata": {},
     "output_type": "execute_result"
    },
    {
     "data": {
      "image/png": "[encoded data removed]",
      "text/plain": [
       "<Figure size 600x400 with 1 Axes>"
      ]
     },
     "metadata": {},
     "output_type": "display_data"
    }
   ],
   "source": [
    "\n",
    "plt.rcParams[\"figure.figsize\"]=(6,4)\n",
    "plt.scatter(np.arange(0,200,25), adcs.loc[adcs.index[60]])"
   ]
  },
  {
   "cell_type": "code",
   "execution_count": null,
   "id": "14742ef5-ee1e-46dc-ab3b-28a1ae88f4b0",
   "metadata": {},
   "outputs": [],
   "source": []
  }
 ],
 "metadata": {
  "kernelspec": {
   "display_name": "Python 3 (ipykernel)",
   "language": "python",
   "name": "python3"
  },
  "language_info": {
   "codemirror_mode": {
    "name": "ipython",
    "version": 3
   },
   "file_extension": ".py",
   "mimetype": "text/x-python",
   "name": "python",
   "nbconvert_exporter": "python",
   "pygments_lexer": "ipython3",
   "version": "3.10.12"
  }
 },
 "nbformat": 4,
 "nbformat_minor": 5
}
