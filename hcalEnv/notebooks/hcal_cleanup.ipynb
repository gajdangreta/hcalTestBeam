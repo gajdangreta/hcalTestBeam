{
 "cells": [
  {
   "cell_type": "code",
   "execution_count": 1,
   "id": "2a779ac4-017e-40d2-880c-f8969bf811f9",
   "metadata": {},
   "outputs": [],
   "source": [
    "import numpy as np\n",
    "import matplotlib.pyplot as plt\n",
    "import pandas as pd"
   ]
  },
  {
   "cell_type": "code",
   "execution_count": 2,
   "id": "118548b6-11f6-4ed5-b289-d36c520d17b9",
   "metadata": {},
   "outputs": [],
   "source": [
    "calibration_folder=\"../../data/calibration\"\n",
    "data_folder=\"../../data/runData\"\n",
    "run_n=307"
   ]
  },
  {
   "cell_type": "code",
   "execution_count": 15,
   "id": "ae416c6a-ea5e-4418-bab1-92a6e0739cf7",
   "metadata": {},
   "outputs": [],
   "source": [
    "layers=np.arange(1,20)\n",
    "strips=np.arange(0,12)"
   ]
  },
  {
   "cell_type": "code",
   "execution_count": 11,
   "id": "61b6a3d4-9bc3-46a7-a5ee-ece5ddddb4cc",
   "metadata": {},
   "outputs": [],
   "source": [
    "def import_data(n):\n",
    "    pedestals=pd.read_csv(calibration_folder+\"/pedestals.csv\", sep=',')\n",
    "    mips=pd.read_csv(calibration_folder+\"/mip.csv\", sep=',')\n",
    "    run=pd.read_csv(data_folder+\"/run_\"+str(n)+\".csv\", sep=',')\n",
    "    return pedestals,mips,run"
   ]
  },
  {
   "cell_type": "code",
   "execution_count": 13,
   "id": "b5938bdc-cd38-43f4-9285-829c7b683c67",
   "metadata": {},
   "outputs": [],
   "source": [
    "def choose_bar(df,layer, strip):\n",
    "    df=df[df[\"strip\"]==strip]\n",
    "    df=df[df[\"layer\"]==layer]\n",
    "    return df"
   ]
  },
  {
   "cell_type": "code",
   "execution_count": 14,
   "id": "3d9e38f4-21fe-412d-bf2d-7df9652a15ca",
   "metadata": {},
   "outputs": [],
   "source": [
    "def choose_layer(df,layer):\n",
    "    df=df[df['layer']==layer]\n",
    "    return df"
   ]
  },
  {
   "cell_type": "code",
   "execution_count": null,
   "id": "95f846ab-9312-4e10-a224-1fe2f219334b",
   "metadata": {},
   "outputs": [],
   "source": [
    "#uses the 1.2x pedestal criteria to remove \"false\" events. essentially cut 0\n",
    "#I don't think it should have a switch here for other methods - somewhere else there needs to be one though!\n",
    "def confirm_events(df):\n",
    "    return df"
   ]
  },
  {
   "cell_type": "code",
   "execution_count": 12,
   "id": "9b8fb2d2-88d1-475a-a546-49961a2db0a8",
   "metadata": {},
   "outputs": [],
   "source": [
    "ped, mip, ru=import_data(run_n)"
   ]
  },
  {
   "cell_type": "code",
   "execution_count": null,
   "id": "886f3199-0e52-4ac9-8d69-c030a00bd208",
   "metadata": {},
   "outputs": [],
   "source": []
  }
 ],
 "metadata": {
  "kernelspec": {
   "display_name": "Python 3 (ipykernel)",
   "language": "python",
   "name": "python3"
  },
  "language_info": {
   "codemirror_mode": {
    "name": "ipython",
    "version": 3
   },
   "file_extension": ".py",
   "mimetype": "text/x-python",
   "name": "python",
   "nbconvert_exporter": "python",
   "pygments_lexer": "ipython3",
   "version": "3.10.12"
  }
 },
 "nbformat": 4,
 "nbformat_minor": 5
}
