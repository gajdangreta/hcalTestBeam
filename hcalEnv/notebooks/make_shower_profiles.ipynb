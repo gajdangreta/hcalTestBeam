{
 "cells": [
  {
   "cell_type": "code",
   "execution_count": 3,
   "id": "405c6861-aaeb-4ff8-a059-c4c4330194ca",
   "metadata": {},
   "outputs": [],
   "source": [
    "import numpy as np\n",
    "import pandas as pd\n",
    "import matplotlib.pyplot as plt\n",
    "from pathlib import Path\n",
    "\n",
    "import sys\n",
    "sys.path.append(\"../src\")\n",
    "\n",
    "from data_prep import *\n",
    "from make_cuts import *\n",
    "from plot_maker import *"
   ]
  },
  {
   "cell_type": "code",
   "execution_count": 22,
   "id": "9b932196-fd75-43eb-b3f2-2eff02cfd11e",
   "metadata": {},
   "outputs": [],
   "source": [
    "c_folder=\"../../data/calibration/\"\n",
    "d_folder=\"../../data/runData/\"\n",
    "r_n=302\n",
    "Path(\"../../plots\").mkdir(parents=True, exist_ok=True)\n",
    "Path(\"../../plots/run_\"+str(r_n)).mkdir(parents=True, exist_ok=True)\n",
    "p_folder=\"../../plots/run_\"+str(r_n)+\"/\""
   ]
  },
  {
   "cell_type": "code",
   "execution_count": null,
   "id": "3c9ee8c2-9f58-4156-80df-5d555ef3a2ce",
   "metadata": {},
   "outputs": [],
   "source": [
    "p,m,r=import_data(c_folder,d_folder, r_n, is_it_pulsed=False)"
   ]
  },
  {
   "cell_type": "code",
   "execution_count": null,
   "id": "88f2b797-04d0-40d5-8b9c-bd8a9db382bf",
   "metadata": {},
   "outputs": [],
   "source": [
    "r=select_bars_with_data(r,p, subtract_pedestal=True, is_it_pulsed=False)"
   ]
  },
  {
   "cell_type": "code",
   "execution_count": null,
   "id": "60608109-650d-4576-93a1-2f95feaad3b1",
   "metadata": {},
   "outputs": [],
   "source": [
    "r=first_layer_cut(r)"
   ]
  },
  {
   "cell_type": "code",
   "execution_count": null,
   "id": "742d6de2-cc18-46a1-b0ac-39c0d1ed9b14",
   "metadata": {},
   "outputs": [],
   "source": [
    "r=back_layer_cut(r,5)"
   ]
  },
  {
   "cell_type": "code",
   "execution_count": null,
   "id": "9493f05c-cdc3-48dc-968f-d2d79eb5e8a1",
   "metadata": {},
   "outputs": [],
   "source": [
    "make_shower_profiles(r,m, r_n, p_folder)"
   ]
  },
  {
   "cell_type": "code",
   "execution_count": null,
   "id": "7b0ff65b-ea21-4cec-aa08-1fbe34a1ecec",
   "metadata": {},
   "outputs": [],
   "source": []
  }
 ],
 "metadata": {
  "kernelspec": {
   "display_name": "Python 3 (ipykernel)",
   "language": "python",
   "name": "python3"
  },
  "language_info": {
   "codemirror_mode": {
    "name": "ipython",
    "version": 3
   },
   "file_extension": ".py",
   "mimetype": "text/x-python",
   "name": "python",
   "nbconvert_exporter": "python",
   "pygments_lexer": "ipython3",
   "version": "3.10.12"
  }
 },
 "nbformat": 4,
 "nbformat_minor": 5
}
