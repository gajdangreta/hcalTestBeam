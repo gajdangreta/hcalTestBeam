{
 "cells": [
  {
   "cell_type": "code",
   "execution_count": 1,
   "id": "434fd178",
   "metadata": {},
   "outputs": [],
   "source": [
    "import numpy as np\n",
    "import matplotlib.pyplot as plt\n",
    "import pandas as pd\n",
    "from landaupy import langauss\n",
    "from scipy.optimize import curve_fit\n",
    "from scipy.optimize import OptimizeWarning\n",
    "from tqdm import tqdm\n",
    "import warnings\n",
    "from scipy.stats import chisquare\n",
    "import sys\n",
    "sys.path.append(\"../src\")\n",
    "from event_selections import *\n",
    "from scipy.integrate import quad"
   ]
  },
  {
   "cell_type": "code",
   "execution_count": 2,
   "id": "cf9774a1",
   "metadata": {},
   "outputs": [
    {
     "data": {
      "text/plain": [
       "{'divide': 'warn', 'over': 'warn', 'under': 'ignore', 'invalid': 'warn'}"
      ]
     },
     "execution_count": 2,
     "metadata": {},
     "output_type": "execute_result"
    }
   ],
   "source": [
    "pd.set_option('display.max_columns', None)\n",
    "pd.set_option('display.max_rows', None)\n",
    "\n",
    "warnings.simplefilter(\"error\", OptimizeWarning)\n",
    "np.seterr(all='ignore')"
   ]
  },
  {
   "cell_type": "code",
   "execution_count": 3,
   "id": "49721493-c616-4ecb-b59b-b7c8354eaa82",
   "metadata": {},
   "outputs": [],
   "source": [
    "c_folder=\"../../data/calibration\"\n",
    "d_folder=\"../../data/runData\"\n",
    "r_n=305\n",
    "pulsed=True\n",
    "p_folder=\"../../plots/run_\"+str(r_n)"
   ]
  },
  {
   "cell_type": "code",
   "execution_count": 4,
   "id": "f141028d",
   "metadata": {},
   "outputs": [],
   "source": [
    "pedestals=pd.read_csv(c_folder+\"/pedestals.csv\", sep=',')\n",
    "pedestals=pedestals.drop(columns=['pedestal_per_time_sample', 'mean'])"
   ]
  },
  {
   "cell_type": "code",
   "execution_count": 5,
   "id": "371a01ac",
   "metadata": {},
   "outputs": [],
   "source": [
    "#mips=pd.read_csv(\"mip.csv\", sep=',')\n",
    "#mips=mips.drop(columns=['eta', 'sigma', 'A'])"
   ]
  },
  {
   "cell_type": "code",
   "execution_count": 6,
   "id": "d2dfad73",
   "metadata": {},
   "outputs": [],
   "source": [
    "# can and should be improved\n",
    "def drop_empty(df):\n",
    "    data=[]\n",
    "\n",
    "    layers=np.arange(1,20)\n",
    "    strips=np.arange(0,12)\n",
    "    \n",
    "    for layer in layers:\n",
    "        for strip in strips:\n",
    "            el=choose_bar(df,layer,strip)\n",
    "            peds=choose_bar(pedestals,layer,strip)\n",
    "            #mip=choose_bar(mips, layer, strip)\n",
    "\n",
    "            if not peds.empty: # need to check whether the strip exists \n",
    "                #el=el[el[\"adc_sum_end0\"]>1.2*peds.iloc[0,-1]] # gets rid of bars where there's no data in end0\n",
    "                el=el[el[\"adc_sum_end0\"]>(peds.iloc[0,-2]+5*peds.iloc[0,-1])] \n",
    "                el=el[el[\"adc_max_end0\"]!=1023]\n",
    "                el.loc[:,\"adc_sum_end0\"]-=peds.iloc[0,-2]\n",
    "                \n",
    "                miniped=peds.iloc[0,-2]/8\n",
    "                \n",
    "                el.loc[:,\"adc_0_end0\"]-=miniped\n",
    "                el.loc[:,\"adc_1_end0\"]-=miniped\n",
    "                el.loc[:,\"adc_2_end0\"]-=miniped\n",
    "                el.loc[:,\"adc_3_end0\"]-=miniped\n",
    "                el.loc[:,\"adc_4_end0\"]-=miniped\n",
    "                el.loc[:,\"adc_5_end0\"]-=miniped\n",
    "                el.loc[:,\"adc_6_end0\"]-=miniped\n",
    "                el.loc[:,\"adc_7_end0\"]-=miniped\n",
    "                \n",
    "                data.extend(el.values.tolist())\n",
    "    \n",
    "    df_s=pd.DataFrame(data, columns=['event', 'adc_sum_end0','adc_max_end0',\n",
    "                                     'adc_0','adc_1','adc_2','adc_3',\n",
    "                                     'adc_4','adc_5','adc_6','adc_7',\n",
    "                                     'layer', 'strip'])\n",
    "    \n",
    "    return df_s"
   ]
  },
  {
   "cell_type": "code",
   "execution_count": 7,
   "id": "e1e4ec11",
   "metadata": {},
   "outputs": [],
   "source": [
    "def langau(x,A,x_mpv,xi,sigma):\n",
    "    return A*langauss.pdf(x=x, landau_x_mpv=x_mpv,landau_xi=xi,gauss_sigma=sigma)"
   ]
  },
  {
   "cell_type": "code",
   "execution_count": 8,
   "id": "16001314",
   "metadata": {},
   "outputs": [],
   "source": [
    "def cs(n, y):\n",
    "    return chisquare(n, np.sum(n)/np.sum(y) * y)"
   ]
  },
  {
   "cell_type": "code",
   "execution_count": 9,
   "id": "453260fe",
   "metadata": {},
   "outputs": [],
   "source": [
    "electron=pd.read_csv(d_folder+\"/run_305_pulse.csv\", sep=',')\n",
    "electron=electron.drop(columns=['tot_end0', 'toa_end0','tot_end1', 'toa_end1', 'adc_max_end1',\n",
    "                                'pf_spill', 'adc_mean_end0', 'adc_mean_end1', 'pf_ticks','adc_sum_end1',\n",
    "                               'adc_0_end1','adc_1_end1','adc_2_end1','adc_3_end1',\n",
    "                               'adc_4_end1','adc_5_end1','adc_6_end1','adc_7_end1'])\n",
    "\n",
    "#electron=electron.astype({\"adc_0_end0\":float,\"adc_1_end0\":float,\"adc_2_end0\":float,\"adc_3_end0\":float,\n",
    "#                          \"adc_4_end0\":float,\"adc_5_end0\":float,\"adc_6_end0\":float,\"adc_7_end0\":float,})"
   ]
  },
  {
   "cell_type": "code",
   "execution_count": 10,
   "id": "39f1c4b1-d042-4514-b030-eda57d074ef9",
   "metadata": {},
   "outputs": [],
   "source": [
    "electron=electron.astype({\"adc_0_end0\":float,\"adc_1_end0\":float,\"adc_2_end0\":float,\"adc_3_end0\":float,\n",
    "                          \"adc_4_end0\":float,\"adc_5_end0\":float,\"adc_6_end0\":float,\"adc_7_end0\":float, \n",
    "                          \"adc_sum_end0\":float})"
   ]
  },
  {
   "cell_type": "code",
   "execution_count": 11,
   "id": "50d7ddce",
   "metadata": {
    "scrolled": true
   },
   "outputs": [],
   "source": [
    "electron=drop_empty(electron)"
   ]
  },
  {
   "cell_type": "code",
   "execution_count": 182,
   "id": "3fbcfccf",
   "metadata": {},
   "outputs": [],
   "source": [
    "def make_fit(row):\n",
    "    time_steps=np.arange(0,8)\n",
    "    inter_steps=np.arange(0,8,0.5)\n",
    "    data=row.iloc[3:-2]\n",
    "    outpar=[]\n",
    "    line=[row[\"layer\"], row[\"strip\"], row[\"adc_sum_end0\"], row[\"adc_max_end0\"]]\n",
    "    error=np.full(6,\"nAn\")\n",
    "    with warnings.catch_warnings():\n",
    "        try:\n",
    "            param, _ =curve_fit(langau,time_steps, data, p0=[200,2.0,2,3], maxfev=800)\n",
    "            if param[0]>5:\n",
    "                \n",
    "                observed=langau(inter_steps, *param)\n",
    "                expected=np.interp(inter_steps, time_steps, np.array(data))\n",
    "                _, pval=cs(observed, expected)\n",
    "                if pval<1e-25 and pval!=0:\n",
    "                    line.extend(error)\n",
    "                    #print(time_steps)\n",
    "                    #plt.plot(time_steps)\n",
    "                    # plt.plot(time_steps, observed, color=\"gray\", liestyle='-', label=\"compared\")\n",
    "                    # plt.plot(np.arange(0,8,0.1),langau(np.arange(0,9,0.1), *param), color=\"magenta\", label=\"true fit\")\n",
    "                    # plt.scatter(time_steps, expected, c=\"black\", label=\"data\")\n",
    "                    # plt.legend()\n",
    "                    # plt.show()\n",
    "                    \n",
    "                else:\n",
    "                    # return row \n",
    "                    integral, _ = quad(langau, 0,7, tuple(param), limit=100, epsabs=1e-1, epsrel=1e-3)\n",
    "                    true_amp=max(langau(np.arange(0,8,0.01),*param))\n",
    "                    line.extend(param)\n",
    "                    line.append(integral)\n",
    "                    line.append(true_amp)\n",
    "                    \n",
    "        except: \n",
    "            line.extend(error)\n",
    "    return line"
   ]
  },
  {
   "cell_type": "code",
   "execution_count": 176,
   "id": "1fd36f5d",
   "metadata": {},
   "outputs": [],
   "source": [
    "n=10000\n",
    "mini_df=electron.head(n)"
   ]
  },
  {
   "cell_type": "code",
   "execution_count": 177,
   "id": "1c49017c",
   "metadata": {
    "scrolled": true
   },
   "outputs": [
    {
     "name": "stderr",
     "output_type": "stream",
     "text": [
      "  4%|█▍                                     | 377/10000 [00:36<12:37, 12.70it/s]/tmp/ipykernel_5232/3927919365.py:28: IntegrationWarning: The maximum number of subdivisions (100) has been achieved.\n",
      "  If increasing the limit yields no improvement it is advised to analyze \n",
      "  the integrand in order to determine the difficulties.  If the position of a \n",
      "  local difficulty can be determined (singularity, discontinuity) one will \n",
      "  probably gain from splitting up the interval and calling the integrator \n",
      "  on the subranges.  Perhaps a special-purpose integrator should be used.\n",
      "  integral, _ = quad(langau, 0,7, tuple(param), limit=100, epsabs=1e-1, epsrel=1e-3)\n",
      "  6%|██▎                                    | 577/10000 [00:52<09:05, 17.28it/s]/tmp/ipykernel_5232/3927919365.py:28: IntegrationWarning: The maximum number of subdivisions (100) has been achieved.\n",
      "  If increasing the limit yields no improvement it is advised to analyze \n",
      "  the integrand in order to determine the difficulties.  If the position of a \n",
      "  local difficulty can be determined (singularity, discontinuity) one will \n",
      "  probably gain from splitting up the interval and calling the integrator \n",
      "  on the subranges.  Perhaps a special-purpose integrator should be used.\n",
      "  integral, _ = quad(langau, 0,7, tuple(param), limit=100, epsabs=1e-1, epsrel=1e-3)\n",
      " 10%|███▉                                  | 1035/10000 [01:33<12:56, 11.55it/s]/tmp/ipykernel_5232/3927919365.py:28: IntegrationWarning: The integral is probably divergent, or slowly convergent.\n",
      "  integral, _ = quad(langau, 0,7, tuple(param), limit=100, epsabs=1e-1, epsrel=1e-3)\n",
      "/tmp/ipykernel_5232/3927919365.py:28: IntegrationWarning: The maximum number of subdivisions (100) has been achieved.\n",
      "  If increasing the limit yields no improvement it is advised to analyze \n",
      "  the integrand in order to determine the difficulties.  If the position of a \n",
      "  local difficulty can be determined (singularity, discontinuity) one will \n",
      "  probably gain from splitting up the interval and calling the integrator \n",
      "  on the subranges.  Perhaps a special-purpose integrator should be used.\n",
      "  integral, _ = quad(langau, 0,7, tuple(param), limit=100, epsabs=1e-1, epsrel=1e-3)\n",
      " 14%|█████▍                                | 1428/10000 [02:14<15:33,  9.18it/s]/tmp/ipykernel_5232/3927919365.py:28: IntegrationWarning: The maximum number of subdivisions (100) has been achieved.\n",
      "  If increasing the limit yields no improvement it is advised to analyze \n",
      "  the integrand in order to determine the difficulties.  If the position of a \n",
      "  local difficulty can be determined (singularity, discontinuity) one will \n",
      "  probably gain from splitting up the interval and calling the integrator \n",
      "  on the subranges.  Perhaps a special-purpose integrator should be used.\n",
      "  integral, _ = quad(langau, 0,7, tuple(param), limit=100, epsabs=1e-1, epsrel=1e-3)\n",
      " 21%|███████▊                              | 2061/10000 [03:03<06:46, 19.53it/s]/tmp/ipykernel_5232/3927919365.py:28: IntegrationWarning: The maximum number of subdivisions (100) has been achieved.\n",
      "  If increasing the limit yields no improvement it is advised to analyze \n",
      "  the integrand in order to determine the difficulties.  If the position of a \n",
      "  local difficulty can be determined (singularity, discontinuity) one will \n",
      "  probably gain from splitting up the interval and calling the integrator \n",
      "  on the subranges.  Perhaps a special-purpose integrator should be used.\n",
      "  integral, _ = quad(langau, 0,7, tuple(param), limit=100, epsabs=1e-1, epsrel=1e-3)\n",
      " 25%|█████████▋                            | 2539/10000 [03:40<18:54,  6.57it/s]/tmp/ipykernel_5232/3927919365.py:28: IntegrationWarning: The maximum number of subdivisions (100) has been achieved.\n",
      "  If increasing the limit yields no improvement it is advised to analyze \n",
      "  the integrand in order to determine the difficulties.  If the position of a \n",
      "  local difficulty can be determined (singularity, discontinuity) one will \n",
      "  probably gain from splitting up the interval and calling the integrator \n",
      "  on the subranges.  Perhaps a special-purpose integrator should be used.\n",
      "  integral, _ = quad(langau, 0,7, tuple(param), limit=100, epsabs=1e-1, epsrel=1e-3)\n",
      " 29%|██████████▉                           | 2894/10000 [04:10<06:58, 16.96it/s]/tmp/ipykernel_5232/3927919365.py:28: IntegrationWarning: The maximum number of subdivisions (100) has been achieved.\n",
      "  If increasing the limit yields no improvement it is advised to analyze \n",
      "  the integrand in order to determine the difficulties.  If the position of a \n",
      "  local difficulty can be determined (singularity, discontinuity) one will \n",
      "  probably gain from splitting up the interval and calling the integrator \n",
      "  on the subranges.  Perhaps a special-purpose integrator should be used.\n",
      "  integral, _ = quad(langau, 0,7, tuple(param), limit=100, epsabs=1e-1, epsrel=1e-3)\n",
      " 38%|██████████████▌                       | 3841/10000 [05:26<07:06, 14.44it/s]/tmp/ipykernel_5232/3927919365.py:28: IntegrationWarning: The maximum number of subdivisions (100) has been achieved.\n",
      "  If increasing the limit yields no improvement it is advised to analyze \n",
      "  the integrand in order to determine the difficulties.  If the position of a \n",
      "  local difficulty can be determined (singularity, discontinuity) one will \n",
      "  probably gain from splitting up the interval and calling the integrator \n",
      "  on the subranges.  Perhaps a special-purpose integrator should be used.\n",
      "  integral, _ = quad(langau, 0,7, tuple(param), limit=100, epsabs=1e-1, epsrel=1e-3)\n",
      " 40%|███████████████                       | 3957/10000 [05:37<06:39, 15.11it/s]/tmp/ipykernel_5232/3927919365.py:28: IntegrationWarning: The maximum number of subdivisions (100) has been achieved.\n",
      "  If increasing the limit yields no improvement it is advised to analyze \n",
      "  the integrand in order to determine the difficulties.  If the position of a \n",
      "  local difficulty can be determined (singularity, discontinuity) one will \n",
      "  probably gain from splitting up the interval and calling the integrator \n",
      "  on the subranges.  Perhaps a special-purpose integrator should be used.\n",
      "  integral, _ = quad(langau, 0,7, tuple(param), limit=100, epsabs=1e-1, epsrel=1e-3)\n",
      " 41%|███████████████▍                      | 4060/10000 [05:48<19:26,  5.09it/s]/tmp/ipykernel_5232/3927919365.py:28: IntegrationWarning: The maximum number of subdivisions (100) has been achieved.\n",
      "  If increasing the limit yields no improvement it is advised to analyze \n",
      "  the integrand in order to determine the difficulties.  If the position of a \n",
      "  local difficulty can be determined (singularity, discontinuity) one will \n",
      "  probably gain from splitting up the interval and calling the integrator \n",
      "  on the subranges.  Perhaps a special-purpose integrator should be used.\n",
      "  integral, _ = quad(langau, 0,7, tuple(param), limit=100, epsabs=1e-1, epsrel=1e-3)\n",
      " 42%|████████████████                      | 4216/10000 [06:05<06:34, 14.67it/s]/tmp/ipykernel_5232/3927919365.py:28: IntegrationWarning: The maximum number of subdivisions (100) has been achieved.\n",
      "  If increasing the limit yields no improvement it is advised to analyze \n",
      "  the integrand in order to determine the difficulties.  If the position of a \n",
      "  local difficulty can be determined (singularity, discontinuity) one will \n",
      "  probably gain from splitting up the interval and calling the integrator \n",
      "  on the subranges.  Perhaps a special-purpose integrator should be used.\n",
      "  integral, _ = quad(langau, 0,7, tuple(param), limit=100, epsabs=1e-1, epsrel=1e-3)\n",
      " 42%|████████████████▏                     | 4246/10000 [06:09<06:51, 13.99it/s]/tmp/ipykernel_5232/3927919365.py:28: IntegrationWarning: The maximum number of subdivisions (100) has been achieved.\n",
      "  If increasing the limit yields no improvement it is advised to analyze \n",
      "  the integrand in order to determine the difficulties.  If the position of a \n",
      "  local difficulty can be determined (singularity, discontinuity) one will \n",
      "  probably gain from splitting up the interval and calling the integrator \n",
      "  on the subranges.  Perhaps a special-purpose integrator should be used.\n",
      "  integral, _ = quad(langau, 0,7, tuple(param), limit=100, epsabs=1e-1, epsrel=1e-3)\n",
      " 44%|████████████████▋                     | 4380/10000 [06:20<05:14, 17.86it/s]/tmp/ipykernel_5232/3927919365.py:28: IntegrationWarning: The maximum number of subdivisions (100) has been achieved.\n",
      "  If increasing the limit yields no improvement it is advised to analyze \n",
      "  the integrand in order to determine the difficulties.  If the position of a \n",
      "  local difficulty can be determined (singularity, discontinuity) one will \n",
      "  probably gain from splitting up the interval and calling the integrator \n",
      "  on the subranges.  Perhaps a special-purpose integrator should be used.\n",
      "  integral, _ = quad(langau, 0,7, tuple(param), limit=100, epsabs=1e-1, epsrel=1e-3)\n",
      " 51%|███████████████████▍                  | 5111/10000 [07:22<08:22,  9.73it/s]/tmp/ipykernel_5232/3927919365.py:28: IntegrationWarning: The maximum number of subdivisions (100) has been achieved.\n",
      "  If increasing the limit yields no improvement it is advised to analyze \n",
      "  the integrand in order to determine the difficulties.  If the position of a \n",
      "  local difficulty can be determined (singularity, discontinuity) one will \n",
      "  probably gain from splitting up the interval and calling the integrator \n",
      "  on the subranges.  Perhaps a special-purpose integrator should be used.\n",
      "  integral, _ = quad(langau, 0,7, tuple(param), limit=100, epsabs=1e-1, epsrel=1e-3)\n",
      " 51%|███████████████████▍                  | 5113/10000 [07:24<25:01,  3.25it/s]/tmp/ipykernel_5232/3927919365.py:28: IntegrationWarning: The maximum number of subdivisions (100) has been achieved.\n",
      "  If increasing the limit yields no improvement it is advised to analyze \n",
      "  the integrand in order to determine the difficulties.  If the position of a \n",
      "  local difficulty can be determined (singularity, discontinuity) one will \n",
      "  probably gain from splitting up the interval and calling the integrator \n",
      "  on the subranges.  Perhaps a special-purpose integrator should be used.\n",
      "  integral, _ = quad(langau, 0,7, tuple(param), limit=100, epsabs=1e-1, epsrel=1e-3)\n",
      " 66%|█████████████████████████▏            | 6639/10000 [09:27<04:18, 13.01it/s]/tmp/ipykernel_5232/3927919365.py:28: IntegrationWarning: The integral is probably divergent, or slowly convergent.\n",
      "  integral, _ = quad(langau, 0,7, tuple(param), limit=100, epsabs=1e-1, epsrel=1e-3)\n",
      " 68%|█████████████████████████▉            | 6810/10000 [09:41<03:39, 14.54it/s]/tmp/ipykernel_5232/3927919365.py:28: IntegrationWarning: The maximum number of subdivisions (100) has been achieved.\n",
      "  If increasing the limit yields no improvement it is advised to analyze \n",
      "  the integrand in order to determine the difficulties.  If the position of a \n",
      "  local difficulty can be determined (singularity, discontinuity) one will \n",
      "  probably gain from splitting up the interval and calling the integrator \n",
      "  on the subranges.  Perhaps a special-purpose integrator should be used.\n",
      "  integral, _ = quad(langau, 0,7, tuple(param), limit=100, epsabs=1e-1, epsrel=1e-3)\n",
      " 69%|██████████████████████████▍           | 6944/10000 [09:51<02:40, 19.06it/s]/tmp/ipykernel_5232/3927919365.py:28: IntegrationWarning: The maximum number of subdivisions (100) has been achieved.\n",
      "  If increasing the limit yields no improvement it is advised to analyze \n",
      "  the integrand in order to determine the difficulties.  If the position of a \n",
      "  local difficulty can be determined (singularity, discontinuity) one will \n",
      "  probably gain from splitting up the interval and calling the integrator \n",
      "  on the subranges.  Perhaps a special-purpose integrator should be used.\n",
      "  integral, _ = quad(langau, 0,7, tuple(param), limit=100, epsabs=1e-1, epsrel=1e-3)\n",
      " 70%|██████████████████████████▋           | 7026/10000 [09:59<02:59, 16.56it/s]/tmp/ipykernel_5232/3927919365.py:28: IntegrationWarning: The maximum number of subdivisions (100) has been achieved.\n",
      "  If increasing the limit yields no improvement it is advised to analyze \n",
      "  the integrand in order to determine the difficulties.  If the position of a \n",
      "  local difficulty can be determined (singularity, discontinuity) one will \n",
      "  probably gain from splitting up the interval and calling the integrator \n",
      "  on the subranges.  Perhaps a special-purpose integrator should be used.\n",
      "  integral, _ = quad(langau, 0,7, tuple(param), limit=100, epsabs=1e-1, epsrel=1e-3)\n",
      " 70%|██████████████████████████▊           | 7049/10000 [10:02<03:33, 13.82it/s]/tmp/ipykernel_5232/3927919365.py:28: IntegrationWarning: The maximum number of subdivisions (100) has been achieved.\n",
      "  If increasing the limit yields no improvement it is advised to analyze \n",
      "  the integrand in order to determine the difficulties.  If the position of a \n",
      "  local difficulty can be determined (singularity, discontinuity) one will \n",
      "  probably gain from splitting up the interval and calling the integrator \n",
      "  on the subranges.  Perhaps a special-purpose integrator should be used.\n",
      "  integral, _ = quad(langau, 0,7, tuple(param), limit=100, epsabs=1e-1, epsrel=1e-3)\n",
      " 72%|███████████████████████████▎          | 7172/10000 [10:12<02:27, 19.14it/s]/tmp/ipykernel_5232/3927919365.py:28: IntegrationWarning: The maximum number of subdivisions (100) has been achieved.\n",
      "  If increasing the limit yields no improvement it is advised to analyze \n",
      "  the integrand in order to determine the difficulties.  If the position of a \n",
      "  local difficulty can be determined (singularity, discontinuity) one will \n",
      "  probably gain from splitting up the interval and calling the integrator \n",
      "  on the subranges.  Perhaps a special-purpose integrator should be used.\n",
      "  integral, _ = quad(langau, 0,7, tuple(param), limit=100, epsabs=1e-1, epsrel=1e-3)\n",
      " 88%|█████████████████████████████████▍    | 8796/10000 [12:25<01:01, 19.43it/s]/tmp/ipykernel_5232/3927919365.py:28: IntegrationWarning: The maximum number of subdivisions (100) has been achieved.\n",
      "  If increasing the limit yields no improvement it is advised to analyze \n",
      "  the integrand in order to determine the difficulties.  If the position of a \n",
      "  local difficulty can be determined (singularity, discontinuity) one will \n",
      "  probably gain from splitting up the interval and calling the integrator \n",
      "  on the subranges.  Perhaps a special-purpose integrator should be used.\n",
      "  integral, _ = quad(langau, 0,7, tuple(param), limit=100, epsabs=1e-1, epsrel=1e-3)\n",
      " 93%|███████████████████████████████████▍  | 9327/10000 [13:14<00:56, 11.89it/s]/tmp/ipykernel_5232/3927919365.py:28: IntegrationWarning: The maximum number of subdivisions (100) has been achieved.\n",
      "  If increasing the limit yields no improvement it is advised to analyze \n",
      "  the integrand in order to determine the difficulties.  If the position of a \n",
      "  local difficulty can be determined (singularity, discontinuity) one will \n",
      "  probably gain from splitting up the interval and calling the integrator \n",
      "  on the subranges.  Perhaps a special-purpose integrator should be used.\n",
      "  integral, _ = quad(langau, 0,7, tuple(param), limit=100, epsabs=1e-1, epsrel=1e-3)\n",
      " 98%|█████████████████████████████████████▎| 9811/10000 [13:52<00:10, 17.79it/s]/tmp/ipykernel_5232/3927919365.py:28: IntegrationWarning: The maximum number of subdivisions (100) has been achieved.\n",
      "  If increasing the limit yields no improvement it is advised to analyze \n",
      "  the integrand in order to determine the difficulties.  If the position of a \n",
      "  local difficulty can be determined (singularity, discontinuity) one will \n",
      "  probably gain from splitting up the interval and calling the integrator \n",
      "  on the subranges.  Perhaps a special-purpose integrator should be used.\n",
      "  integral, _ = quad(langau, 0,7, tuple(param), limit=100, epsabs=1e-1, epsrel=1e-3)\n",
      " 99%|█████████████████████████████████████▊| 9938/10000 [14:03<00:04, 13.82it/s]/tmp/ipykernel_5232/3927919365.py:28: IntegrationWarning: The integral is probably divergent, or slowly convergent.\n",
      "  integral, _ = quad(langau, 0,7, tuple(param), limit=100, epsabs=1e-1, epsrel=1e-3)\n",
      "100%|█████████████████████████████████████| 10000/10000 [14:08<00:00, 11.78it/s]\n"
     ]
    }
   ],
   "source": [
    "tqdm.pandas() \n",
    "data=mini_df.progress_apply(make_fit, axis=1).values.tolist()\n",
    "# data=electron.progress_apply(make_fit, axis=1).values.tolist()"
   ]
  },
  {
   "cell_type": "code",
   "execution_count": 178,
   "id": "40fdf088",
   "metadata": {},
   "outputs": [],
   "source": [
    "param_df=pd.DataFrame(data, columns=[\"layer\", \"strip\", \"adc_sum\", \"adc_max\",\n",
    "                                     \"A\", \"landau_x_mpv\", \"landau_xi\", \"gauss_sigma\", \n",
    "                                     \"fit_integral\", \"fit_amplitude\"])"
   ]
  },
  {
   "cell_type": "code",
   "execution_count": 179,
   "id": "bf23cf1a",
   "metadata": {},
   "outputs": [
    {
     "name": "stdout",
     "output_type": "stream",
     "text": [
      "Failed fits: 12.78 %\n"
     ]
    }
   ],
   "source": [
    "param_df=param_df.drop(param_df[param_df.A==\"nAn\"].index)\n",
    "remain=len(param_df)\n",
    "print(\"Failed fits: \"+str(round(100*(n-remain)/n,4))+\" %\")"
   ]
  },
  {
   "cell_type": "code",
   "execution_count": 181,
   "id": "e64e3cb5-540e-40c6-8460-2b045d536fd0",
   "metadata": {},
   "outputs": [
    {
     "data": {
      "image/png": "[encoded data removed]",
      "text/plain": [
       "<Figure size 1200x800 with 2 Axes>"
      ]
     },
     "metadata": {},
     "output_type": "display_data"
    }
   ],
   "source": [
    "plt.rcParams['figure.figsize']=(12,8)\n",
    "\n",
    "plt.subplot(2,2,1)\n",
    "plt.scatter(param_df['adc_sum'], param_df['fit_integral'], c=\"magenta\")\n",
    "plt.ylabel('Integral of fit')\n",
    "plt.xlabel('sumADC')\n",
    "plt.ylim(-100,20000)\n",
    "\n",
    "plt.subplot(2,2,2)\n",
    "plt.scatter(param_df['adc_max'], param_df['fit_amplitude'], c=\"cyan\")\n",
    "plt.ylabel('Maximum of fit')\n",
    "plt.xlabel('maxADC')\n",
    "plt.ylim(-100,5000)\n",
    "\n",
    "# plt.savefig(p_folder+\"/after_interp.png\", bbox_inches='tight')\n",
    "plt.show()"
   ]
  },
  {
   "cell_type": "code",
   "execution_count": 172,
   "id": "0b440602-da6b-4786-bd7f-475e6ce257c5",
   "metadata": {},
   "outputs": [
    {
     "data": {
      "image/png": "[encoded data removed]",
      "text/plain": [
       "<Figure size 600x400 with 1 Axes>"
      ]
     },
     "metadata": {},
     "output_type": "display_data"
    }
   ],
   "source": [
    "# plt.rcParams[\"figure.figsize\"]=(6,4)\n",
    "# a=mini_df[mini_df.index==577].values.tolist()\n",
    "# fit=param_df[param_df.index==577].values.tolist()\n",
    "# param=tuple(fit[0][4:-2])\n",
    "# plt.plot(np.arange(0,8,1),langau(np.arange(0,8,1), *param), color=\"gray\", linestyle='-')\n",
    "# plt.plot(np.arange(0,8,0.5),langau(np.arange(0,8,0.5), *param), color=\"magenta\")\n",
    "# plt.scatter(np.arange(0,8),a[0][3:-2], c=\"black\", marker='x', zorder=3)\n",
    "# plt.ylim(-100,500)\n",
    "# plt.show()"
   ]
  },
  {
   "cell_type": "code",
   "execution_count": null,
   "id": "130ac659-9df8-462a-9c50-0fb328b1edde",
   "metadata": {},
   "outputs": [],
   "source": []
  }
 ],
 "metadata": {
  "kernelspec": {
   "display_name": "Python 3 (ipykernel)",
   "language": "python",
   "name": "python3"
  },
  "language_info": {
   "codemirror_mode": {
    "name": "ipython",
    "version": 3
   },
   "file_extension": ".py",
   "mimetype": "text/x-python",
   "name": "python",
   "nbconvert_exporter": "python",
   "pygments_lexer": "ipython3",
   "version": "3.10.12"
  }
 },
 "nbformat": 4,
 "nbformat_minor": 5
}
