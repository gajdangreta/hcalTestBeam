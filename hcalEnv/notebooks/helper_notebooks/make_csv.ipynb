{
 "cells": [
  {
   "cell_type": "code",
   "execution_count": 1,
   "id": "9e8cc0ff-ff23-47df-aa76-b91173ffec9f",
   "metadata": {},
   "outputs": [],
   "source": [
    "import pandas as pd\n",
    "import numpy as np"
   ]
  },
  {
   "cell_type": "code",
   "execution_count": 10,
   "id": "bfe2a4e7-516c-4cba-91ff-600df14cfa07",
   "metadata": {},
   "outputs": [],
   "source": [
    "runs=[287,288,291,292,293,294,296,297,298,299,300,301,302,303,304,305,307,309,310,311,312,313,314,315]\n",
    "energies=[4,4,0.2,0.1,0.3,0.3,0.3,0.5,0.1,4,4,1,0.5,0.4,0.3,0.3,0.3,3,3,3,3,3,3,3]\n",
    "particles=[\"muon\",\"pion\",\"pion\",\"pion\",\"pion\",\"pion\",\"pion\",\"pion\",\"pion\",\n",
    "           \"electron\",\"electron\",\"electron\",\"electron\",\"electron\",\"electron\",\"electron\",\"electron\",\n",
    "           \"pion\",\"pion\",\"pion\",\"pion\",\"pion\",\"pion\",\"pion\"]\n",
    "data=np.array([runs,energies,particles]).T"
   ]
  },
  {
   "cell_type": "code",
   "execution_count": 12,
   "id": "f34001a7-12b3-414a-b43c-3b4f6819cbb7",
   "metadata": {},
   "outputs": [],
   "source": [
    "df=pd.DataFrame(data, columns=[\"run_number\", \"beam_energy\", \"particle_type\"])"
   ]
  },
  {
   "cell_type": "code",
   "execution_count": 14,
   "id": "18f82f3a-dc7f-40b4-8084-2f0723d3926d",
   "metadata": {},
   "outputs": [],
   "source": [
    "df.to_csv(\"../../data/calibration/runs.csv\")"
   ]
  },
  {
   "cell_type": "code",
   "execution_count": null,
   "id": "908296c9-59d7-4c1a-aaf9-82cdcc1776b9",
   "metadata": {},
   "outputs": [],
   "source": []
  }
 ],
 "metadata": {
  "kernelspec": {
   "display_name": "Python 3 (ipykernel)",
   "language": "python",
   "name": "python3"
  },
  "language_info": {
   "codemirror_mode": {
    "name": "ipython",
    "version": 3
   },
   "file_extension": ".py",
   "mimetype": "text/x-python",
   "name": "python",
   "nbconvert_exporter": "python",
   "pygments_lexer": "ipython3",
   "version": "3.10.12"
  }
 },
 "nbformat": 4,
 "nbformat_minor": 5
}
