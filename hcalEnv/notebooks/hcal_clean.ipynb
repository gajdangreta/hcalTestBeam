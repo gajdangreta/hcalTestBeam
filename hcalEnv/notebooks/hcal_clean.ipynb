{
 "cells": [
  {
   "cell_type": "code",
   "execution_count": 1,
   "id": "2a779ac4-017e-40d2-880c-f8969bf811f9",
   "metadata": {},
   "outputs": [],
   "source": [
    "import numpy as np\n",
    "import matplotlib.pyplot as plt\n",
    "import pandas as pd"
   ]
  },
  {
   "cell_type": "code",
   "execution_count": 97,
   "id": "118548b6-11f6-4ed5-b289-d36c520d17b9",
   "metadata": {},
   "outputs": [],
   "source": [
    "calibration_folder=\"../../data/calibration\"\n",
    "data_folder=\"../../data/runData\"\n",
    "run_n=300"
   ]
  },
  {
   "cell_type": "code",
   "execution_count": 3,
   "id": "ae416c6a-ea5e-4418-bab1-92a6e0739cf7",
   "metadata": {},
   "outputs": [],
   "source": [
    "layers=np.arange(1,20)\n",
    "strips=np.arange(0,12)"
   ]
  },
  {
   "cell_type": "code",
   "execution_count": 13,
   "id": "b8221d6b-2abe-49b4-a91d-fa7a988b7558",
   "metadata": {},
   "outputs": [],
   "source": [
    "def drop_columns(df):\n",
    "    kept_columns=['layer', 'strip', 'pedestal', 'pf_event', 'adc_sum_end0', 'adc_sum_end1', 'end', 'mpv']\n",
    "    df=df[df.columns.intersection(kept_columns)]\n",
    "    return df"
   ]
  },
  {
   "cell_type": "code",
   "execution_count": 14,
   "id": "61b6a3d4-9bc3-46a7-a5ee-ece5ddddb4cc",
   "metadata": {},
   "outputs": [],
   "source": [
    "def import_data(n):\n",
    "    pedestals=drop_columns(pd.read_csv(calibration_folder+\"/pedestals.csv\", sep=','))\n",
    "    mips=drop_columns(pd.read_csv(calibration_folder+\"/mip.csv\", sep=','))\n",
    "    run=drop_columns(pd.read_csv(data_folder+\"/run_\"+str(n)+\".csv\", sep=','))\n",
    "    return pedestals,mips,run"
   ]
  },
  {
   "cell_type": "code",
   "execution_count": 5,
   "id": "b5938bdc-cd38-43f4-9285-829c7b683c67",
   "metadata": {},
   "outputs": [],
   "source": [
    "def choose_bar(df,layer, strip):\n",
    "    df=df[df[\"strip\"]==strip]\n",
    "    df=df[df[\"layer\"]==layer]\n",
    "    return df"
   ]
  },
  {
   "cell_type": "code",
   "execution_count": 6,
   "id": "3d9e38f4-21fe-412d-bf2d-7df9652a15ca",
   "metadata": {},
   "outputs": [],
   "source": [
    "def choose_layer(df,layer):\n",
    "    df=df[df['layer']==layer]\n",
    "    return df"
   ]
  },
  {
   "cell_type": "code",
   "execution_count": 109,
   "id": "95f846ab-9312-4e10-a224-1fe2f219334b",
   "metadata": {},
   "outputs": [],
   "source": [
    "#uses the 1.2x pedestal criteria to remove \"false\" events. essentially cut 0\n",
    "#I don't think it should have a switch here for other methods - somewhere else there needs to be one though!\n",
    "def confirm_events(df):\n",
    "    # can probably get rid of the loop, but then we would have to split the main df to have ends in different rows. annoying.\n",
    "    confirmed_data=[]\n",
    "    for layer in layers:\n",
    "        for strip in strips:\n",
    "            df_slice=choose_bar(df,layer,strip)\n",
    "            pedestal_slice=choose_bar(ped,layer,strip)\n",
    "            if not pedestal_slice.empty:\n",
    "                df_slice=df_slice[df_slice[\"adc_sum_end0\"]>1.2*pedestal_slice.iloc[0,-1]] # there could be a switch whether we want to\n",
    "                df_slice=df_slice[df_slice[\"adc_sum_end1\"]>1.2*pedestal_slice.iloc[1,-1]] # require both ends to register the hit\n",
    "            confirmed_data.extend(df_slice.values.tolist())\n",
    "    confirmed_df=pd.DataFrame(confirmed_data, columns=['event', 'adc_sum_end0', 'layer', 'strip', 'adc_sum_end1'])\n",
    "    events_left=confirmed_df.event.unique()\n",
    "    print(\"Initial pedestal-based selection performed.\")\n",
    "    print(\"Events left: \"+str(len(events_left)))\n",
    "    print(\"\\n\")\n",
    "    return confirmed_df"
   ]
  },
  {
   "cell_type": "code",
   "execution_count": 110,
   "id": "1961399b-f816-498b-950e-043c76158395",
   "metadata": {},
   "outputs": [],
   "source": [
    "def first_layer_cut(df):\n",
    "    helper_df=df[df['layer']==1].groupby(['event']).sum()\n",
    "    events_to_remove=helper[helper['layer']>1].index.values.tolist()\n",
    "    df=df[~df['event'].isin(events_to_remove)]\n",
    "    \n",
    "    events_left=df.event.unique()\n",
    "    print(\"Events with multiple hits in first layer removed.\")\n",
    "    print(\"Events left: \"+str(len(events_left)))\n",
    "    print(\"\\n\")\n",
    "    return df"
   ]
  },
  {
   "cell_type": "code",
   "execution_count": 111,
   "id": "0c9bb95b-f395-4efc-b2fd-18f318a2d374",
   "metadata": {},
   "outputs": [],
   "source": [
    "def back_layer_cut(df, b_num):\n",
    "    events_to_remove=df[df['layer']>19-b_num].groupby(['event']).count().index.values.tolist()\n",
    "    df=df[~df['event'].isin(events_to_remove)]\n",
    "    \n",
    "    events_left=df.event.unique()\n",
    "    print(\"Events with hits in the back \" +str(b_num)+\" layers removed.\")\n",
    "    print(\"Events left: \"+str(len(events_left)))\n",
    "    print(\"\\n\")\n",
    "    return df"
   ]
  },
  {
   "cell_type": "code",
   "execution_count": 115,
   "id": "a665bde6-26b4-4743-95e5-48d5088eebf8",
   "metadata": {},
   "outputs": [],
   "source": [
    "def select_events(df,cut_first_layer=True, cut_back_layers=True, back_layers=7):\n",
    "    print(\"Number of events: \"+str(len(df.pf_event.unique())))\n",
    "    print(\"\\n\")\n",
    "    df=confirm_events(df)\n",
    "    if cut_first_layer==True:\n",
    "        df=first_layer_cut(df)\n",
    "    if cut_back_layers==True:\n",
    "        df=back_layer_cut(df,back_layers)\n",
    "    return df"
   ]
  },
  {
   "cell_type": "code",
   "execution_count": 116,
   "id": "9b8fb2d2-88d1-475a-a546-49961a2db0a8",
   "metadata": {},
   "outputs": [
    {
     "name": "stdout",
     "output_type": "stream",
     "text": [
      "CPU times: user 11.2 s, sys: 1.99 s, total: 13.2 s\n",
      "Wall time: 13.3 s\n"
     ]
    }
   ],
   "source": [
    "%%time\n",
    "ped, mip, ru=import_data(run_n)"
   ]
  },
  {
   "cell_type": "code",
   "execution_count": 117,
   "id": "6d274532-f1aa-49d8-bd88-4ceb37c2ef3b",
   "metadata": {},
   "outputs": [
    {
     "name": "stdout",
     "output_type": "stream",
     "text": [
      "Number of events: 71416\n",
      "\n",
      "\n",
      "Initial pedestal-based selection performed.\n",
      "Events left: 71414\n",
      "\n",
      "\n",
      "Events with multiple hits in first layer removed.\n",
      "Events left: 66783\n",
      "\n",
      "\n",
      "Events with hits in the back 7 layers removed.\n",
      "Events left: 38453\n",
      "\n",
      "\n",
      "CPU times: user 11.5 s, sys: 1.39 s, total: 12.9 s\n",
      "Wall time: 12.9 s\n"
     ]
    }
   ],
   "source": [
    "%%time\n",
    "ru=select_events(ru)"
   ]
  },
  {
   "cell_type": "code",
   "execution_count": null,
   "id": "38289a6d-5bd8-4fc4-b97d-44c9c8c4f0af",
   "metadata": {},
   "outputs": [],
   "source": []
  }
 ],
 "metadata": {
  "kernelspec": {
   "display_name": "Python 3 (ipykernel)",
   "language": "python",
   "name": "python3"
  },
  "language_info": {
   "codemirror_mode": {
    "name": "ipython",
    "version": 3
   },
   "file_extension": ".py",
   "mimetype": "text/x-python",
   "name": "python",
   "nbconvert_exporter": "python",
   "pygments_lexer": "ipython3",
   "version": "3.10.12"
  }
 },
 "nbformat": 4,
 "nbformat_minor": 5
}
