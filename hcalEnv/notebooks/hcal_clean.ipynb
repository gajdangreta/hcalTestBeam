{
 "cells": [
  {
   "cell_type": "code",
   "execution_count": 1,
   "id": "2a779ac4-017e-40d2-880c-f8969bf811f9",
   "metadata": {},
   "outputs": [],
   "source": [
    "import numpy as np\n",
    "import matplotlib.pyplot as plt\n",
    "import pandas as pd"
   ]
  },
  {
   "cell_type": "code",
   "execution_count": 3,
   "id": "664a6e9a-26db-481b-9c34-fb57b032189a",
   "metadata": {},
   "outputs": [],
   "source": [
    "def import_and_select(calibration_folder, data_folder, run_n):\n",
    "    pedestals, mips, run=import_data(calibration_folder, data_folder, run_n)\n",
    "    run=select_events(run, pedestals)\n",
    "    return run"
   ]
  },
  {
   "cell_type": "code",
   "execution_count": 4,
   "id": "b8221d6b-2abe-49b4-a91d-fa7a988b7558",
   "metadata": {},
   "outputs": [],
   "source": [
    "def drop_columns(df):\n",
    "    kept_columns=['layer', 'strip', 'pedestal', 'pf_event', 'adc_sum_end0', 'adc_sum_end1', 'end', 'mpv']\n",
    "    df=df[df.columns.intersection(kept_columns)]\n",
    "    return df"
   ]
  },
  {
   "cell_type": "code",
   "execution_count": 5,
   "id": "61b6a3d4-9bc3-46a7-a5ee-ece5ddddb4cc",
   "metadata": {},
   "outputs": [],
   "source": [
    "def import_data(calibration_folder, data_folder, run_n):\n",
    "    pedestals=drop_columns(pd.read_csv(calibration_folder+\"/pedestals.csv\", sep=','))\n",
    "    mips=drop_columns(pd.read_csv(calibration_folder+\"/mip.csv\", sep=','))\n",
    "    run=drop_columns(pd.read_csv(data_folder+\"/run_\"+str(run_n)+\".csv\", sep=','))\n",
    "    return pedestals,mips,run"
   ]
  },
  {
   "cell_type": "code",
   "execution_count": 6,
   "id": "b5938bdc-cd38-43f4-9285-829c7b683c67",
   "metadata": {},
   "outputs": [],
   "source": [
    "def choose_bar(df,layer, strip):\n",
    "    df=df[df[\"strip\"]==strip]\n",
    "    df=df[df[\"layer\"]==layer]\n",
    "    return df"
   ]
  },
  {
   "cell_type": "code",
   "execution_count": 7,
   "id": "3d9e38f4-21fe-412d-bf2d-7df9652a15ca",
   "metadata": {},
   "outputs": [],
   "source": [
    "def choose_layer(df,layer):\n",
    "    df=df[df['layer']==layer]\n",
    "    return df"
   ]
  },
  {
   "cell_type": "code",
   "execution_count": 8,
   "id": "95f846ab-9312-4e10-a224-1fe2f219334b",
   "metadata": {},
   "outputs": [],
   "source": [
    "#uses the 1.2x pedestal criteria to remove \"false\" events. essentially cut 0\n",
    "#I don't think it should have a switch here for other methods - somewhere else there needs to be one though!\n",
    "def confirm_events(df, pedestals):\n",
    "    # can probably get rid of the loop, but then we would have to split the main df to have ends in different rows. annoying.\n",
    "    confirmed_data=[]\n",
    "    layers=np.arange(1,20)\n",
    "    strips=np.arange(0,12)\n",
    "    for layer in layers:\n",
    "        for strip in strips:\n",
    "            df_slice=choose_bar(df,layer,strip)\n",
    "            pedestal_slice=choose_bar(pedestals,layer,strip)\n",
    "            if not pedestal_slice.empty:\n",
    "                df_slice=df_slice[df_slice[\"adc_sum_end0\"]>1.2*pedestal_slice.iloc[0,-1]] # there could be a switch whether we want to\n",
    "                df_slice=df_slice[df_slice[\"adc_sum_end1\"]>1.2*pedestal_slice.iloc[1,-1]] # require both ends to register the hit\n",
    "            confirmed_data.extend(df_slice.values.tolist())\n",
    "    confirmed_df=pd.DataFrame(confirmed_data, columns=['event', 'adc_sum_end0', 'layer', 'strip', 'adc_sum_end1'])\n",
    "    events_left=confirmed_df.event.unique()\n",
    "    print(\"Initial pedestal-based selection performed.\")\n",
    "    print(\"Events left: \"+str(len(events_left)))\n",
    "    print(\"\\n\")\n",
    "    return confirmed_df"
   ]
  },
  {
   "cell_type": "code",
   "execution_count": 50,
   "id": "1961399b-f816-498b-950e-043c76158395",
   "metadata": {},
   "outputs": [],
   "source": [
    "def first_layer_cut(df):\n",
    "    helper_df=df[df['layer']==1].groupby(['event']).count()\n",
    "    events_to_remove=helper_df[helper_df['layer']>1].index.values.tolist()\n",
    "    df=df[~df['event'].isin(events_to_remove)]\n",
    "    \n",
    "    events_left=df.event.unique()\n",
    "    print(\"Events with multiple hits in first layer removed.\")\n",
    "    print(\"Events left: \"+str(len(events_left)))\n",
    "    print(\"\\n\")\n",
    "    return df"
   ]
  },
  {
   "cell_type": "code",
   "execution_count": 10,
   "id": "0c9bb95b-f395-4efc-b2fd-18f318a2d374",
   "metadata": {},
   "outputs": [],
   "source": [
    "def back_layer_cut(df, b_num):\n",
    "    events_to_remove=df[df['layer']>19-b_num].groupby(['event']).count().index.values.tolist()\n",
    "    df=df[~df['event'].isin(events_to_remove)]\n",
    "    \n",
    "    events_left=df.event.unique()\n",
    "    print(\"Events with hits in the back \" +str(b_num)+\" layers removed.\")\n",
    "    print(\"Events left: \"+str(len(events_left)))\n",
    "    print(\"\\n\")\n",
    "    return df"
   ]
  },
  {
   "cell_type": "code",
   "execution_count": 47,
   "id": "a665bde6-26b4-4743-95e5-48d5088eebf8",
   "metadata": {},
   "outputs": [],
   "source": [
    "def select_events(df,pedestals,cut_first_layer=True, cut_back_layers=True, back_layers=5):\n",
    "    print(\"Number of events: \"+str(len(df.pf_event.unique())))\n",
    "    print(\"\\n\")\n",
    "    df=confirm_events(df, pedestals)\n",
    "    if cut_first_layer==True:\n",
    "        df=first_layer_cut(df)\n",
    "    if cut_back_layers==True:\n",
    "        df=back_layer_cut(df,back_layers)\n",
    "    return df"
   ]
  },
  {
   "cell_type": "code",
   "execution_count": 48,
   "id": "118548b6-11f6-4ed5-b289-d36c520d17b9",
   "metadata": {},
   "outputs": [],
   "source": [
    "c_folder=\"../../data/calibration\"\n",
    "d_folder=\"../../data/runData\"\n",
    "r_n=300"
   ]
  },
  {
   "cell_type": "code",
   "execution_count": 49,
   "id": "38289a6d-5bd8-4fc4-b97d-44c9c8c4f0af",
   "metadata": {},
   "outputs": [
    {
     "name": "stdout",
     "output_type": "stream",
     "text": [
      "Number of events: 71416\n",
      "\n",
      "\n",
      "Initial pedestal-based selection performed.\n",
      "Events left: 71414\n",
      "\n",
      "\n",
      "Events with multiple hits in first layer removed.\n",
      "Events left: 50834\n",
      "\n",
      "\n",
      "Events with hits in the back 5 layers removed.\n",
      "Events left: 41643\n",
      "\n",
      "\n",
      "CPU times: user 25.6 s, sys: 3.88 s, total: 29.5 s\n",
      "Wall time: 29.9 s\n"
     ]
    }
   ],
   "source": [
    "%%time\n",
    "clean=import_and_select(c_folder,d_folder,r_n)"
   ]
  },
  {
   "cell_type": "code",
   "execution_count": null,
   "id": "1a09a73f-fa9d-4ba3-9063-77ae47abe427",
   "metadata": {},
   "outputs": [],
   "source": []
  }
 ],
 "metadata": {
  "kernelspec": {
   "display_name": "Python 3 (ipykernel)",
   "language": "python",
   "name": "python3"
  },
  "language_info": {
   "codemirror_mode": {
    "name": "ipython",
    "version": 3
   },
   "file_extension": ".py",
   "mimetype": "text/x-python",
   "name": "python",
   "nbconvert_exporter": "python",
   "pygments_lexer": "ipython3",
   "version": "3.10.12"
  }
 },
 "nbformat": 4,
 "nbformat_minor": 5
}
