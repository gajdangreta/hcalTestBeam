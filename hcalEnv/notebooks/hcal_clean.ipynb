{
 "cells": [
  {
   "cell_type": "code",
   "execution_count": 1,
   "id": "2a779ac4-017e-40d2-880c-f8969bf811f9",
   "metadata": {},
   "outputs": [],
   "source": [
    "import numpy as np\n",
    "import matplotlib.pyplot as plt\n",
    "import pandas as pd"
   ]
  },
  {
   "cell_type": "code",
   "execution_count": 2,
   "id": "664a6e9a-26db-481b-9c34-fb57b032189a",
   "metadata": {},
   "outputs": [],
   "source": [
    "def import_and_select(calibration_folder, data_folder, run_n):\n",
    "    pedestals, mips, run=import_data(calibration_folder, data_folder, run_n)\n",
    "    run=select_events(run, pedestals)\n",
    "    return run"
   ]
  },
  {
   "cell_type": "code",
   "execution_count": 29,
   "id": "b8221d6b-2abe-49b4-a91d-fa7a988b7558",
   "metadata": {},
   "outputs": [],
   "source": [
    "def drop_columns(df):\n",
    "    kept_columns=['layer', 'strip', 'pedestal', 'pf_event', 'adc_sum_end0', 'adc_sum_end1', 'end', 'mpv', 'std_dev']\n",
    "    df=df[df.columns.intersection(kept_columns)]\n",
    "    return df"
   ]
  },
  {
   "cell_type": "code",
   "execution_count": 79,
   "id": "61b6a3d4-9bc3-46a7-a5ee-ece5ddddb4cc",
   "metadata": {},
   "outputs": [],
   "source": [
    "def import_data(calibration_folder, data_folder, run_n):\n",
    "    pedestals=drop_columns(pd.read_csv(calibration_folder+\"/pedestals_MIP.csv\", sep=','))\n",
    "    mips=drop_columns(pd.read_csv(calibration_folder+\"/mip.csv\", sep=','))\n",
    "    run=drop_columns(pd.read_csv(data_folder+\"/run_\"+str(run_n)+\".csv\", sep=','))\n",
    "    return pedestals,mips,run"
   ]
  },
  {
   "cell_type": "code",
   "execution_count": 5,
   "id": "b5938bdc-cd38-43f4-9285-829c7b683c67",
   "metadata": {},
   "outputs": [],
   "source": [
    "def choose_bar(df,layer, strip):\n",
    "    df=df[df[\"strip\"]==strip]\n",
    "    df=df[df[\"layer\"]==layer]\n",
    "    return df"
   ]
  },
  {
   "cell_type": "code",
   "execution_count": 6,
   "id": "3d9e38f4-21fe-412d-bf2d-7df9652a15ca",
   "metadata": {},
   "outputs": [],
   "source": [
    "def choose_layer(df,layer):\n",
    "    df=df[df['layer']==layer]\n",
    "    return df"
   ]
  },
  {
   "cell_type": "code",
   "execution_count": 44,
   "id": "95f846ab-9312-4e10-a224-1fe2f219334b",
   "metadata": {},
   "outputs": [],
   "source": [
    "#uses the 1.2x pedestal criteria to remove \"false\" events. essentially cut 0\n",
    "#I don't think it should have a switch here for other methods - somewhere else there needs to be one though!\n",
    "def confirm_events(df, pedestals):\n",
    "    # can probably get rid of the loop, but then we would have to split the main df to have ends in different rows. annoying.\n",
    "    confirmed_data=[]\n",
    "    layers=np.arange(1,20)\n",
    "    strips=np.arange(0,12)\n",
    "    for layer in layers:\n",
    "        for strip in strips:\n",
    "            df_slice=choose_bar(df,layer,strip)\n",
    "            pedestal_slice=choose_bar(pedestals,layer,strip)\n",
    "            if not pedestal_slice.empty:\n",
    "                df_slice=df_slice[df_slice[\"adc_sum_end0\"]>1.2*pedestal_slice.iloc[0,-2]] # there could be a switch whether we want to\n",
    "                df_slice=df_slice[df_slice[\"adc_sum_end1\"]>1.2*pedestal_slice.iloc[1,-2]] # require both ends to register the hit\n",
    "            confirmed_data.extend(df_slice.values.tolist())\n",
    "    confirmed_df=pd.DataFrame(confirmed_data, columns=['event', 'adc_sum_end0', 'layer', 'strip', 'adc_sum_end1'])\n",
    "    events_left=confirmed_df.event.unique()\n",
    "    print(\"Initial pedestal-based selection performed.\")\n",
    "    print(\"Events left: \"+str(len(events_left)))\n",
    "    print(\"\\n\")\n",
    "    return confirmed_df"
   ]
  },
  {
   "cell_type": "code",
   "execution_count": 33,
   "id": "54357293-d7b3-4baa-ba4e-389c113eb39e",
   "metadata": {},
   "outputs": [],
   "source": [
    "def confirm_events_sigma(df, pedestals):\n",
    "    # signal defined as anything above pedestal+5*pedestal std_dev\n",
    "    confirmed_data=[]\n",
    "    layers=np.arange(1,20)\n",
    "    strips=np.arange(0,12)\n",
    "    for layer in layers:\n",
    "        for strip in strips:\n",
    "            df_slice=choose_bar(df,layer,strip)\n",
    "            pedestal_slice=choose_bar(pedestals,layer,strip)\n",
    "            if not pedestal_slice.empty:\n",
    "                df_slice=df_slice[df_slice[\"adc_sum_end0\"]>(pedestal_slice.iloc[0,-2]+5*pedestal_slice.iloc[0,-1])] # there could be a switch whether we want to\n",
    "                df_slice=df_slice[df_slice[\"adc_sum_end1\"]>(pedestal_slice.iloc[1,-2]+5*pedestal_slice.iloc[0,-1])] # require both ends to register the hit\n",
    "            confirmed_data.extend(df_slice.values.tolist())\n",
    "    confirmed_df=pd.DataFrame(confirmed_data, columns=['event', 'adc_sum_end0', 'layer', 'strip', 'adc_sum_end1'])\n",
    "    events_left=confirmed_df.event.unique()\n",
    "    print(\"Initial pedestal-based selection performed.\")\n",
    "    print(\"Events left: \"+str(len(events_left)))\n",
    "    print(\"\\n\")\n",
    "    return confirmed_df"
   ]
  },
  {
   "cell_type": "code",
   "execution_count": 34,
   "id": "1961399b-f816-498b-950e-043c76158395",
   "metadata": {},
   "outputs": [],
   "source": [
    "def first_layer_cut(df):\n",
    "    helper_df=df[df['layer']==1].groupby(['event']).count()\n",
    "    events_to_remove=helper_df[helper_df['layer']>1].index.values.tolist()\n",
    "    df=df[~df['event'].isin(events_to_remove)]\n",
    "    \n",
    "    events_left=df.event.unique()\n",
    "    print(\"Events with multiple hits in first layer removed.\")\n",
    "    print(\"Events left: \"+str(len(events_left)))\n",
    "    print(\"\\n\")\n",
    "    return df"
   ]
  },
  {
   "cell_type": "code",
   "execution_count": 9,
   "id": "0c9bb95b-f395-4efc-b2fd-18f318a2d374",
   "metadata": {},
   "outputs": [],
   "source": [
    "def back_layer_cut(df, b_num):\n",
    "    events_to_remove=df[df['layer']>19-b_num].groupby(['event']).count().index.values.tolist()\n",
    "    df=df[~df['event'].isin(events_to_remove)]\n",
    "    \n",
    "    events_left=df.event.unique()\n",
    "    print(\"Events with hits in the back \" +str(b_num)+\" layers removed.\")\n",
    "    print(\"Events left: \"+str(len(events_left)))\n",
    "    print(\"\\n\")\n",
    "    return df"
   ]
  },
  {
   "cell_type": "code",
   "execution_count": 10,
   "id": "a665bde6-26b4-4743-95e5-48d5088eebf8",
   "metadata": {},
   "outputs": [],
   "source": [
    "def select_events(df,pedestals,cut_first_layer=True, cut_back_layers=True, back_layers=5):\n",
    "    print(\"Number of events: \"+str(len(df.pf_event.unique())))\n",
    "    print(\"\\n\")\n",
    "    df=confirm_events(df, pedestals)\n",
    "    if cut_first_layer==True:\n",
    "        df=first_layer_cut(df)\n",
    "    if cut_back_layers==True:\n",
    "        df=back_layer_cut(df,back_layers)\n",
    "    return df"
   ]
  },
  {
   "cell_type": "code",
   "execution_count": 11,
   "id": "118548b6-11f6-4ed5-b289-d36c520d17b9",
   "metadata": {},
   "outputs": [],
   "source": [
    "c_folder=\"../../data/calibration\"\n",
    "d_folder=\"../../data/runData\"\n",
    "r_n=300"
   ]
  },
  {
   "cell_type": "code",
   "execution_count": 108,
   "id": "38289a6d-5bd8-4fc4-b97d-44c9c8c4f0af",
   "metadata": {},
   "outputs": [
    {
     "name": "stdout",
     "output_type": "stream",
     "text": [
      "13711872\n",
      "CPU times: user 12 s, sys: 4.34 s, total: 16.4 s\n",
      "Wall time: 17.6 s\n"
     ]
    }
   ],
   "source": [
    "%%time\n",
    "p,m,r=import_data(c_folder,d_folder,r_n)\n",
    "print(len(r))\n",
    "#r=first_layer_cut(r)\n",
    "#r=back_layer_cut(r,7)"
   ]
  },
  {
   "cell_type": "code",
   "execution_count": 93,
   "id": "b6421e23-6633-4db2-a703-b6753c40e57d",
   "metadata": {},
   "outputs": [
    {
     "data": {
      "image/png": "[encoded data removed]",
      "text/plain": [
       "<Figure size 640x480 with 1 Axes>"
      ]
     },
     "metadata": {},
     "output_type": "display_data"
    }
   ],
   "source": [
    "layer_energy=r.groupby([\"layer\"]).sum().drop(columns=[\"pf_event\", \"strip\"]).reset_index()\n",
    "plt.bar(layer_energy['layer'], (layer_energy[\"adc_sum_end0\"]+layer_energy[\"adc_sum_end1\"])/(2), \n",
    "        color='lime', alpha=0.75, edgecolor=\"black\", label=\"Run 300\")\n",
    "#plt.yscale('log')\n",
    "plt.xticks(np.arange(1,20))\n",
    "plt.savefig(\"../../plots/cutflow/fresh_from_import.png\", bbox_inches='tight')\n",
    "plt.xlabel(\"Layer\")\n",
    "plt.ylabel(\"Sum of sumADC\")\n",
    "plt.savefig(\"../../plots/cutflow/fresh_from_import.png\", bbox_inches='tight')\n",
    "plt.show()"
   ]
  },
  {
   "cell_type": "code",
   "execution_count": 109,
   "id": "fc1b275a-6886-485d-b8ec-a5232480ac59",
   "metadata": {},
   "outputs": [
    {
     "name": "stdout",
     "output_type": "stream",
     "text": [
      "Initial pedestal-based selection performed.\n",
      "Events left: 71415\n",
      "\n",
      "\n",
      "1918191\n"
     ]
    }
   ],
   "source": [
    "r=confirm_events_sigma(r,p)\n",
    "print(len(r))"
   ]
  },
  {
   "cell_type": "code",
   "execution_count": 111,
   "id": "d1f28e97-dd6d-4f3e-80db-22f051a0dd38",
   "metadata": {},
   "outputs": [
    {
     "name": "stdout",
     "output_type": "stream",
     "text": [
      "Events with multiple hits in first layer removed.\n",
      "Events left: 42329\n",
      "\n",
      "\n"
     ]
    },
    {
     "data": {
      "text/plain": [
       "1118429"
      ]
     },
     "execution_count": 111,
     "metadata": {},
     "output_type": "execute_result"
    }
   ],
   "source": [
    "r=first_layer_cut(r)\n",
    "len(r)"
   ]
  },
  {
   "cell_type": "code",
   "execution_count": 113,
   "id": "5d4a50c6-6b0a-46ba-981c-f11615dd7484",
   "metadata": {},
   "outputs": [
    {
     "name": "stdout",
     "output_type": "stream",
     "text": [
      "Events with hits in the back 7 layers removed.\n",
      "Events left: 17982\n",
      "\n",
      "\n"
     ]
    },
    {
     "data": {
      "text/plain": [
       "445265"
      ]
     },
     "execution_count": 113,
     "metadata": {},
     "output_type": "execute_result"
    }
   ],
   "source": [
    "r=back_layer_cut(r),7)\n",
    "len(r)"
   ]
  },
  {
   "cell_type": "code",
   "execution_count": 114,
   "id": "b02d4cf2-f135-4509-91fd-00d8cac22017",
   "metadata": {},
   "outputs": [
    {
     "data": {
      "image/png": "[encoded data removed]",
      "text/plain": [
       "<Figure size 640x480 with 1 Axes>"
      ]
     },
     "metadata": {},
     "output_type": "display_data"
    }
   ],
   "source": [
    "layer_energy=r.groupby([\"layer\"]).sum().drop(columns=[\"event\", \"strip\"]).reset_index()\n",
    "plt.bar(layer_energy['layer'], (layer_energy[\"adc_sum_end0\"]+layer_energy[\"adc_sum_end1\"])/(2), \n",
    "        color='lime', alpha=0.75, edgecolor=\"black\", label=\"Run 300\")\n",
    "#plt.yscale('log')\n",
    "plt.xticks(np.arange(1,20))\n",
    "plt.savefig(\"../../plots/cutflow/back_layer_sigma.png\", bbox_inches='tight')\n",
    "plt.xlabel(\"Layer\")\n",
    "plt.ylabel(\"Sum of sumADC\")\n",
    "plt.show()"
   ]
  },
  {
   "cell_type": "code",
   "execution_count": 60,
   "id": "1a09a73f-fa9d-4ba3-9063-77ae47abe427",
   "metadata": {},
   "outputs": [],
   "source": [
    "#not_funky=r[r[\"layer\"].isin([13,14])].event.unique()"
   ]
  },
  {
   "cell_type": "code",
   "execution_count": 59,
   "id": "2925fdc6-b599-40df-91a1-6a34dff8cd89",
   "metadata": {},
   "outputs": [],
   "source": [
    "#r[~r[\"event\"].isin(not_funky)]"
   ]
  },
  {
   "cell_type": "code",
   "execution_count": 63,
   "id": "12c4f368-8770-4bdd-aa58-f974b7570d35",
   "metadata": {},
   "outputs": [
    {
     "data": {
      "text/html": [
       "<div>\n",
       "<style scoped>\n",
       "    .dataframe tbody tr th:only-of-type {\n",
       "        vertical-align: middle;\n",
       "    }\n",
       "\n",
       "    .dataframe tbody tr th {\n",
       "        vertical-align: top;\n",
       "    }\n",
       "\n",
       "    .dataframe thead th {\n",
       "        text-align: right;\n",
       "    }\n",
       "</style>\n",
       "<table border=\"1\" class=\"dataframe\">\n",
       "  <thead>\n",
       "    <tr style=\"text-align: right;\">\n",
       "      <th></th>\n",
       "      <th>event</th>\n",
       "      <th>adc_sum_end0</th>\n",
       "      <th>layer</th>\n",
       "      <th>strip</th>\n",
       "      <th>adc_sum_end1</th>\n",
       "    </tr>\n",
       "  </thead>\n",
       "  <tbody>\n",
       "    <tr>\n",
       "      <th>40236</th>\n",
       "      <td>46571</td>\n",
       "      <td>8025</td>\n",
       "      <td>1</td>\n",
       "      <td>3</td>\n",
       "      <td>8111</td>\n",
       "    </tr>\n",
       "    <tr>\n",
       "      <th>145180</th>\n",
       "      <td>46571</td>\n",
       "      <td>5338</td>\n",
       "      <td>2</td>\n",
       "      <td>3</td>\n",
       "      <td>5366</td>\n",
       "    </tr>\n",
       "    <tr>\n",
       "      <th>194971</th>\n",
       "      <td>46571</td>\n",
       "      <td>1599</td>\n",
       "      <td>2</td>\n",
       "      <td>4</td>\n",
       "      <td>1724</td>\n",
       "    </tr>\n",
       "    <tr>\n",
       "      <th>226944</th>\n",
       "      <td>46571</td>\n",
       "      <td>1413</td>\n",
       "      <td>3</td>\n",
       "      <td>2</td>\n",
       "      <td>1627</td>\n",
       "    </tr>\n",
       "    <tr>\n",
       "      <th>275263</th>\n",
       "      <td>46571</td>\n",
       "      <td>6544</td>\n",
       "      <td>3</td>\n",
       "      <td>3</td>\n",
       "      <td>5823</td>\n",
       "    </tr>\n",
       "    <tr>\n",
       "      <th>432631</th>\n",
       "      <td>46571</td>\n",
       "      <td>4475</td>\n",
       "      <td>4</td>\n",
       "      <td>3</td>\n",
       "      <td>3874</td>\n",
       "    </tr>\n",
       "    <tr>\n",
       "      <th>495094</th>\n",
       "      <td>46571</td>\n",
       "      <td>3159</td>\n",
       "      <td>4</td>\n",
       "      <td>4</td>\n",
       "      <td>3006</td>\n",
       "    </tr>\n",
       "    <tr>\n",
       "      <th>561064</th>\n",
       "      <td>46571</td>\n",
       "      <td>1358</td>\n",
       "      <td>5</td>\n",
       "      <td>2</td>\n",
       "      <td>1488</td>\n",
       "    </tr>\n",
       "    <tr>\n",
       "      <th>617091</th>\n",
       "      <td>46571</td>\n",
       "      <td>4949</td>\n",
       "      <td>5</td>\n",
       "      <td>3</td>\n",
       "      <td>4920</td>\n",
       "    </tr>\n",
       "    <tr>\n",
       "      <th>757464</th>\n",
       "      <td>46571</td>\n",
       "      <td>1485</td>\n",
       "      <td>6</td>\n",
       "      <td>2</td>\n",
       "      <td>1411</td>\n",
       "    </tr>\n",
       "    <tr>\n",
       "      <th>811965</th>\n",
       "      <td>46571</td>\n",
       "      <td>4742</td>\n",
       "      <td>6</td>\n",
       "      <td>3</td>\n",
       "      <td>4581</td>\n",
       "    </tr>\n",
       "    <tr>\n",
       "      <th>875760</th>\n",
       "      <td>46571</td>\n",
       "      <td>2092</td>\n",
       "      <td>6</td>\n",
       "      <td>4</td>\n",
       "      <td>2047</td>\n",
       "    </tr>\n",
       "    <tr>\n",
       "      <th>935000</th>\n",
       "      <td>46571</td>\n",
       "      <td>914</td>\n",
       "      <td>7</td>\n",
       "      <td>2</td>\n",
       "      <td>1016</td>\n",
       "    </tr>\n",
       "    <tr>\n",
       "      <th>981639</th>\n",
       "      <td>46571</td>\n",
       "      <td>4195</td>\n",
       "      <td>7</td>\n",
       "      <td>3</td>\n",
       "      <td>4402</td>\n",
       "    </tr>\n",
       "    <tr>\n",
       "      <th>1176023</th>\n",
       "      <td>46571</td>\n",
       "      <td>1098</td>\n",
       "      <td>8</td>\n",
       "      <td>4</td>\n",
       "      <td>1084</td>\n",
       "    </tr>\n",
       "    <tr>\n",
       "      <th>1201443</th>\n",
       "      <td>46571</td>\n",
       "      <td>1041</td>\n",
       "      <td>8</td>\n",
       "      <td>6</td>\n",
       "      <td>954</td>\n",
       "    </tr>\n",
       "    <tr>\n",
       "      <th>1321818</th>\n",
       "      <td>46571</td>\n",
       "      <td>1368</td>\n",
       "      <td>10</td>\n",
       "      <td>4</td>\n",
       "      <td>1401</td>\n",
       "    </tr>\n",
       "    <tr>\n",
       "      <th>1347485</th>\n",
       "      <td>46571</td>\n",
       "      <td>1846</td>\n",
       "      <td>10</td>\n",
       "      <td>5</td>\n",
       "      <td>1919</td>\n",
       "    </tr>\n",
       "    <tr>\n",
       "      <th>1471425</th>\n",
       "      <td>46571</td>\n",
       "      <td>1896</td>\n",
       "      <td>12</td>\n",
       "      <td>7</td>\n",
       "      <td>2067</td>\n",
       "    </tr>\n",
       "    <tr>\n",
       "      <th>1523512</th>\n",
       "      <td>46571</td>\n",
       "      <td>1202</td>\n",
       "      <td>19</td>\n",
       "      <td>11</td>\n",
       "      <td>1749</td>\n",
       "    </tr>\n",
       "  </tbody>\n",
       "</table>\n",
       "</div>"
      ],
      "text/plain": [
       "         event  adc_sum_end0  layer  strip  adc_sum_end1\n",
       "40236    46571          8025      1      3          8111\n",
       "145180   46571          5338      2      3          5366\n",
       "194971   46571          1599      2      4          1724\n",
       "226944   46571          1413      3      2          1627\n",
       "275263   46571          6544      3      3          5823\n",
       "432631   46571          4475      4      3          3874\n",
       "495094   46571          3159      4      4          3006\n",
       "561064   46571          1358      5      2          1488\n",
       "617091   46571          4949      5      3          4920\n",
       "757464   46571          1485      6      2          1411\n",
       "811965   46571          4742      6      3          4581\n",
       "875760   46571          2092      6      4          2047\n",
       "935000   46571           914      7      2          1016\n",
       "981639   46571          4195      7      3          4402\n",
       "1176023  46571          1098      8      4          1084\n",
       "1201443  46571          1041      8      6           954\n",
       "1321818  46571          1368     10      4          1401\n",
       "1347485  46571          1846     10      5          1919\n",
       "1471425  46571          1896     12      7          2067\n",
       "1523512  46571          1202     19     11          1749"
      ]
     },
     "execution_count": 63,
     "metadata": {},
     "output_type": "execute_result"
    }
   ],
   "source": [
    "r[r[\"event\"]==46571]"
   ]
  },
  {
   "cell_type": "code",
   "execution_count": 74,
   "id": "a014b519-1c13-4d15-bbf1-9b7789e2fe97",
   "metadata": {},
   "outputs": [
    {
     "data": {
      "text/html": [
       "<div>\n",
       "<style scoped>\n",
       "    .dataframe tbody tr th:only-of-type {\n",
       "        vertical-align: middle;\n",
       "    }\n",
       "\n",
       "    .dataframe tbody tr th {\n",
       "        vertical-align: top;\n",
       "    }\n",
       "\n",
       "    .dataframe thead th {\n",
       "        text-align: right;\n",
       "    }\n",
       "</style>\n",
       "<table border=\"1\" class=\"dataframe\">\n",
       "  <thead>\n",
       "    <tr style=\"text-align: right;\">\n",
       "      <th></th>\n",
       "      <th>layer</th>\n",
       "      <th>strip</th>\n",
       "      <th>end</th>\n",
       "      <th>pedestal</th>\n",
       "      <th>std_dev</th>\n",
       "    </tr>\n",
       "  </thead>\n",
       "  <tbody>\n",
       "    <tr>\n",
       "      <th>0</th>\n",
       "      <td>1</td>\n",
       "      <td>0</td>\n",
       "      <td>0</td>\n",
       "      <td>760</td>\n",
       "      <td>9.674627</td>\n",
       "    </tr>\n",
       "    <tr>\n",
       "      <th>1</th>\n",
       "      <td>1</td>\n",
       "      <td>0</td>\n",
       "      <td>1</td>\n",
       "      <td>840</td>\n",
       "      <td>11.046368</td>\n",
       "    </tr>\n",
       "    <tr>\n",
       "      <th>2</th>\n",
       "      <td>1</td>\n",
       "      <td>1</td>\n",
       "      <td>0</td>\n",
       "      <td>760</td>\n",
       "      <td>14.564194</td>\n",
       "    </tr>\n",
       "    <tr>\n",
       "      <th>3</th>\n",
       "      <td>1</td>\n",
       "      <td>1</td>\n",
       "      <td>1</td>\n",
       "      <td>760</td>\n",
       "      <td>18.856047</td>\n",
       "    </tr>\n",
       "    <tr>\n",
       "      <th>4</th>\n",
       "      <td>1</td>\n",
       "      <td>2</td>\n",
       "      <td>0</td>\n",
       "      <td>728</td>\n",
       "      <td>10.387670</td>\n",
       "    </tr>\n",
       "    <tr>\n",
       "      <th>...</th>\n",
       "      <td>...</td>\n",
       "      <td>...</td>\n",
       "      <td>...</td>\n",
       "      <td>...</td>\n",
       "      <td>...</td>\n",
       "    </tr>\n",
       "    <tr>\n",
       "      <th>379</th>\n",
       "      <td>19</td>\n",
       "      <td>9</td>\n",
       "      <td>1</td>\n",
       "      <td>824</td>\n",
       "      <td>9.375246</td>\n",
       "    </tr>\n",
       "    <tr>\n",
       "      <th>380</th>\n",
       "      <td>19</td>\n",
       "      <td>10</td>\n",
       "      <td>0</td>\n",
       "      <td>728</td>\n",
       "      <td>9.138480</td>\n",
       "    </tr>\n",
       "    <tr>\n",
       "      <th>381</th>\n",
       "      <td>19</td>\n",
       "      <td>10</td>\n",
       "      <td>1</td>\n",
       "      <td>824</td>\n",
       "      <td>9.243012</td>\n",
       "    </tr>\n",
       "    <tr>\n",
       "      <th>382</th>\n",
       "      <td>19</td>\n",
       "      <td>11</td>\n",
       "      <td>0</td>\n",
       "      <td>792</td>\n",
       "      <td>11.286028</td>\n",
       "    </tr>\n",
       "    <tr>\n",
       "      <th>383</th>\n",
       "      <td>19</td>\n",
       "      <td>11</td>\n",
       "      <td>1</td>\n",
       "      <td>760</td>\n",
       "      <td>9.002523</td>\n",
       "    </tr>\n",
       "  </tbody>\n",
       "</table>\n",
       "<p>384 rows × 5 columns</p>\n",
       "</div>"
      ],
      "text/plain": [
       "     layer  strip  end  pedestal    std_dev\n",
       "0        1      0    0       760   9.674627\n",
       "1        1      0    1       840  11.046368\n",
       "2        1      1    0       760  14.564194\n",
       "3        1      1    1       760  18.856047\n",
       "4        1      2    0       728  10.387670\n",
       "..     ...    ...  ...       ...        ...\n",
       "379     19      9    1       824   9.375246\n",
       "380     19     10    0       728   9.138480\n",
       "381     19     10    1       824   9.243012\n",
       "382     19     11    0       792  11.286028\n",
       "383     19     11    1       760   9.002523\n",
       "\n",
       "[384 rows x 5 columns]"
      ]
     },
     "execution_count": 74,
     "metadata": {},
     "output_type": "execute_result"
    }
   ],
   "source": [
    "# 20 000 at 1.3*pedestal\n",
    "# 25 000 at 1.2*pedestal\n",
    "p"
   ]
  },
  {
   "cell_type": "code",
   "execution_count": null,
   "id": "021a90c5-47d6-4dec-8149-afb2712d14fc",
   "metadata": {},
   "outputs": [],
   "source": []
  }
 ],
 "metadata": {
  "kernelspec": {
   "display_name": "Python 3 (ipykernel)",
   "language": "python",
   "name": "python3"
  },
  "language_info": {
   "codemirror_mode": {
    "name": "ipython",
    "version": 3
   },
   "file_extension": ".py",
   "mimetype": "text/x-python",
   "name": "python",
   "nbconvert_exporter": "python",
   "pygments_lexer": "ipython3",
   "version": "3.10.12"
  }
 },
 "nbformat": 4,
 "nbformat_minor": 5
}
