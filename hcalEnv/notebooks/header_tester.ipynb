{
 "cells": [
  {
   "cell_type": "code",
   "execution_count": 1,
   "id": "b832a53c-53c1-4eac-88d4-ac2dfc67df7c",
   "metadata": {},
   "outputs": [],
   "source": [
    "import sys\n",
    "sys.path.append(\"../src\")\n",
    "\n",
    "from event_selections import *\n",
    "import matplotlib.pyplot as plt"
   ]
  },
  {
   "cell_type": "code",
   "execution_count": 2,
   "id": "02cb6548-fe22-4a3a-85f8-113c39f47696",
   "metadata": {},
   "outputs": [],
   "source": [
    "c_folder=\"../../data/calibration\"\n",
    "d_folder=\"../../data/runData\"\n",
    "r_n=300\n",
    "p_folder=\"../../plots/run_\"+str(r_n)"
   ]
  },
  {
   "cell_type": "code",
   "execution_count": 3,
   "id": "4d7c2632-4e26-4bdc-95ab-9ad949f36997",
   "metadata": {},
   "outputs": [
    {
     "name": "stdout",
     "output_type": "stream",
     "text": [
      "Number of events: 71416\n",
      "\n",
      "\n",
      "Initial pedestal-based selection performed.\n",
      "Events left: 71415\n",
      "\n",
      "\n",
      "Events with multiple hits in first layer removed.\n",
      "Events left: 42329\n",
      "\n",
      "\n",
      "Events with hits in the back 7 layers removed.\n",
      "Events left: 17982\n",
      "\n",
      "\n",
      "Wall time: 53.5 s\n"
     ]
    }
   ],
   "source": [
    "%%time\n",
    "clean_run=import_and_select(c_folder,d_folder,r_n, cut_first_layer=True,cut_back_layers=True, use_sigma=True)"
   ]
  },
  {
   "cell_type": "code",
   "execution_count": 4,
   "id": "b62c2b09-e2c2-45b3-bd40-5dac4292b217",
   "metadata": {},
   "outputs": [
    {
     "data": {
      "text/html": [
       "<div>\n",
       "<style scoped>\n",
       "    .dataframe tbody tr th:only-of-type {\n",
       "        vertical-align: middle;\n",
       "    }\n",
       "\n",
       "    .dataframe tbody tr th {\n",
       "        vertical-align: top;\n",
       "    }\n",
       "\n",
       "    .dataframe thead th {\n",
       "        text-align: right;\n",
       "    }\n",
       "</style>\n",
       "<table border=\"1\" class=\"dataframe\">\n",
       "  <thead>\n",
       "    <tr style=\"text-align: right;\">\n",
       "      <th></th>\n",
       "      <th>event</th>\n",
       "      <th>adc_sum_end0</th>\n",
       "      <th>layer</th>\n",
       "      <th>strip</th>\n",
       "      <th>adc_sum_end1</th>\n",
       "    </tr>\n",
       "  </thead>\n",
       "  <tbody>\n",
       "    <tr>\n",
       "      <th>4</th>\n",
       "      <td>878.0</td>\n",
       "      <td>46.306773</td>\n",
       "      <td>1.0</td>\n",
       "      <td>0.0</td>\n",
       "      <td>30.056549</td>\n",
       "    </tr>\n",
       "    <tr>\n",
       "      <th>654</th>\n",
       "      <td>7463.0</td>\n",
       "      <td>5.274334</td>\n",
       "      <td>1.0</td>\n",
       "      <td>1.0</td>\n",
       "      <td>3.718100</td>\n",
       "    </tr>\n",
       "    <tr>\n",
       "      <th>990</th>\n",
       "      <td>42239.0</td>\n",
       "      <td>9.144323</td>\n",
       "      <td>1.0</td>\n",
       "      <td>1.0</td>\n",
       "      <td>8.617992</td>\n",
       "    </tr>\n",
       "    <tr>\n",
       "      <th>1469</th>\n",
       "      <td>916.0</td>\n",
       "      <td>30.689529</td>\n",
       "      <td>1.0</td>\n",
       "      <td>2.0</td>\n",
       "      <td>39.725993</td>\n",
       "    </tr>\n",
       "    <tr>\n",
       "      <th>1602</th>\n",
       "      <td>2263.0</td>\n",
       "      <td>24.226756</td>\n",
       "      <td>1.0</td>\n",
       "      <td>2.0</td>\n",
       "      <td>23.849141</td>\n",
       "    </tr>\n",
       "  </tbody>\n",
       "</table>\n",
       "</div>"
      ],
      "text/plain": [
       "        event  adc_sum_end0  layer  strip  adc_sum_end1\n",
       "4       878.0     46.306773    1.0    0.0     30.056549\n",
       "654    7463.0      5.274334    1.0    1.0      3.718100\n",
       "990   42239.0      9.144323    1.0    1.0      8.617992\n",
       "1469    916.0     30.689529    1.0    2.0     39.725993\n",
       "1602   2263.0     24.226756    1.0    2.0     23.849141"
      ]
     },
     "execution_count": 4,
     "metadata": {},
     "output_type": "execute_result"
    }
   ],
   "source": [
    "clean_run.head()"
   ]
  },
  {
   "cell_type": "code",
   "execution_count": null,
   "id": "4a4d71ef-69d0-4c3d-ab64-b2e1d4db4c72",
   "metadata": {},
   "outputs": [],
   "source": []
  }
 ],
 "metadata": {
  "kernelspec": {
   "display_name": "Python 3 (ipykernel)",
   "language": "python",
   "name": "python3"
  },
  "language_info": {
   "codemirror_mode": {
    "name": "ipython",
    "version": 3
   },
   "file_extension": ".py",
   "mimetype": "text/x-python",
   "name": "python",
   "nbconvert_exporter": "python",
   "pygments_lexer": "ipython3",
   "version": "3.9.7"
  }
 },
 "nbformat": 4,
 "nbformat_minor": 5
}
