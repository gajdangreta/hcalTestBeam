{
 "cells": [
  {
   "cell_type": "code",
   "execution_count": 7,
   "id": "b832a53c-53c1-4eac-88d4-ac2dfc67df7c",
   "metadata": {},
   "outputs": [],
   "source": [
    "import sys\n",
    "sys.path.append(\"../src\")\n",
    "\n",
    "from event_selections import *"
   ]
  },
  {
   "cell_type": "code",
   "execution_count": 8,
   "id": "02cb6548-fe22-4a3a-85f8-113c39f47696",
   "metadata": {},
   "outputs": [],
   "source": [
    "sys.path.append(\"../src\")\n",
    "c_folder=\"../../data/calibration\"\n",
    "d_folder=\"../../data/runData\"\n",
    "r_n=300"
   ]
  },
  {
   "cell_type": "code",
   "execution_count": 10,
   "id": "4d7c2632-4e26-4bdc-95ab-9ad949f36997",
   "metadata": {},
   "outputs": [
    {
     "name": "stdout",
     "output_type": "stream",
     "text": [
      "Number of events: 71416\n",
      "\n",
      "\n",
      "Initial pedestal-based selection performed.\n",
      "Events left: 71414\n",
      "\n",
      "\n",
      "Events with multiple hits in first layer removed.\n",
      "Events left: 50834\n",
      "\n",
      "\n",
      "Events with hits in the back 7 layers removed.\n",
      "Events left: 28741\n",
      "\n",
      "\n"
     ]
    }
   ],
   "source": [
    "clean_300=import_and_select(c_folder,d_folder,r_n)"
   ]
  },
  {
   "cell_type": "code",
   "execution_count": null,
   "id": "e31ed8bb-6642-4701-a3c1-d3d74b626547",
   "metadata": {},
   "outputs": [],
   "source": []
  }
 ],
 "metadata": {
  "kernelspec": {
   "display_name": "Python 3 (ipykernel)",
   "language": "python",
   "name": "python3"
  },
  "language_info": {
   "codemirror_mode": {
    "name": "ipython",
    "version": 3
   },
   "file_extension": ".py",
   "mimetype": "text/x-python",
   "name": "python",
   "nbconvert_exporter": "python",
   "pygments_lexer": "ipython3",
   "version": "3.10.12"
  }
 },
 "nbformat": 4,
 "nbformat_minor": 5
}
