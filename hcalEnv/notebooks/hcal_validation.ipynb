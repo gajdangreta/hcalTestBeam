{
 "cells": [
  {
   "cell_type": "code",
   "execution_count": 19,
   "id": "e320eac8",
   "metadata": {},
   "outputs": [],
   "source": [
    "import pandas as pd\n",
    "import numpy as np\n",
    "import matplotlib.pyplot as plt\n",
    "from scipy.optimize import curve_fit\n",
    "from scipy.stats import norm\n",
    "from tqdm import tqdm"
   ]
  },
  {
   "cell_type": "code",
   "execution_count": 3,
   "id": "0b45d3fa",
   "metadata": {},
   "outputs": [],
   "source": [
    "pedestals=pd.read_csv(\"pedestals.csv\", sep=',')\n",
    "pedestals=pedestals.drop(columns=['pedestal_per_time_sample', 'std_dev', 'mean'])"
   ]
  },
  {
   "cell_type": "code",
   "execution_count": 4,
   "id": "fd276984",
   "metadata": {},
   "outputs": [],
   "source": [
    "mips=pd.read_csv(\"mip.csv\", sep=',')\n",
    "mips=mips.drop(columns=['eta', 'sigma', 'A'])"
   ]
  },
  {
   "cell_type": "code",
   "execution_count": 5,
   "id": "7274097d",
   "metadata": {},
   "outputs": [],
   "source": [
    "def choose_bar(df,layer, strip):\n",
    "    df=df[df[\"strip\"]==strip]\n",
    "    df=df[df[\"layer\"]==layer]\n",
    "    return df"
   ]
  },
  {
   "cell_type": "code",
   "execution_count": 6,
   "id": "cc872cdb",
   "metadata": {},
   "outputs": [],
   "source": [
    "def choose_layer(df,layer):\n",
    "    df=df[df['layer']==layer]\n",
    "    return df"
   ]
  },
  {
   "cell_type": "code",
   "execution_count": 69,
   "id": "042ac523",
   "metadata": {},
   "outputs": [],
   "source": [
    "def drop_empty(df):\n",
    "    events=[]\n",
    "    adc_0=[]\n",
    "    adc_1=[]\n",
    "    l=[]\n",
    "    s=[]\n",
    "    data=[]\n",
    "\n",
    "    layers=np.arange(1,20)\n",
    "    strips=np.arange(0,12)\n",
    "    \n",
    "    for layer in layers:\n",
    "        for strip in strips:\n",
    "            el=choose_bar(df,layer,strip)\n",
    "            peds=choose_bar(pedestals,layer,strip)\n",
    "            mip=choose_bar(mips, layer, strip)\n",
    "\n",
    "            if not peds.empty: # need to check whether the strip exists \n",
    "                el=el[el[\"adc_sum_end0\"]>1.2*peds.iloc[0,-1]] # gets rid of bars where there's no data in end0\n",
    "                el=el[el[\"adc_sum_end1\"]>1.2*peds.iloc[1,-1]] # gets rid of bars where there's no data in end1\n",
    "                \n",
    "                el.loc[:,\"adc_sum_end0\"]-=peds.iloc[0,-1] # subtracting pedestals\n",
    "                el.loc[:,\"adc_sum_end1\"]-=peds.iloc[1,-1]\n",
    "                \n",
    "                el.loc[:,\"adc_sum_end0\"]*=(4.66/mip.iloc[0,-1]) # converting to energy\n",
    "                el.loc[:,\"adc_sum_end1\"]*=(4.66/mip.iloc[1,-1])\n",
    "                \n",
    "                data.extend(el.values.tolist())\n",
    "    \n",
    "    df_s=pd.DataFrame(data, columns=['event', 'adc_sum_end0', 'layer', 'strip', 'adc_sum_end1'])\n",
    "    \n",
    "    return df_s"
   ]
  },
  {
   "cell_type": "code",
   "execution_count": 8,
   "id": "80e07967",
   "metadata": {},
   "outputs": [],
   "source": [
    "def get_event(df, event):\n",
    "    df=df[df[\"event\"]==event]\n",
    "    return df"
   ]
  },
  {
   "cell_type": "code",
   "execution_count": 48,
   "id": "b1c885f4",
   "metadata": {},
   "outputs": [],
   "source": [
    "def drop_nonelectron(df, bl_num):\n",
    "    events=df.event.unique()\n",
    "    \n",
    "    # check first layer\n",
    "    for event in tqdm(events):\n",
    "        el=get_event(df, event)\n",
    "        el_1=choose_layer(el, 1)\n",
    "        if el_1.shape[0]>1:\n",
    "            df=df[df.event!=event]\n",
    "    \n",
    "    # check bl_num number of back layers\n",
    "        else:\n",
    "            el_i=el[el['layer']>=20-bl_num]\n",
    "            if el_i.shape[0]:\n",
    "                df=df[df.event!=event]\n",
    "            \n",
    "    return df"
   ]
  },
  {
   "cell_type": "code",
   "execution_count": 49,
   "id": "732b3bff",
   "metadata": {},
   "outputs": [],
   "source": [
    "def sum_energy(df):\n",
    "    events=df.event.unique()\n",
    "    energy=[]\n",
    "    for event in events:\n",
    "        el=get_event(df,event)\n",
    "        end0=el['adc_sum_end0'].sum()\n",
    "        end1=el['adc_sum_end1'].sum()\n",
    "        energy.append(np.average([end0,end1]))\n",
    "        \n",
    "    return energy"
   ]
  },
  {
   "cell_type": "code",
   "execution_count": 50,
   "id": "6dc3c29b",
   "metadata": {},
   "outputs": [],
   "source": [
    "def gaussian(x, mu, sig,A):\n",
    "    return (A / (np.sqrt(2.0 * np.pi) * sig) * np.exp(-np.power((x - mu) / sig, 2.0) / 2))"
   ]
  },
  {
   "cell_type": "code",
   "execution_count": 51,
   "id": "6fa36d44",
   "metadata": {},
   "outputs": [],
   "source": [
    "def fit_gaussian(energies):\n",
    "    values, bin_edge=np.histogram(energies, bins=30)\n",
    "    bins=(bin_edge[:-1] + bin_edge[1:]) / 2\n",
    "    \n",
    "    param, pcov=curve_fit(gaussian, bins, values)#, p0=[350,100,6000])\n",
    "    perr=np.sqrt(np.diag(pcov))\n",
    "    \n",
    "    return param, perr"
   ]
  },
  {
   "cell_type": "code",
   "execution_count": 73,
   "id": "1fa7c5f6",
   "metadata": {},
   "outputs": [
    {
     "name": "stdout",
     "output_type": "stream",
     "text": [
      "Wall time: 16.9 s\n"
     ]
    }
   ],
   "source": [
    "%%time\n",
    "electron=pd.read_csv(\"run_305.csv\", sep=',')\n",
    "electron=electron.drop(columns=['tot_end0', 'toa_end0','tot_end1', 'toa_end1', 'adc_max_end0', 'adc_max_end1',\n",
    "                                'pf_spill', 'adc_mean_end0', 'adc_mean_end1', 'pf_ticks'])\n",
    "\n",
    "electron=electron.astype({\"adc_sum_end0\":float,\"adc_sum_end1\":float}) "
   ]
  },
  {
   "cell_type": "code",
   "execution_count": 74,
   "id": "accb8fda",
   "metadata": {},
   "outputs": [
    {
     "name": "stdout",
     "output_type": "stream",
     "text": [
      "Wall time: 16 s\n"
     ]
    }
   ],
   "source": [
    "%%time\n",
    "electron=drop_empty(electron)"
   ]
  },
  {
   "cell_type": "code",
   "execution_count": 54,
   "id": "d543d76c",
   "metadata": {},
   "outputs": [
    {
     "name": "stderr",
     "output_type": "stream",
     "text": [
      "100%|███████████████████████████████████████████████████████████████████████████| 45849/45849 [01:53<00:00, 402.25it/s]"
     ]
    },
    {
     "name": "stdout",
     "output_type": "stream",
     "text": [
      "Wall time: 1min 54s\n"
     ]
    },
    {
     "name": "stderr",
     "output_type": "stream",
     "text": [
      "\n"
     ]
    }
   ],
   "source": [
    "%%time\n",
    "electron=drop_nonelectron(electron,7)"
   ]
  },
  {
   "cell_type": "code",
   "execution_count": 55,
   "id": "68c9f31b",
   "metadata": {},
   "outputs": [
    {
     "name": "stdout",
     "output_type": "stream",
     "text": [
      "Wall time: 42.9 s\n"
     ]
    }
   ],
   "source": [
    "%%time\n",
    "energy_307=sum_energy(electron)"
   ]
  },
  {
   "cell_type": "code",
   "execution_count": 56,
   "id": "dc3c7e91",
   "metadata": {},
   "outputs": [],
   "source": [
    "param_307, perr_305=fit_gaussian(energy_307)"
   ]
  },
  {
   "cell_type": "code",
   "execution_count": 57,
   "id": "6a169ed3",
   "metadata": {},
   "outputs": [],
   "source": [
    "xnums=np.linspace(min(energy_307), max(energy_307),1000)"
   ]
  },
  {
   "cell_type": "code",
   "execution_count": 58,
   "id": "9615e952",
   "metadata": {},
   "outputs": [
    {
     "data": {
      "image/png": "[encoded data removed]",
      "text/plain": [
       "<Figure size 432x288 with 1 Axes>"
      ]
     },
     "metadata": {
      "needs_background": "light"
     },
     "output_type": "display_data"
    }
   ],
   "source": [
    "plt.hist(energy_307, bins=30, color='magenta', alpha=0.5, edgecolor='black', zorder=1)\n",
    "plt.plot(xnums, gaussian(xnums,*param_307), color='black', zorder=2, \n",
    "         label=r\"Gaussian fit:\"\"\\n\"\" $\\mu$=\"+str(round(param_307[0],2))+\", $\\sigma$=\"+str(round(param_307[1],2)))\n",
    "\n",
    "\n",
    "plt.title(r\"Run 305 (300 MeV e$^-$)\")\n",
    "plt.xlabel(\"Average energy (MeV)\")\n",
    "plt.ylabel(\"Frequency\")\n",
    "plt.legend(loc='upper right', fontsize=10)\n",
    "#plt.savefig(\"run305.png\", bbox_inches='tight')\n",
    "plt.show()"
   ]
  },
  {
   "cell_type": "code",
   "execution_count": null,
   "id": "9946a739",
   "metadata": {},
   "outputs": [],
   "source": []
  }
 ],
 "metadata": {
  "kernelspec": {
   "display_name": "Python 3 (ipykernel)",
   "language": "python",
   "name": "python3"
  },
  "language_info": {
   "codemirror_mode": {
    "name": "ipython",
    "version": 3
   },
   "file_extension": ".py",
   "mimetype": "text/x-python",
   "name": "python",
   "nbconvert_exporter": "python",
   "pygments_lexer": "ipython3",
   "version": "3.9.7"
  }
 },
 "nbformat": 4,
 "nbformat_minor": 5
}
