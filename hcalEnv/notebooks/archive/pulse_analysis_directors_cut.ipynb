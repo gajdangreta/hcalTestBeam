{
 "cells": [
  {
   "cell_type": "code",
   "execution_count": null,
   "id": "ef3ead8e-625a-473c-92d1-37b83e1200e4",
   "metadata": {},
   "outputs": [],
   "source": [
    "# non_TOT=big_df[(big_df[\"tot_end0\"]==0) & (big_df[\"tot_end1\"]==0)]\n",
    "\n",
    "# len(big_df[(big_df[\"toa_end0\"]==0) & (big_df[\"problem_type\"])])/len(big_df)\n",
    "# len(non_TOT[(non_TOT[\"toa_end0\"]==0) & (non_TOT[\"problem_type\"])])/len(non_TOT)\n",
    "\n",
    "# len(non_TOT)\n",
    "# len(big_df)"
   ]
  },
  {
   "cell_type": "code",
   "execution_count": null,
   "id": "2c1ca8eb-1d32-43e7-a55a-88303b42533a",
   "metadata": {},
   "outputs": [],
   "source": [
    "# big_df[(big_df[\"toa_end0\"]==0) & (big_df[\"problem_type\"])]\n",
    "# non_TOT[(non_TOT[\"toa_end0\"]==0) & (non_TOT[\"problem_type\"])]"
   ]
  },
  {
   "cell_type": "code",
   "execution_count": null,
   "id": "3e75934d-e849-4af4-a7bc-860637342120",
   "metadata": {},
   "outputs": [],
   "source": [
    "# wavy=non_TOT[non_TOT[\"problem_type\"]==\"WAVE\"]\n",
    "# late=non_TOT[non_TOT[\"problem_type\"]==\"LATE\"]\n",
    "# spiky=non_TOT[(non_TOT[\"problem_type\"]==\"SPIKE_0\") | (non_TOT[\"problem_type\"]==\"SPIKE_1\")]"
   ]
  },
  {
   "cell_type": "code",
   "execution_count": null,
   "id": "234857e8-9822-4a34-bf99-86b915a502ae",
   "metadata": {},
   "outputs": [],
   "source": [
    "hand_bins=np.linspace(50,7250,51)\n",
    "\n",
    "# a,_=np.histogram(non_TOT[\"adc_sum_end0\"], bins=hand_bins)\n",
    "# w,_=np.histogram(wavy[\"adc_sum_end0\"], bins=hand_bins)\n",
    "# l,_=np.histogram(late[\"adc_sum_end0\"], bins=hand_bins)\n",
    "# s,_=np.histogram(spiky[\"adc_sum_end0\"], bins=hand_bins)\n",
    "\n",
    "a_all,_=np.histogram(big_df[\"adc_sum_end0\"], bins=hand_bins)\n",
    "w_all,_=np.histogram(wavy_all[\"adc_sum_end0\"], bins=hand_bins)\n",
    "l_all,_=np.histogram(late_all[\"adc_sum_end0\"], bins=hand_bins)\n",
    "s_all,_=np.histogram(spiky_all[\"adc_sum_end0\"], bins=hand_bins)\n",
    "\n",
    "# wavy_share=w/a\n",
    "# late_share=l/a\n",
    "# spiky_share=s/a\n",
    "\n",
    "wavy_share_all=w_all/a_all\n",
    "late_share_all=l_all/a_all\n",
    "spiky_share_all=s_all/a_all"
   ]
  },
  {
   "cell_type": "code",
   "execution_count": null,
   "id": "3e10f769-bb46-4e84-a670-07f8dd94d7f4",
   "metadata": {},
   "outputs": [],
   "source": [
    "plt.rcParams[\"figure.figsize\"]=(12,3)\n",
    "\n",
    "plt.subplot(1,3,1)\n",
    "# plt.title(\"Error: Wavy\")\n",
    "# plt.hist(hand_bins[:-1],hand_bins,weights= wavy_share, alpha=0.5, color=\"magenta\", label=\"No TOT\")\n",
    "plt.hist(hand_bins[:-1],hand_bins,weights= w_all, alpha=0.5, color=\"dodgerblue\", label=\"Wavy\")\n",
    "plt.xlabel(\"Sum ADC\", fontsize=12)\n",
    "plt.ylabel(\"Number of errors\", fontsize=12)\n",
    "plt.ylim(0,ymax)\n",
    "plt.xlim(0,hand_bins[-1])\n",
    "plt.legend(fontsize=12)\n",
    "\n",
    "plt.subplot(1,3,2)\n",
    "# plt.title(\"Error: Late\")\n",
    "# plt.hist(hand_bins[:-1],hand_bins,weights= late_share, alpha=0.5, color=\"magenta\", label=\"NO TOT\")\n",
    "plt.hist(hand_bins[:-1],hand_bins,weights= l_all, alpha=0.5, color=\"firebrick\", label=\"Mistimed\")\n",
    "plt.xlabel(\"Sum ADC\", fontsize=12)\n",
    "#plt.ylabel(\"Chance of error\")\n",
    "plt.ylim(0,ymax)\n",
    "plt.xlim(0,hand_bins[-1])\n",
    "plt.legend(fontsize=12)\n",
    "\n",
    "plt.subplot(1,3,3)\n",
    "# plt.title(\"Errror: Spiky\")\n",
    "# plt.hist(hand_bins[:-1],hand_bins,weights= spiky_share, alpha=0.5, color=\"magenta\", label=\"NO TOT\")\n",
    "plt.hist(hand_bins[:-1],hand_bins,weights= s_all, alpha=0.5, color=\"forestgreen\", label=\"Spiky\")\n",
    "plt.xlabel(\"Sum ADC\", fontsize=12)\n",
    "#plt.ylabel(\"Chance of error\")\n",
    "plt.ylim(0,ymax)\n",
    "plt.xlim(0,hand_bins[-1])\n",
    "plt.legend(fontsize=12)\n",
    "\n",
    "plt.tight_layout()\n",
    "\n",
    "# plt.savefig(p_folder+\"error_energy_spectrum.png\", bbox_inches='tight')\n",
    "plt.show()"
   ]
  }
 ],
 "metadata": {
  "kernelspec": {
   "display_name": "Python 3 (ipykernel)",
   "language": "python",
   "name": "python3"
  },
  "language_info": {
   "codemirror_mode": {
    "name": "ipython",
    "version": 3
   },
   "file_extension": ".py",
   "mimetype": "text/x-python",
   "name": "python",
   "nbconvert_exporter": "python",
   "pygments_lexer": "ipython3",
   "version": "3.10.12"
  }
 },
 "nbformat": 4,
 "nbformat_minor": 5
}
