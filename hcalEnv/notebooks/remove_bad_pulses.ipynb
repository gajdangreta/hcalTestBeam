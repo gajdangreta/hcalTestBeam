{
 "cells": [
  {
   "cell_type": "code",
   "execution_count": 1,
   "id": "b22db488-5a2c-467d-891d-0a5f5c57408f",
   "metadata": {},
   "outputs": [],
   "source": [
    "import numpy as np\n",
    "import matplotlib.pyplot as plt\n",
    "import scipy.signal as sig\n",
    "from tqdm import tqdm\n",
    "import sys\n",
    "sys.path.append(\"../src\")\n",
    "from event_selections import *"
   ]
  },
  {
   "cell_type": "code",
   "execution_count": 2,
   "id": "14fc99c3-9f6a-4f47-90bf-0b1e0b2e1a8a",
   "metadata": {},
   "outputs": [],
   "source": [
    "pd.set_option('display.max_columns', None)"
   ]
  },
  {
   "cell_type": "code",
   "execution_count": 3,
   "id": "ba8cc114-1240-4d4c-8cea-ed68d0dcdcb2",
   "metadata": {},
   "outputs": [],
   "source": [
    "def drop_columns(df):\n",
    "    #kept_columns=['layer', 'strip', 'pedestal', 'pf_event', 'adc_sum_end0', 'adc_sum_end1', 'end', 'mpv', 'std_dev']\n",
    "    #df=df[df.columns.intersection(kept_columns)]\n",
    "    return df\n",
    "\n",
    "def import_data(calibration_folder, data_folder, run_n):\n",
    "    pedestals=drop_columns(pd.read_csv(calibration_folder+\"/pedestals_MIP.csv\", sep=','))\n",
    "    mips=drop_columns(pd.read_csv(calibration_folder+\"/mip.csv\", sep=','))\n",
    "    run=drop_columns(pd.read_csv(data_folder+\"/run_\"+str(run_n)+\"_pulse.csv\", sep=','))\n",
    "    # run=run.astype({\"adc_sum_end0\":float,\"adc_sum_end1\":float}) \n",
    "    return pedestals,mips,run"
   ]
  },
  {
   "cell_type": "code",
   "execution_count": 4,
   "id": "e79190a6-02d9-4f44-97fb-cdd376a8086c",
   "metadata": {},
   "outputs": [],
   "source": [
    "def drop_empty(df):\n",
    "    data=[]\n",
    "\n",
    "    layers=np.arange(1,20)\n",
    "    strips=np.arange(0,12)\n",
    "    \n",
    "    for layer in layers:\n",
    "        for strip in strips:\n",
    "            el=choose_bar(df,layer,strip)\n",
    "            peds=choose_bar(pedestal_df,layer,strip)\n",
    "            # for now, we don't deal with conversion to MeV\n",
    "            #mip=choose_bar(mips, layer, strip)\n",
    "\n",
    "            if not peds.empty: # need to check whether the strip exists \n",
    "                \n",
    "                # check whetehr signal is large enough\n",
    "                el=el[el[\"adc_sum_end0\"]>(peds.iloc[0,3]+5*peds.iloc[0,5])] \n",
    "                el=el[el[\"adc_sum_end1\"]>(peds.iloc[1,3]+5*peds.iloc[1,5])] \n",
    "\n",
    "                # subtract from sum\n",
    "                el.loc[:,\"adc_sum_end0\"]-=peds.iloc[0,3]\n",
    "                el.loc[:,\"adc_sum_end1\"]-=peds.iloc[1,3]\n",
    "                \n",
    "                # subtract from max\n",
    "                el.loc[:,\"adc_max_end0\"]-=peds.iloc[0,6]\n",
    "                el.loc[:,\"adc_max_end1\"]-=peds.iloc[1,6]\n",
    "\n",
    "                # subtract from mean\n",
    "                el.loc[:,\"adc_mean_end0\"]-=peds.iloc[0,6]\n",
    "                el.loc[:,\"adc_mean_end1\"]-=peds.iloc[1,6]\n",
    "                \n",
    "                # miniped=peds.iloc[0,-2]/8\n",
    "                # miniped1=peds.iloc[1,-2]/8\n",
    "\n",
    "                # subtract from timestamps\n",
    "                el.loc[:,\"adc_0_end0\"]-=peds.iloc[0,6]\n",
    "                el.loc[:,\"adc_1_end0\"]-=peds.iloc[0,6]\n",
    "                el.loc[:,\"adc_2_end0\"]-=peds.iloc[0,6]\n",
    "                el.loc[:,\"adc_3_end0\"]-=peds.iloc[0,6]\n",
    "                el.loc[:,\"adc_4_end0\"]-=peds.iloc[0,6]\n",
    "                el.loc[:,\"adc_5_end0\"]-=peds.iloc[0,6]\n",
    "                el.loc[:,\"adc_6_end0\"]-=peds.iloc[0,6]\n",
    "                el.loc[:,\"adc_7_end0\"]-=peds.iloc[0,6]\n",
    "\n",
    "                el.loc[:,\"adc_0_end1\"]-=peds.iloc[1,6]\n",
    "                el.loc[:,\"adc_1_end1\"]-=peds.iloc[1,6]\n",
    "                el.loc[:,\"adc_2_end1\"]-=peds.iloc[1,6]\n",
    "                el.loc[:,\"adc_3_end1\"]-=peds.iloc[1,6]\n",
    "                el.loc[:,\"adc_4_end1\"]-=peds.iloc[1,6]\n",
    "                el.loc[:,\"adc_5_end1\"]-=peds.iloc[1,6]\n",
    "                el.loc[:,\"adc_6_end1\"]-=peds.iloc[1,6]\n",
    "                el.loc[:,\"adc_7_end1\"]-=peds.iloc[1,6]\n",
    "                \n",
    "                data.extend(el.values.tolist())\n",
    "                \n",
    "    names=list(df.columns)\n",
    "\n",
    "    df_s=pd.DataFrame(data, columns=names)\n",
    "    \n",
    "    return df_s"
   ]
  },
  {
   "cell_type": "code",
   "execution_count": 5,
   "id": "b5468c3b-d5aa-47ba-a470-7737ff3b0366",
   "metadata": {},
   "outputs": [],
   "source": [
    "c_folder=\"../../data/calibration\"\n",
    "d_folder=\"../../data/runData\"\n",
    "r_n=307\n",
    "pulsed=True\n",
    "p_folder=\"../../plots/run_\"+str(r_n)"
   ]
  },
  {
   "cell_type": "code",
   "execution_count": 6,
   "id": "06ee6fbe-90d9-4a86-a743-20af6c78df60",
   "metadata": {},
   "outputs": [],
   "source": [
    "pedestal_df, mip_df, run_df=import_data(c_folder, d_folder,r_n)"
   ]
  },
  {
   "cell_type": "code",
   "execution_count": 7,
   "id": "658c958b-cc6b-4008-8d7d-7e3cdf74aea0",
   "metadata": {},
   "outputs": [],
   "source": [
    "# first, we drop the TOA columns. TOA has proven to be unreliable in telling whether there is an incoming pulse or not\n",
    "run_df=run_df.drop(columns=['toa_end0', 'toa_end1'])"
   ]
  },
  {
   "cell_type": "code",
   "execution_count": 8,
   "id": "23b97650-fbdf-4f0d-bb7c-cf540356867c",
   "metadata": {},
   "outputs": [],
   "source": [
    "# next, we drop every bar that is \"empty\", meaning that the signal does not go above pedestal + 5 sigma\n",
    "# we also subtract pedestals in this step\n",
    "run_df=drop_empty(run_df)"
   ]
  },
  {
   "cell_type": "code",
   "execution_count": 9,
   "id": "edd02a2f-e6e8-40df-b1b9-aacc07b2c46f",
   "metadata": {},
   "outputs": [],
   "source": [
    "def isolate_pulse_data(row):\n",
    "    end0 = []\n",
    "    end1 = []\n",
    "\n",
    "    for j in range(8):\n",
    "        adc_end0_col = f'adc_{j}_end0'\n",
    "        adc_end1_col = f'adc_{j}_end1'\n",
    "        \n",
    "        end0_val = row[adc_end0_col]\n",
    "        end1_val = row[adc_end1_col]\n",
    "        \n",
    "        end0.append(end0_val)\n",
    "        end1.append(end1_val)\n",
    "\n",
    "    end0 = np.array(end0)\n",
    "    end1 = np.array(end1)\n",
    "    return end0,end1"
   ]
  },
  {
   "cell_type": "code",
   "execution_count": 10,
   "id": "115aac7e-8876-4404-943f-0339fc62613f",
   "metadata": {},
   "outputs": [],
   "source": [
    "def plot_pulse(end0, end1, layer, bar, event):\n",
    "    plt.scatter(np.arange(8), end0, label=\"end0\", c=\"cyan\", alpha=0.5)\n",
    "    plt.scatter(np.arange(8), end1, label=\"end1\", c=\"magenta\", alpha=0.5)\n",
    "    plt.xlabel(\"Timestep\")\n",
    "    plt.ylabel(\"ADC\")\n",
    "    plt.title(\"Layer: \"+str(layer)+\" Bar: \"+str(bar)+\" Event: \"+str(event))\n",
    "    plt.legend()\n",
    "    plt.show()\n",
    "    return"
   ]
  },
  {
   "cell_type": "code",
   "execution_count": 11,
   "id": "41ab7be7-f0d9-4292-b921-e2642e951b9c",
   "metadata": {},
   "outputs": [],
   "source": [
    "def does_pulse_dip(end, p_df, layer, bar, which):\n",
    "    # get standard deviation of pedestal. I believe this is equivalent to the uncertainty of ani measurement\n",
    "    # or at least it is a way to approximate that\n",
    "    \n",
    "    end_std=p_df[(p_df.layer==layer) & (p_df.strip==bar) & (p_df.end==which)].iloc[0][\"pedestal_per_time_sample_std_dev\"]\n",
    "\n",
    "    # I think this doesn't catch dips that have a perfectly flat bottom\n",
    "    end_diff=np.diff(end)\n",
    "    end_sign=np.sign(end_diff)\n",
    "    end_sdiff=np.diff(end_sign)\n",
    "\n",
    "    dip_loc=np.isin(end_sdiff,2)\n",
    "    dip_loc=np.append(dip_loc,False)\n",
    "    dip_value=abs(end_diff[dip_loc])\n",
    "\n",
    "    if dip_value.size==1 and dip_value>5*end_std:\n",
    "        return 1\n",
    "    elif dip_value.size>1 and dip_value.any()>5*end_std:\n",
    "        print(\"Something went wrong.\")\n",
    "        return 1\n",
    "        \n",
    "    # there could be some failsafe here but I cannot be bothered rn\n",
    "    return 0\n",
    "    "
   ]
  },
  {
   "cell_type": "code",
   "execution_count": 12,
   "id": "363b8483-60be-47bc-bc1b-13400473b911",
   "metadata": {},
   "outputs": [],
   "source": [
    "def late_filter(end):\n",
    "    tolerance = 0.2\n",
    "    if end[-1] >= (end[0] + max(end) * tolerance) or (end[-1] <= end[0] - max(end) * tolerance):\n",
    "\n",
    "        tolerance = 0.1\n",
    "        if end[1] <= (end[0] + end[0] * tolerance) and end[1] >= (end[0] - end[0] * tolerance):\n",
    "            if end[2] <= (end[0] + end[0] * tolerance) and end[2] >= (end[0] - end[0] * tolerance):\n",
    "                return 1\n",
    "\n",
    "    return 0"
   ]
  },
  {
   "cell_type": "code",
   "execution_count": 13,
   "id": "2b49d72d-b513-4486-811f-90a0f6da0fd9",
   "metadata": {},
   "outputs": [],
   "source": [
    "def categorize_pulses(row, p_df):\n",
    "    out_line=[row.name]\n",
    "    \n",
    "    # isolating datapoints from row\n",
    "    end0, end1=isolate_pulse_data(row)\n",
    "\n",
    "    # preparing to filter\n",
    "    layer=row[\"layer\"]    # used as variables to avoid frequent lookup\n",
    "    bar=row[\"strip\"]\n",
    "    event=row[\"pf_event\"]\n",
    "\n",
    "    out_line.append(layer)\n",
    "    out_line.append(bar)\n",
    "    out_line.append(event)\n",
    "\n",
    "    # spike and dip filter\n",
    "    \n",
    "    dip_end0=does_pulse_dip(end0, p_df, layer, bar, 0)\n",
    "    dip_end1=does_pulse_dip(end1, p_df, layer, bar, 1)\n",
    "\n",
    "    if dip_end0==1 and dip_end1==1:\n",
    "        #print(\"Wavy pulse\")\n",
    "        out_line.append(1)\n",
    "        out_line.append(\"WAVE\")\n",
    "    elif dip_end0==1 and dip_end1==0:\n",
    "        #print(\"Spike in end0\")\n",
    "        out_line.append(1)\n",
    "        out_line.append(\"SPIKE_0\")\n",
    "    elif dip_end0==0 and dip_end1==1:\n",
    "        #print(\"Spike in end0\")\n",
    "        out_line.append(1)\n",
    "        out_line.append(\"SPIKE_1\")\n",
    "    else:\n",
    "        #print(\"No dipping\")\n",
    "\n",
    "        late_end0=late_filter(end0)\n",
    "        late_end1=late_filter(end1)\n",
    "    \n",
    "        if late_end0==1 or late_end1==1:\n",
    "            #print(\"Late pulse\")\n",
    "            out_line.append(1)\n",
    "            out_line.append(\"LATE\")\n",
    "        else:\n",
    "            #print(\"Good pulse\")\n",
    "            out_line.append(0)\n",
    "            out_line.append(\"NaN\")\n",
    "\n",
    "    \n",
    "    \n",
    "    #plot_pulse(end0, end1, layer, bar, event)\n",
    "    return out_line"
   ]
  },
  {
   "cell_type": "code",
   "execution_count": 14,
   "id": "f6d15dd1-7388-4fdb-9390-e64cd727f370",
   "metadata": {},
   "outputs": [
    {
     "name": "stderr",
     "output_type": "stream",
     "text": [
      "100%|██████████████████████████████████| 172271/172271 [04:36<00:00, 623.69it/s]\n"
     ]
    }
   ],
   "source": [
    "tqdm.pandas()\n",
    "problems=run_df.progress_apply(categorize_pulses, args=(pedestal_df,), axis=1).values.tolist()"
   ]
  },
  {
   "cell_type": "code",
   "execution_count": 15,
   "id": "620cbf4f-18ee-4874-9130-12438d615a02",
   "metadata": {},
   "outputs": [],
   "source": [
    "pulse_df=pd.DataFrame(problems, columns=[\"index\",\"layer\", \"bar\", \"event\", \"has_problem\", \"problem_type\"])\n",
    "pulse_df.set_index(\"index\", inplace=True)"
   ]
  },
  {
   "cell_type": "code",
   "execution_count": 16,
   "id": "0f89f472-0e0d-42ac-8caa-95d2aed53c06",
   "metadata": {},
   "outputs": [
    {
     "data": {
      "text/html": [
       "<div>\n",
       "<style scoped>\n",
       "    .dataframe tbody tr th:only-of-type {\n",
       "        vertical-align: middle;\n",
       "    }\n",
       "\n",
       "    .dataframe tbody tr th {\n",
       "        vertical-align: top;\n",
       "    }\n",
       "\n",
       "    .dataframe thead th {\n",
       "        text-align: right;\n",
       "    }\n",
       "</style>\n",
       "<table border=\"1\" class=\"dataframe\">\n",
       "  <thead>\n",
       "    <tr style=\"text-align: right;\">\n",
       "      <th></th>\n",
       "      <th>layer</th>\n",
       "      <th>bar</th>\n",
       "      <th>event</th>\n",
       "      <th>has_problem</th>\n",
       "      <th>problem_type</th>\n",
       "    </tr>\n",
       "    <tr>\n",
       "      <th>index</th>\n",
       "      <th></th>\n",
       "      <th></th>\n",
       "      <th></th>\n",
       "      <th></th>\n",
       "      <th></th>\n",
       "    </tr>\n",
       "  </thead>\n",
       "  <tbody>\n",
       "    <tr>\n",
       "      <th>0</th>\n",
       "      <td>1.0</td>\n",
       "      <td>0.0</td>\n",
       "      <td>36.0</td>\n",
       "      <td>0</td>\n",
       "      <td>NaN</td>\n",
       "    </tr>\n",
       "    <tr>\n",
       "      <th>1</th>\n",
       "      <td>1.0</td>\n",
       "      <td>0.0</td>\n",
       "      <td>91.0</td>\n",
       "      <td>0</td>\n",
       "      <td>NaN</td>\n",
       "    </tr>\n",
       "    <tr>\n",
       "      <th>2</th>\n",
       "      <td>1.0</td>\n",
       "      <td>0.0</td>\n",
       "      <td>175.0</td>\n",
       "      <td>0</td>\n",
       "      <td>NaN</td>\n",
       "    </tr>\n",
       "    <tr>\n",
       "      <th>3</th>\n",
       "      <td>1.0</td>\n",
       "      <td>0.0</td>\n",
       "      <td>277.0</td>\n",
       "      <td>0</td>\n",
       "      <td>NaN</td>\n",
       "    </tr>\n",
       "    <tr>\n",
       "      <th>4</th>\n",
       "      <td>1.0</td>\n",
       "      <td>0.0</td>\n",
       "      <td>368.0</td>\n",
       "      <td>0</td>\n",
       "      <td>NaN</td>\n",
       "    </tr>\n",
       "  </tbody>\n",
       "</table>\n",
       "</div>"
      ],
      "text/plain": [
       "       layer  bar  event  has_problem problem_type\n",
       "index                                             \n",
       "0        1.0  0.0   36.0            0          NaN\n",
       "1        1.0  0.0   91.0            0          NaN\n",
       "2        1.0  0.0  175.0            0          NaN\n",
       "3        1.0  0.0  277.0            0          NaN\n",
       "4        1.0  0.0  368.0            0          NaN"
      ]
     },
     "execution_count": 16,
     "metadata": {},
     "output_type": "execute_result"
    }
   ],
   "source": [
    "pulse_df.head()"
   ]
  },
  {
   "cell_type": "code",
   "execution_count": 22,
   "id": "8917b38d-5b30-48dd-9973-3434fa13a219",
   "metadata": {},
   "outputs": [],
   "source": [
    "# pulse_df.to_csv(d_folder+\"/run_\"+str(r_n)+\"_pulse_problems.csv\")"
   ]
  },
  {
   "cell_type": "code",
   "execution_count": null,
   "id": "fdaae96e-8c8e-4266-a526-2598948fce9b",
   "metadata": {},
   "outputs": [],
   "source": []
  }
 ],
 "metadata": {
  "kernelspec": {
   "display_name": "Python 3 (ipykernel)",
   "language": "python",
   "name": "python3"
  },
  "language_info": {
   "codemirror_mode": {
    "name": "ipython",
    "version": 3
   },
   "file_extension": ".py",
   "mimetype": "text/x-python",
   "name": "python",
   "nbconvert_exporter": "python",
   "pygments_lexer": "ipython3",
   "version": "3.10.12"
  }
 },
 "nbformat": 4,
 "nbformat_minor": 5
}
